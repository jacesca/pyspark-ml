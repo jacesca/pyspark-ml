{
 "cells": [
  {
   "cell_type": "markdown",
   "id": "0d9f96b6-f713-43fe-a543-164a5372f1c5",
   "metadata": {},
   "source": [
    "# PySpark ML - Regression\n",
    "\n",
    "Next you'll learn to create Linear Regression models. You'll also find out how to augment your data by engineering new predictors as well as a robust approach to selecting only the most relevant predictors.\n",
    "\n",
    "## Preparing the environment\n",
    "\n",
    "### Importing libraries"
   ]
  },
  {
   "cell_type": "code",
   "execution_count": 1,
   "id": "c21458f8-1acd-43a2-9cc6-306b920957ec",
   "metadata": {},
   "outputs": [],
   "source": [
    "import matplotlib.pyplot as plt\n",
    "import seaborn as sns\n",
    "import pandas as pd\n",
    "\n",
    "from environment import SEED, histogram_boxplot\n",
    "from pyspark.sql.types import (StructType, StructField,\n",
    "                               DoubleType, IntegerType, StringType)\n",
    "from pyspark.sql import SparkSession, functions as F\n",
    "from pyspark.mllib.linalg import DenseVector, SparseVector\n",
    "from pyspark.ml.feature import (OneHotEncoder, StringIndexer, VectorAssembler,\n",
    "                                Bucketizer)\n",
    "from pyspark.ml.regression import LinearRegression\n",
    "from pyspark.ml.evaluation import RegressionEvaluator\n",
    "\n",
    "from pyspark_dist_explore import hist"
   ]
  },
  {
   "cell_type": "markdown",
   "id": "ffb12e47-14ed-4e04-bc56-4e38f659c2b3",
   "metadata": {},
   "source": [
    "### Connect to Spark"
   ]
  },
  {
   "cell_type": "code",
   "execution_count": 2,
   "id": "067fae1d-87c8-420a-9970-2287108b60f9",
   "metadata": {},
   "outputs": [
    {
     "name": "stdout",
     "output_type": "stream",
     "text": [
      "Spark version: 3.5.1\n"
     ]
    }
   ],
   "source": [
    "spark = (SparkSession.builder\n",
    "                     .master('local[*]') \\\n",
    "                     .appName('spark_application') \\\n",
    "                     .config(\"spark.sql.repl.eagerEval.enabled\", True)  # eval DataFrame in notebooks\n",
    "                     .getOrCreate())\n",
    "\n",
    "sc = spark.sparkContext\n",
    "print(f'Spark version: {spark.version}')"
   ]
  },
  {
   "cell_type": "markdown",
   "id": "18ea8ed5-a73b-4a7f-9587-9dff5833f1d9",
   "metadata": {},
   "source": [
    "## Loading data\n",
    "\n",
    "### Flights"
   ]
  },
  {
   "cell_type": "code",
   "execution_count": 3,
   "id": "581ac1df-5a2d-4399-badf-5650f82ca852",
   "metadata": {},
   "outputs": [
    {
     "name": "stdout",
     "output_type": "stream",
     "text": [
      "Dataframe shape: (47022, 11)\n",
      "root\n",
      " |-- mon: integer (nullable = true)\n",
      " |-- dom: integer (nullable = true)\n",
      " |-- dow: integer (nullable = true)\n",
      " |-- carrier: string (nullable = true)\n",
      " |-- flight: integer (nullable = true)\n",
      " |-- org: string (nullable = true)\n",
      " |-- mile: integer (nullable = true)\n",
      " |-- depart: double (nullable = true)\n",
      " |-- duration: integer (nullable = true)\n",
      " |-- delay: integer (nullable = true)\n",
      " |-- km: double (nullable = true)\n",
      "\n"
     ]
    },
    {
     "data": {
      "text/html": [
       "<table border='1'>\n",
       "<tr><th>mon</th><th>dom</th><th>dow</th><th>carrier</th><th>flight</th><th>org</th><th>mile</th><th>depart</th><th>duration</th><th>delay</th><th>km</th></tr>\n",
       "<tr><td>0</td><td>22</td><td>2</td><td>UA</td><td>1107</td><td>ORD</td><td>316</td><td>16.33</td><td>82</td><td>30</td><td>509.0</td></tr>\n",
       "<tr><td>2</td><td>20</td><td>4</td><td>UA</td><td>226</td><td>SFO</td><td>337</td><td>6.17</td><td>82</td><td>-8</td><td>542.0</td></tr>\n",
       "</table>\n"
      ],
      "text/plain": [
       "+---+---+---+-------+------+---+----+------+--------+-----+-----+\n",
       "|mon|dom|dow|carrier|flight|org|mile|depart|duration|delay|   km|\n",
       "+---+---+---+-------+------+---+----+------+--------+-----+-----+\n",
       "|  0| 22|  2|     UA|  1107|ORD| 316| 16.33|      82|   30|509.0|\n",
       "|  2| 20|  4|     UA|   226|SFO| 337|  6.17|      82|   -8|542.0|\n",
       "+---+---+---+-------+------+---+----+------+--------+-----+-----+"
      ]
     },
     "execution_count": 3,
     "metadata": {},
     "output_type": "execute_result"
    }
   ],
   "source": [
    "# Reading the file\n",
    "schema_flights = StructType([\n",
    "    StructField(\"mon\", IntegerType()),\n",
    "    StructField(\"dom\", IntegerType()),\n",
    "    StructField(\"dow\", IntegerType()),\n",
    "    StructField(\"carrier\", StringType()),\n",
    "    StructField(\"flight\", IntegerType()),\n",
    "    StructField(\"org\", StringType()),\n",
    "    StructField(\"mile\", IntegerType()),\n",
    "    StructField(\"depart\", DoubleType()),\n",
    "    StructField(\"duration\", IntegerType()),\n",
    "    StructField(\"delay\", IntegerType())\n",
    "])\n",
    "flights_data = spark.read.csv('data-sources/flights.csv', header=True, schema=schema_flights, nullValue='NA')\n",
    "\n",
    "# Cleaning and mutating some columns\n",
    "flights_data = flights_data.dropna()\n",
    "flights_data = flights_data.withColumn('km', F.round(flights_data['mile'] * 1.60934, 0))\n",
    "\n",
    "# Reviewing the result\n",
    "flights_data.createOrReplaceTempView(\"flights\")\n",
    "print(f'Dataframe shape: ({flights_data.count()}, {len(flights_data.columns)})')\n",
    "flights_data.printSchema()\n",
    "flights_data.limit(2)"
   ]
  },
  {
   "cell_type": "markdown",
   "id": "a338d66b-b8a4-45ea-866b-25e271d7e3af",
   "metadata": {},
   "source": [
    "### SMS"
   ]
  },
  {
   "cell_type": "code",
   "execution_count": 4,
   "id": "dca86e2e-43d4-4688-919a-c7740c20ae68",
   "metadata": {},
   "outputs": [
    {
     "name": "stdout",
     "output_type": "stream",
     "text": [
      "Dataframe shape: (5574, 3)\n",
      "root\n",
      " |-- id: integer (nullable = true)\n",
      " |-- text: string (nullable = true)\n",
      " |-- label: integer (nullable = true)\n",
      "\n"
     ]
    },
    {
     "data": {
      "text/html": [
       "<table border='1'>\n",
       "<tr><th>id</th><th>text</th><th>label</th></tr>\n",
       "<tr><td>1</td><td>Sorry, I'll call ...</td><td>0</td></tr>\n",
       "<tr><td>2</td><td>Dont worry. I gue...</td><td>0</td></tr>\n",
       "</table>\n"
      ],
      "text/plain": [
       "+---+--------------------+-----+\n",
       "| id|                text|label|\n",
       "+---+--------------------+-----+\n",
       "|  1|Sorry, I'll call ...|    0|\n",
       "|  2|Dont worry. I gue...|    0|\n",
       "+---+--------------------+-----+"
      ]
     },
     "execution_count": 4,
     "metadata": {},
     "output_type": "execute_result"
    }
   ],
   "source": [
    "# Reading the file\n",
    "schema_sms = StructType([\n",
    "    StructField(\"id\", IntegerType()),\n",
    "    StructField(\"text\", StringType()),\n",
    "    StructField(\"label\", IntegerType())\n",
    "])\n",
    "sms_data = spark.read.csv(\"data-sources/sms.csv\", sep=';', header=False, schema=schema_sms)\n",
    "\n",
    "# Reviewing the result\n",
    "sms_data.createOrReplaceTempView(\"sms\")\n",
    "print(f'Dataframe shape: ({sms_data.count()}, {len(sms_data.columns)})')\n",
    "sms_data.printSchema()\n",
    "sms_data.limit(2)"
   ]
  },
  {
   "cell_type": "markdown",
   "id": "ffc98025-d53b-480d-965d-9e24d5ebdf9c",
   "metadata": {},
   "source": [
    "### Cars"
   ]
  },
  {
   "cell_type": "code",
   "execution_count": 5,
   "id": "cad91f26-558e-4cc4-a0c9-c02c1bfddcb2",
   "metadata": {},
   "outputs": [
    {
     "name": "stdout",
     "output_type": "stream",
     "text": [
      "Dataframe shape: (92, 11)\n",
      "root\n",
      " |-- maker: string (nullable = true)\n",
      " |-- model: string (nullable = true)\n",
      " |-- origin: string (nullable = true)\n",
      " |-- type: string (nullable = true)\n",
      " |-- cyl: integer (nullable = true)\n",
      " |-- size: double (nullable = true)\n",
      " |-- weight: integer (nullable = true)\n",
      " |-- length: double (nullable = true)\n",
      " |-- rpm: integer (nullable = true)\n",
      " |-- consumption: double (nullable = true)\n",
      " |-- mass: double (nullable = true)\n",
      "\n"
     ]
    },
    {
     "data": {
      "text/html": [
       "<table border='1'>\n",
       "<tr><th>maker</th><th>model</th><th>origin</th><th>type</th><th>cyl</th><th>size</th><th>weight</th><th>length</th><th>rpm</th><th>consumption</th><th>mass</th></tr>\n",
       "<tr><td>Geo</td><td>Metro</td><td>non-USA</td><td>Small</td><td>3</td><td>1.0</td><td>1695</td><td>3.835</td><td>5700</td><td>7.571</td><td>769.0</td></tr>\n",
       "<tr><td>Honda</td><td>Civic</td><td>non-USA</td><td>Small</td><td>4</td><td>1.5</td><td>2350</td><td>4.394</td><td>5900</td><td>8.214</td><td>1066.0</td></tr>\n",
       "</table>\n"
      ],
      "text/plain": [
       "+-----+-----+-------+-----+---+----+------+------+----+-----------+------+\n",
       "|maker|model| origin| type|cyl|size|weight|length| rpm|consumption|  mass|\n",
       "+-----+-----+-------+-----+---+----+------+------+----+-----------+------+\n",
       "|  Geo|Metro|non-USA|Small|  3| 1.0|  1695| 3.835|5700|      7.571| 769.0|\n",
       "|Honda|Civic|non-USA|Small|  4| 1.5|  2350| 4.394|5900|      8.214|1066.0|\n",
       "+-----+-----+-------+-----+---+----+------+------+----+-----------+------+"
      ]
     },
     "execution_count": 5,
     "metadata": {},
     "output_type": "execute_result"
    }
   ],
   "source": [
    "# Reading the file\n",
    "schema_cars = StructType([\n",
    "    StructField(\"maker\", StringType()),\n",
    "    StructField(\"model\", StringType()),\n",
    "    StructField(\"origin\", StringType()),\n",
    "    StructField(\"type\", StringType()),\n",
    "    StructField(\"cyl\", IntegerType()),\n",
    "    StructField(\"size\", DoubleType()),\n",
    "    StructField(\"weight\", IntegerType()),\n",
    "    StructField(\"length\", DoubleType()),\n",
    "    StructField(\"rpm\", IntegerType()),\n",
    "    StructField(\"consumption\", DoubleType())\n",
    "])\n",
    "cars_data = spark.read.csv('data-sources/cars.csv', header=True, schema=schema_cars, nullValue='NA')\n",
    "\n",
    "# Cleaning and mutating some columns\n",
    "cars_data = cars_data.dropna()\n",
    "cars_data = cars_data.withColumn('mass', F.round(cars_data.weight / 2.205, 0))\n",
    "cars_data = cars_data.withColumn('length', F.round(cars_data.length * 0.0254, 3))\n",
    "cars_data = cars_data.withColumn('consumption', F.round(cars_data.consumption * 3.78541, 3))\n",
    "\n",
    "# Reviewing the result\n",
    "cars_data.createOrReplaceTempView(\"cars\")\n",
    "print(f'Dataframe shape: ({cars_data.count()}, {len(cars_data.columns)})')\n",
    "cars_data.printSchema()\n",
    "cars_data.limit(2)"
   ]
  },
  {
   "cell_type": "markdown",
   "id": "51c6d660-df30-4447-b388-f6bc0c9ea2ce",
   "metadata": {},
   "source": [
    "### Books"
   ]
  },
  {
   "cell_type": "code",
   "execution_count": 6,
   "id": "eca1f144-9dab-434e-851f-e08d48710c0a",
   "metadata": {},
   "outputs": [
    {
     "name": "stdout",
     "output_type": "stream",
     "text": [
      "Dataframe shape: (92, 11)\n",
      "root\n",
      " |-- id: integer (nullable = true)\n",
      " |-- text: string (nullable = true)\n",
      "\n"
     ]
    },
    {
     "data": {
      "text/html": [
       "<table border='1'>\n",
       "<tr><th>id</th><th>text</th></tr>\n",
       "<tr><td>0</td><td>Forever, or a Lon...</td></tr>\n",
       "<tr><td>1</td><td>Winnie-the-Pooh</td></tr>\n",
       "</table>\n"
      ],
      "text/plain": [
       "+---+--------------------+\n",
       "| id|                text|\n",
       "+---+--------------------+\n",
       "|  0|Forever, or a Lon...|\n",
       "|  1|     Winnie-the-Pooh|\n",
       "+---+--------------------+"
      ]
     },
     "execution_count": 6,
     "metadata": {},
     "output_type": "execute_result"
    }
   ],
   "source": [
    "# Reading the file\n",
    "schema_books = StructType([\n",
    "    StructField(\"id\", IntegerType()),\n",
    "    StructField(\"text\", StringType())\n",
    "])\n",
    "books_data = spark.read.csv(\"data-sources/books.csv\", sep=';', header=True, schema=schema_books)\n",
    "\n",
    "# Reviewing the result\n",
    "books_data.createOrReplaceTempView(\"books\")\n",
    "print(f'Dataframe shape: ({cars_data.count()}, {len(cars_data.columns)})')\n",
    "books_data.printSchema()\n",
    "books_data.limit(2)"
   ]
  },
  {
   "cell_type": "markdown",
   "id": "eb681615-16b7-4d06-9195-23e472dcb1ef",
   "metadata": {},
   "source": [
    "### BMI"
   ]
  },
  {
   "cell_type": "code",
   "execution_count": 7,
   "id": "d1c69093-463c-4eac-8990-99042b47a5b1",
   "metadata": {},
   "outputs": [
    {
     "name": "stdout",
     "output_type": "stream",
     "text": [
      "Dataframe shape: (92, 11)\n",
      "root\n",
      " |-- height_mt: double (nullable = true)\n",
      " |-- mass_kg: double (nullable = true)\n",
      "\n"
     ]
    },
    {
     "data": {
      "text/html": [
       "<table border='1'>\n",
       "<tr><th>height_mt</th><th>mass_kg</th></tr>\n",
       "<tr><td>1.7496714153011232</td><td>54.45891245893144</td></tr>\n",
       "<tr><td>1.6861735698828815</td><td>63.856884442309884</td></tr>\n",
       "</table>\n"
      ],
      "text/plain": [
       "+------------------+------------------+\n",
       "|         height_mt|           mass_kg|\n",
       "+------------------+------------------+\n",
       "|1.7496714153011232| 54.45891245893144|\n",
       "|1.6861735698828815|63.856884442309884|\n",
       "+------------------+------------------+"
      ]
     },
     "execution_count": 7,
     "metadata": {},
     "output_type": "execute_result"
    }
   ],
   "source": [
    "# Reading the file\n",
    "schema_bmi = StructType([\n",
    "    StructField(\"height_mt\", DoubleType()),\n",
    "    StructField(\"mass_kg\", DoubleType())\n",
    "])\n",
    "bmi_data = spark.read.csv(\"data-sources/bmi.csv\", sep=',', header=True, schema=schema_bmi)\n",
    "\n",
    "# Reviewing the result\n",
    "bmi_data.createOrReplaceTempView(\"bmi\")\n",
    "print(f'Dataframe shape: ({cars_data.count()}, {len(cars_data.columns)})')\n",
    "bmi_data.printSchema()\n",
    "bmi_data.limit(2)"
   ]
  },
  {
   "cell_type": "markdown",
   "id": "d79709f1-ff5e-4b2b-8168-a273730bb43f",
   "metadata": {},
   "source": [
    "### Tables catalogue"
   ]
  },
  {
   "cell_type": "code",
   "execution_count": 8,
   "id": "544d8bd5-3e6f-4f7c-9f51-c4cee7a56df8",
   "metadata": {},
   "outputs": [
    {
     "data": {
      "text/plain": [
       "[Table(name='bmi', catalog=None, namespace=[], description=None, tableType='TEMPORARY', isTemporary=True),\n",
       " Table(name='books', catalog=None, namespace=[], description=None, tableType='TEMPORARY', isTemporary=True),\n",
       " Table(name='cars', catalog=None, namespace=[], description=None, tableType='TEMPORARY', isTemporary=True),\n",
       " Table(name='flights', catalog=None, namespace=[], description=None, tableType='TEMPORARY', isTemporary=True),\n",
       " Table(name='sms', catalog=None, namespace=[], description=None, tableType='TEMPORARY', isTemporary=True)]"
      ]
     },
     "execution_count": 8,
     "metadata": {},
     "output_type": "execute_result"
    }
   ],
   "source": [
    "spark.catalog.listTables()"
   ]
  },
  {
   "cell_type": "markdown",
   "id": "5b218bcd-3ba5-421d-8a35-335c6e28547e",
   "metadata": {},
   "source": [
    "## Others\n",
    "\n",
    "### Dense versus sparse"
   ]
  },
  {
   "cell_type": "code",
   "execution_count": 9,
   "id": "e7f55e13-8896-4800-8037-58e20d291bf8",
   "metadata": {},
   "outputs": [
    {
     "name": "stdout",
     "output_type": "stream",
     "text": [
      "\n",
      " Dense vector: [1.0,0.0,0.0,0.0,0.0,7.0,0.0,0.0]\n",
      "Sparse vector: (8,[0,5],[1.0,7.0])\n",
      "\n"
     ]
    }
   ],
   "source": [
    "print(f'''\n",
    " Dense vector: {DenseVector([1, 0, 0, 0, 0, 7, 0, 0])}\n",
    "Sparse vector: {SparseVector(8, {0: 1.0, 5: 7.0})}\n",
    "''')"
   ]
  },
  {
   "cell_type": "markdown",
   "id": "71311973-5882-45bb-bbb2-ad72cbb88032",
   "metadata": {},
   "source": [
    "# Cars Dataset"
   ]
  },
  {
   "cell_type": "markdown",
   "id": "3a851ed5-142d-47db-bd33-30052be8ed54",
   "metadata": {},
   "source": [
    "### Loading data - Flights"
   ]
  },
  {
   "cell_type": "code",
   "execution_count": 10,
   "id": "ad48fd5f-a41f-4cf4-828e-8f59e5d0dd4c",
   "metadata": {},
   "outputs": [
    {
     "name": "stdout",
     "output_type": "stream",
     "text": [
      "+-------+-----+\n",
      "|   type|count|\n",
      "+-------+-----+\n",
      "|Midsize|   22|\n",
      "|  Small|   21|\n",
      "|Compact|   16|\n",
      "| Sporty|   13|\n",
      "|  Large|   11|\n",
      "|    Van|    9|\n",
      "+-------+-----+\n",
      "\n"
     ]
    },
    {
     "data": {
      "text/html": [
       "<table border='1'>\n",
       "<tr><th>maker</th><th>model</th><th>origin</th><th>type</th><th>cyl</th><th>size</th><th>weight</th><th>length</th><th>rpm</th><th>consumption</th><th>mass</th></tr>\n",
       "<tr><td>Geo</td><td>Metro</td><td>non-USA</td><td>Small</td><td>3</td><td>1.0</td><td>1695</td><td>3.835</td><td>5700</td><td>7.571</td><td>769.0</td></tr>\n",
       "<tr><td>Honda</td><td>Civic</td><td>non-USA</td><td>Small</td><td>4</td><td>1.5</td><td>2350</td><td>4.394</td><td>5900</td><td>8.214</td><td>1066.0</td></tr>\n",
       "</table>\n"
      ],
      "text/plain": [
       "+-----+-----+-------+-----+---+----+------+------+----+-----------+------+\n",
       "|maker|model| origin| type|cyl|size|weight|length| rpm|consumption|  mass|\n",
       "+-----+-----+-------+-----+---+----+------+------+----+-----------+------+\n",
       "|  Geo|Metro|non-USA|Small|  3| 1.0|  1695| 3.835|5700|      7.571| 769.0|\n",
       "|Honda|Civic|non-USA|Small|  4| 1.5|  2350| 4.394|5900|      8.214|1066.0|\n",
       "+-----+-----+-------+-----+---+----+------+------+----+-----------+------+"
      ]
     },
     "execution_count": 10,
     "metadata": {},
     "output_type": "execute_result"
    }
   ],
   "source": [
    "# Reviewing the data\n",
    "df_cars = cars_data\n",
    "df_cars.groupBy('type').count().sort(F.col(\"count\").desc()).show()\n",
    "df_cars.limit(2)"
   ]
  },
  {
   "cell_type": "markdown",
   "id": "01f77a6b-db6d-432a-a463-a7d115a902be",
   "metadata": {},
   "source": [
    "## One-Hot Encoding\n",
    "\n",
    "### One-hot encoding"
   ]
  },
  {
   "cell_type": "code",
   "execution_count": 11,
   "id": "7ba38d1b-0b94-48b2-9e3d-026ad7550a0e",
   "metadata": {},
   "outputs": [
    {
     "name": "stdout",
     "output_type": "stream",
     "text": [
      "How many category levels? [6]\n",
      "+-------+--------+-------------+\n",
      "|   type|type_idx|     type_vec|\n",
      "+-------+--------+-------------+\n",
      "|Midsize|     0.0|(5,[0],[1.0])|\n",
      "|  Small|     1.0|(5,[1],[1.0])|\n",
      "|Compact|     2.0|(5,[2],[1.0])|\n",
      "| Sporty|     3.0|(5,[3],[1.0])|\n",
      "|  Large|     4.0|(5,[4],[1.0])|\n",
      "|    Van|     5.0|    (5,[],[])|\n",
      "+-------+--------+-------------+\n",
      "\n"
     ]
    },
    {
     "data": {
      "text/html": [
       "<table border='1'>\n",
       "<tr><th>maker</th><th>model</th><th>origin</th><th>type</th><th>cyl</th><th>size</th><th>weight</th><th>length</th><th>rpm</th><th>consumption</th><th>mass</th><th>type_idx</th><th>type_vec</th></tr>\n",
       "<tr><td>Geo</td><td>Metro</td><td>non-USA</td><td>Small</td><td>3</td><td>1.0</td><td>1695</td><td>3.835</td><td>5700</td><td>7.571</td><td>769.0</td><td>1.0</td><td>(5,[1],[1.0])</td></tr>\n",
       "<tr><td>Honda</td><td>Civic</td><td>non-USA</td><td>Small</td><td>4</td><td>1.5</td><td>2350</td><td>4.394</td><td>5900</td><td>8.214</td><td>1066.0</td><td>1.0</td><td>(5,[1],[1.0])</td></tr>\n",
       "</table>\n"
      ],
      "text/plain": [
       "+-----+-----+-------+-----+---+----+------+------+----+-----------+------+--------+-------------+\n",
       "|maker|model| origin| type|cyl|size|weight|length| rpm|consumption|  mass|type_idx|     type_vec|\n",
       "+-----+-----+-------+-----+---+----+------+------+----+-----------+------+--------+-------------+\n",
       "|  Geo|Metro|non-USA|Small|  3| 1.0|  1695| 3.835|5700|      7.571| 769.0|     1.0|(5,[1],[1.0])|\n",
       "|Honda|Civic|non-USA|Small|  4| 1.5|  2350| 4.394|5900|      8.214|1066.0|     1.0|(5,[1],[1.0])|\n",
       "+-----+-----+-------+-----+---+----+------+------+----+-----------+------+--------+-------------+"
      ]
     },
     "execution_count": 11,
     "metadata": {},
     "output_type": "execute_result"
    }
   ],
   "source": [
    "df_cars = df_cars.drop(*['type_idx', 'type_vec'])\n",
    "\n",
    "# Assign index values to strings\n",
    "indexer_cars = StringIndexer(inputCol='type', outputCol='type_idx').fit(df_cars)\n",
    "\n",
    "# Create column with index values\n",
    "df_cars = indexer_cars.transform(df_cars)\n",
    "\n",
    "# Initialize the encoder\n",
    "onehot_cars = OneHotEncoder(inputCols=['type_idx'], outputCols=['type_vec']).fit(df_cars)\n",
    "print(f\"How many category levels? {onehot_cars.categorySizes}\")\n",
    "\n",
    "# Vectorize the index values\n",
    "df_cars = onehot_cars.transform(df_cars)\n",
    "\n",
    "# Inspect results\n",
    "df_cars.select('type', 'type_idx', 'type_vec').distinct().sort('type_idx').show()\n",
    "df_cars.limit(2)"
   ]
  },
  {
   "cell_type": "code",
   "execution_count": 12,
   "id": "2b48f427-4b87-4374-b955-a745d178f3ee",
   "metadata": {},
   "outputs": [
    {
     "name": "stdout",
     "output_type": "stream",
     "text": [
      "\n",
      "Category level: 6\n",
      "Encoded without the last catego: ['Midsize', 'Small', 'Compact', 'Sporty', 'Large']\n",
      "Dropped catego: Van\n",
      "\n"
     ]
    }
   ],
   "source": [
    "# Getting the encoded values from the catego column\n",
    "colIdx = df_cars.select('type', \"type_idx\").distinct().rdd.collectAsMap()\n",
    "colIdx =  sorted((value, key) for (key, value) in colIdx.items())\n",
    "newCols_type = list(map(lambda x: x[1], colIdx))\n",
    "print(f'''\n",
    "Category level: {len(newCols_type)}\n",
    "Encoded without the last catego: {newCols_type[:-1]}\n",
    "Dropped catego: {newCols_type[-1]}\n",
    "''')"
   ]
  },
  {
   "cell_type": "markdown",
   "id": "5950fb57-5e5f-4dd5-b870-e99ce2baffd7",
   "metadata": {},
   "source": [
    "## Regression\n",
    "\n",
    "### Consumption versus mass: scatter"
   ]
  },
  {
   "cell_type": "code",
   "execution_count": 13,
   "id": "566ef20e-6590-418b-9782-7a5337cfaa7e",
   "metadata": {},
   "outputs": [
    {
     "data": {
      "image/png": "[encoded data removed]",
      "text/plain": [
       "<Figure size 640x480 with 1 Axes>"
      ]
     },
     "metadata": {},
     "output_type": "display_data"
    }
   ],
   "source": [
    "df_cars_pandas = df_cars.toPandas()\n",
    "plt.scatter(df_cars_pandas.mass, df_cars_pandas.consumption)\n",
    "plt.xlabel('mass')\n",
    "plt.ylabel('consumption')\n",
    "plt.show()"
   ]
  },
  {
   "cell_type": "markdown",
   "id": "6cef3add-9b07-4676-9d85-b6833020d6b6",
   "metadata": {},
   "source": [
    "### Assemble predictors"
   ]
  },
  {
   "cell_type": "code",
   "execution_count": 14,
   "id": "fbdc8d07-89c7-4ed7-8391-7dbd993d3044",
   "metadata": {},
   "outputs": [
    {
     "name": "stdout",
     "output_type": "stream",
     "text": [
      "+------+---+-------------+----------------------------+-----------+\n",
      "|mass  |cyl|type_vec     |features                    |consumption|\n",
      "+------+---+-------------+----------------------------+-----------+\n",
      "|769.0 |3  |(5,[1],[1.0])|(7,[0,1,3],[769.0,3.0,1.0]) |7.571      |\n",
      "|1066.0|4  |(5,[1],[1.0])|(7,[0,1,3],[1066.0,4.0,1.0])|8.214      |\n",
      "|891.0 |3  |(5,[1],[1.0])|(7,[0,1,3],[891.0,3.0,1.0]) |8.82       |\n",
      "|1066.0|4  |(5,[1],[1.0])|(7,[0,1,3],[1066.0,4.0,1.0])|9.236      |\n",
      "|1132.0|4  |(5,[1],[1.0])|(7,[0,1,3],[1132.0,4.0,1.0])|9.956      |\n",
      "+------+---+-------------+----------------------------+-----------+\n",
      "only showing top 5 rows\n",
      "\n"
     ]
    }
   ],
   "source": [
    "df_cars = df_cars.drop(*['features'])\n",
    "\n",
    "feature_cols = ['mass', 'cyl', 'type_vec']\n",
    "assembler_cars = VectorAssembler(inputCols=feature_cols, outputCol='features')\n",
    "df_cars = assembler_cars.transform(df_cars)\n",
    "df_cars.select(feature_cols + ['features', 'consumption']).show(5, truncate=False)"
   ]
  },
  {
   "cell_type": "markdown",
   "id": "9eb4c218-01ac-40fe-ae6f-b5625e68368b",
   "metadata": {},
   "source": [
    "### Split into testing and training sets"
   ]
  },
  {
   "cell_type": "code",
   "execution_count": 15,
   "id": "542fd376-0796-4100-af35-862404a68869",
   "metadata": {},
   "outputs": [
    {
     "data": {
      "text/plain": [
       "[75, 17]"
      ]
     },
     "execution_count": 15,
     "metadata": {},
     "output_type": "execute_result"
    }
   ],
   "source": [
    "# Split into train and test set.\n",
    "df_cars_train, df_cars_test = df_cars.randomSplit([0.8, 0.2], seed=SEED)\n",
    "[df_cars_train.count(), df_cars_test.count()]"
   ]
  },
  {
   "cell_type": "markdown",
   "id": "0ed02d75-efdd-407c-835a-ce58d183690a",
   "metadata": {},
   "source": [
    "### Build regression model"
   ]
  },
  {
   "cell_type": "code",
   "execution_count": 16,
   "id": "a7d1dde1-18b2-45a1-abe5-8f3969352222",
   "metadata": {},
   "outputs": [
    {
     "name": "stdout",
     "output_type": "stream",
     "text": [
      "+-----------+------------------+\n",
      "|consumption|        prediction|\n",
      "+-----------+------------------+\n",
      "|     14.574| 14.26220817543322|\n",
      "|     13.514|13.662036309323547|\n",
      "|     15.142|   14.935791515778|\n",
      "|     14.574|15.291994228320064|\n",
      "|     13.514|13.750491531993994|\n",
      "|      11.47|10.942086016194082|\n",
      "|     13.514|13.701841159525248|\n",
      "|     12.605|12.508578788387748|\n",
      "|     11.129|11.654985889617926|\n",
      "|     14.006|12.468608094496371|\n",
      "|     17.224| 16.20618213490983|\n",
      "|     16.467| 14.48334623210934|\n",
      "+-----------+------------------+\n",
      "only showing top 12 rows\n",
      "\n"
     ]
    }
   ],
   "source": [
    "model_lr_cars = LinearRegression(labelCol='consumption').fit(df_cars_train)\n",
    "\n",
    "# Predict on cars_test (testing data).\n",
    "predictions_cars = model_lr_cars.transform(df_cars_test)\n",
    "predictions_cars.select('consumption', 'prediction').show(12)"
   ]
  },
  {
   "cell_type": "markdown",
   "id": "f0b6217d-6071-4ba3-ae27-f5ae172b0668",
   "metadata": {},
   "source": [
    "### Examine predictions"
   ]
  },
  {
   "cell_type": "code",
   "execution_count": 17,
   "id": "8eda91ca-951d-402b-8ca6-55e7c3d07ebd",
   "metadata": {},
   "outputs": [
    {
     "data": {
      "image/png": "[encoded data removed]",
      "text/plain": [
       "<Figure size 640x480 with 1 Axes>"
      ]
     },
     "metadata": {},
     "output_type": "display_data"
    }
   ],
   "source": [
    "df_cars_pandas = predictions_cars.toPandas()\n",
    "plt.scatter(df_cars_pandas.consumption, df_cars_pandas.prediction)\n",
    "plt.xlabel('consumption')\n",
    "plt.ylabel('prediction')\n",
    "plt.plot(df_cars_pandas.prediction, df_cars_pandas.prediction, lw=1, color='lightgray')\n",
    "plt.show()"
   ]
  },
  {
   "cell_type": "markdown",
   "id": "9b4ecd16-efc7-42a8-95d9-f60e734d169b",
   "metadata": {},
   "source": [
    "### Calculate RMSE"
   ]
  },
  {
   "cell_type": "code",
   "execution_count": 18,
   "id": "bb25a454-335c-470b-af85-069e9cf2d57c",
   "metadata": {},
   "outputs": [
    {
     "name": "stdout",
     "output_type": "stream",
     "text": [
      "\n",
      "RMSE: 0.8852987870756852\n",
      " MAE: 0.7074495911938732\n",
      "  R²: 0.8105462852852755\n",
      " MSE: 0.7837539423976794\n",
      "\n"
     ]
    }
   ],
   "source": [
    "# Select columns to compute test error\n",
    "eval_cars = RegressionEvaluator(labelCol='consumption')\n",
    "\n",
    "print(f'''\n",
    "RMSE: {eval_cars.evaluate(predictions_cars)}\n",
    " MAE: {eval_cars.evaluate(predictions_cars, {eval_cars.metricName: \"mae\"})}\n",
    "  R²: {eval_cars.evaluate(predictions_cars, {eval_cars.metricName: \"r2\"})}\n",
    " MSE: {eval_cars.evaluate(predictions_cars, {eval_cars.metricName: \"mse\"})}\n",
    "''')"
   ]
  },
  {
   "cell_type": "markdown",
   "id": "1829ef95-2923-4458-9cf1-4c95ad4782a5",
   "metadata": {},
   "source": [
    "### Consumption versus mass: intercept"
   ]
  },
  {
   "cell_type": "code",
   "execution_count": 19,
   "id": "43c499e4-584f-4b45-a3dd-660a3f894335",
   "metadata": {},
   "outputs": [
    {
     "data": {
      "image/png": "[encoded data removed]",
      "text/plain": [
       "<Figure size 500x500 with 1 Axes>"
      ]
     },
     "metadata": {},
     "output_type": "display_data"
    }
   ],
   "source": [
    "df_cars_pandas = predictions_cars.toPandas()\n",
    "sns.lmplot(x='mass', y='consumption', data=df_cars_pandas, fit_reg=True) \n",
    "plt.show()"
   ]
  },
  {
   "cell_type": "markdown",
   "id": "f9c15d8e-0e56-455b-83dc-f4c444133847",
   "metadata": {},
   "source": [
    "### Examine intercept & Coefficients"
   ]
  },
  {
   "cell_type": "code",
   "execution_count": 20,
   "id": "475dcc9e-e9fe-4369-9a01-08eb3cff2e39",
   "metadata": {},
   "outputs": [
    {
     "name": "stdout",
     "output_type": "stream",
     "text": [
      "\n",
      "Intercept: 7.658292748160934\n",
      "Coefficients:\n",
      "[0.0044227611335224066,0.3749142267127804,-2.474313123162991,-2.76688484521253,-2.249252292961028,-2.084944299723345,-3.20716782327834]\n",
      "\n",
      "Feature cols: ['mass', 'cyl', 'type_vec']\n",
      "Encoded categos (type_vec): ['Midsize', 'Small', 'Compact', 'Sporty', 'Large']\n",
      "\n"
     ]
    }
   ],
   "source": [
    "print(f'''\n",
    "Intercept: {model_lr_cars.intercept}\n",
    "Coefficients:\n",
    "{model_lr_cars.coefficients}\n",
    "\n",
    "Feature cols: {feature_cols}\n",
    "Encoded categos (type_vec): {newCols_type[:-1]}\n",
    "''')"
   ]
  },
  {
   "cell_type": "code",
   "execution_count": 21,
   "id": "ac842b79-4a14-451f-8098-438078e2fc2d",
   "metadata": {},
   "outputs": [
    {
     "data": {
      "text/html": [
       "<div>\n",
       "<style scoped>\n",
       "    .dataframe tbody tr th:only-of-type {\n",
       "        vertical-align: middle;\n",
       "    }\n",
       "\n",
       "    .dataframe tbody tr th {\n",
       "        vertical-align: top;\n",
       "    }\n",
       "\n",
       "    .dataframe thead th {\n",
       "        text-align: right;\n",
       "    }\n",
       "</style>\n",
       "<table border=\"1\" class=\"dataframe\">\n",
       "  <thead>\n",
       "    <tr style=\"text-align: right;\">\n",
       "      <th></th>\n",
       "      <th>Slope</th>\n",
       "      <th>Feature</th>\n",
       "      <th>value</th>\n",
       "    </tr>\n",
       "  </thead>\n",
       "  <tbody>\n",
       "    <tr>\n",
       "      <th>0</th>\n",
       "      <td>Intercept</td>\n",
       "      <td></td>\n",
       "      <td>7.658293</td>\n",
       "    </tr>\n",
       "    <tr>\n",
       "      <th>1</th>\n",
       "      <td>Coefficients</td>\n",
       "      <td>mass</td>\n",
       "      <td>0.004423</td>\n",
       "    </tr>\n",
       "    <tr>\n",
       "      <th>2</th>\n",
       "      <td>Coefficients</td>\n",
       "      <td>cyl</td>\n",
       "      <td>0.374914</td>\n",
       "    </tr>\n",
       "    <tr>\n",
       "      <th>3</th>\n",
       "      <td>Coefficients</td>\n",
       "      <td>Midsize</td>\n",
       "      <td>-2.474313</td>\n",
       "    </tr>\n",
       "    <tr>\n",
       "      <th>4</th>\n",
       "      <td>Coefficients</td>\n",
       "      <td>Small</td>\n",
       "      <td>-2.766885</td>\n",
       "    </tr>\n",
       "    <tr>\n",
       "      <th>5</th>\n",
       "      <td>Coefficients</td>\n",
       "      <td>Compact</td>\n",
       "      <td>-2.249252</td>\n",
       "    </tr>\n",
       "    <tr>\n",
       "      <th>6</th>\n",
       "      <td>Coefficients</td>\n",
       "      <td>Sporty</td>\n",
       "      <td>-2.084944</td>\n",
       "    </tr>\n",
       "    <tr>\n",
       "      <th>7</th>\n",
       "      <td>Coefficients</td>\n",
       "      <td>Large</td>\n",
       "      <td>-3.207168</td>\n",
       "    </tr>\n",
       "  </tbody>\n",
       "</table>\n",
       "</div>"
      ],
      "text/plain": [
       "          Slope  Feature     value\n",
       "0     Intercept           7.658293\n",
       "1  Coefficients     mass  0.004423\n",
       "2  Coefficients      cyl  0.374914\n",
       "3  Coefficients  Midsize -2.474313\n",
       "4  Coefficients    Small -2.766885\n",
       "5  Coefficients  Compact -2.249252\n",
       "6  Coefficients   Sporty -2.084944\n",
       "7  Coefficients    Large -3.207168"
      ]
     },
     "execution_count": 21,
     "metadata": {},
     "output_type": "execute_result"
    }
   ],
   "source": [
    "# With more detail\n",
    "coefficient_len = len(model_lr_cars.coefficients)\n",
    "pd.DataFrame({\n",
    "    'Slope': ['Intercept'] + ['Coefficients']*coefficient_len,\n",
    "    'Feature': [''] + feature_cols[:-1] + newCols_type[:-1],\n",
    "    'value': [model_lr_cars.intercept] + list(model_lr_cars.coefficients)\n",
    "})"
   ]
  },
  {
   "cell_type": "markdown",
   "id": "88fbbb7e-ca12-4da8-a25a-b31c9943ecc6",
   "metadata": {},
   "source": [
    "## Bucketing & Engineering\n",
    "\n",
    "### RPM histogram"
   ]
  },
  {
   "cell_type": "code",
   "execution_count": 22,
   "id": "b36d7243-33b1-4f3d-bfcc-f10367c3902d",
   "metadata": {},
   "outputs": [
    {
     "data": {
      "image/png": "[encoded data removed]",
      "text/plain": [
       "<Figure size 600x300 with 2 Axes>"
      ]
     },
     "metadata": {},
     "output_type": "display_data"
    }
   ],
   "source": [
    "histogram_boxplot(df_cars.select('rpm').toPandas().rpm)"
   ]
  },
  {
   "cell_type": "markdown",
   "id": "1d195bdf-a83c-4476-8f22-989fd7940768",
   "metadata": {},
   "source": [
    "### RPM buckets"
   ]
  },
  {
   "cell_type": "code",
   "execution_count": 23,
   "id": "a024a6af-baaa-4b2f-8be2-b2f3d85a27c1",
   "metadata": {},
   "outputs": [
    {
     "name": "stdout",
     "output_type": "stream",
     "text": [
      "Range: Row(min(rpm)=3800, max(rpm)=6500)\n",
      "+-------+-----+\n",
      "|rpm_bin|count|\n",
      "+-------+-----+\n",
      "|    0.0|    8|\n",
      "|    1.0|   67|\n",
      "|    2.0|   17|\n",
      "+-------+-----+\n",
      "\n",
      "+-------+-----+\n",
      "|rpm_cat|count|\n",
      "+-------+-----+\n",
      "|    low|    8|\n",
      "|   high|   17|\n",
      "| medium|   67|\n",
      "+-------+-----+\n",
      "\n"
     ]
    },
    {
     "data": {
      "text/html": [
       "<table border='1'>\n",
       "<tr><th>rpm</th><th>rpm_bin</th><th>rpm_cat</th></tr>\n",
       "<tr><td>5700</td><td>1.0</td><td>medium</td></tr>\n",
       "<tr><td>5900</td><td>1.0</td><td>medium</td></tr>\n",
       "<tr><td>6000</td><td>2.0</td><td>high</td></tr>\n",
       "<tr><td>5600</td><td>1.0</td><td>medium</td></tr>\n",
       "<tr><td>5000</td><td>1.0</td><td>medium</td></tr>\n",
       "</table>\n"
      ],
      "text/plain": [
       "+----+-------+-------+\n",
       "| rpm|rpm_bin|rpm_cat|\n",
       "+----+-------+-------+\n",
       "|5700|    1.0| medium|\n",
       "|5900|    1.0| medium|\n",
       "|6000|    2.0|   high|\n",
       "|5600|    1.0| medium|\n",
       "|5000|    1.0| medium|\n",
       "+----+-------+-------+"
      ]
     },
     "execution_count": 23,
     "metadata": {},
     "output_type": "execute_result"
    }
   ],
   "source": [
    "df_cars = df_cars.drop(*['rpm_bin'])\n",
    "\n",
    "# Getting the range\n",
    "min_max = df_cars.select('rpm').agg(F.min('rpm'),  F.max('rpm')).collect()[0]\n",
    "print('Range:', min_max)\n",
    "\n",
    "# Applying buckets\n",
    "bucket_cars_rpm = Bucketizer(splits=[min_max[0], 4500, 6000, min_max[1]],\n",
    "                             inputCol=\"rpm\", outputCol=\"rpm_bin\")\n",
    "df_cars = bucket_cars_rpm.transform(df_cars)\n",
    "\n",
    "# Assign categos to bins\n",
    "df_cars = df_cars.withColumn(\"rpm_cat\", F.when(df_cars[\"rpm_bin\"] == 0, \"low\")\n",
    "                                         .when(df_cars[\"rpm_bin\"] == 1, \"medium\")\n",
    "                                         .when(df_cars[\"rpm_bin\"] == 2, \"high\"))\n",
    "newCols_rpm = ['low', 'medium', 'high']\n",
    "\n",
    "# Inspecting results\n",
    "df_cars.groupBy(\"rpm_bin\").count().show()\n",
    "df_cars.groupBy(\"rpm_cat\").count().show()\n",
    "df_cars.select('rpm', 'rpm_bin', 'rpm_cat').limit(5)"
   ]
  },
  {
   "cell_type": "markdown",
   "id": "a072e823-ec1a-44bd-9afd-cdbb48a1503f",
   "metadata": {},
   "source": [
    "### One-hot encoded RPM buckets"
   ]
  },
  {
   "cell_type": "code",
   "execution_count": 24,
   "id": "3a1d2bc0-28a3-46d6-adbc-b88869981a46",
   "metadata": {},
   "outputs": [
    {
     "name": "stdout",
     "output_type": "stream",
     "text": [
      "How many category levels? [3]\n",
      "+-------+-------+-------------+\n",
      "|rpm_cat|rpm_bin|      rpm_vec|\n",
      "+-------+-------+-------------+\n",
      "|    low|    0.0|(2,[0],[1.0])|\n",
      "| medium|    1.0|(2,[1],[1.0])|\n",
      "|   high|    2.0|    (2,[],[])|\n",
      "+-------+-------+-------------+\n",
      "\n"
     ]
    },
    {
     "data": {
      "text/html": [
       "<table border='1'>\n",
       "<tr><th>maker</th><th>model</th><th>origin</th><th>type</th><th>cyl</th><th>size</th><th>weight</th><th>length</th><th>rpm</th><th>consumption</th><th>mass</th><th>type_idx</th><th>type_vec</th><th>rpm_bin</th><th>rpm_cat</th><th>rpm_vec</th></tr>\n",
       "<tr><td>Geo</td><td>Metro</td><td>non-USA</td><td>Small</td><td>3</td><td>1.0</td><td>1695</td><td>3.835</td><td>5700</td><td>7.571</td><td>769.0</td><td>1.0</td><td>(5,[1],[1.0])</td><td>1.0</td><td>medium</td><td>(2,[1],[1.0])</td></tr>\n",
       "<tr><td>Honda</td><td>Civic</td><td>non-USA</td><td>Small</td><td>4</td><td>1.5</td><td>2350</td><td>4.394</td><td>5900</td><td>8.214</td><td>1066.0</td><td>1.0</td><td>(5,[1],[1.0])</td><td>1.0</td><td>medium</td><td>(2,[1],[1.0])</td></tr>\n",
       "</table>\n"
      ],
      "text/plain": [
       "+-----+-----+-------+-----+---+----+------+------+----+-----------+------+--------+-------------+-------+-------+-------------+\n",
       "|maker|model| origin| type|cyl|size|weight|length| rpm|consumption|  mass|type_idx|     type_vec|rpm_bin|rpm_cat|      rpm_vec|\n",
       "+-----+-----+-------+-----+---+----+------+------+----+-----------+------+--------+-------------+-------+-------+-------------+\n",
       "|  Geo|Metro|non-USA|Small|  3| 1.0|  1695| 3.835|5700|      7.571| 769.0|     1.0|(5,[1],[1.0])|    1.0| medium|(2,[1],[1.0])|\n",
       "|Honda|Civic|non-USA|Small|  4| 1.5|  2350| 4.394|5900|      8.214|1066.0|     1.0|(5,[1],[1.0])|    1.0| medium|(2,[1],[1.0])|\n",
       "+-----+-----+-------+-----+---+----+------+------+----+-----------+------+--------+-------------+-------+-------+-------------+"
      ]
     },
     "execution_count": 24,
     "metadata": {},
     "output_type": "execute_result"
    }
   ],
   "source": [
    "df_cars = df_cars.drop(*['rpm_vec', 'features'])\n",
    "\n",
    "# Initialize the encoder\n",
    "onehot_cars = OneHotEncoder(inputCols=['rpm_bin'], outputCols=['rpm_vec']).fit(df_cars)\n",
    "print(f\"How many category levels? {onehot_cars.categorySizes}\")\n",
    "\n",
    "# Vectorize the index values\n",
    "df_cars = onehot_cars.transform(df_cars)\n",
    "\n",
    "# Inspect results\n",
    "df_cars.select('rpm_cat', 'rpm_bin', 'rpm_vec').distinct().sort('rpm_bin').show()\n",
    "df_cars.limit(2) "
   ]
  },
  {
   "cell_type": "markdown",
   "id": "ad6c45d1-ed62-490d-948f-371cba87975d",
   "metadata": {},
   "source": [
    "### Model with bucketed RPM"
   ]
  },
  {
   "cell_type": "code",
   "execution_count": 25,
   "id": "e78e7b24-790d-4175-bd47-9eb21d475c7b",
   "metadata": {},
   "outputs": [
    {
     "name": "stdout",
     "output_type": "stream",
     "text": [
      "Training set: 75, Testing set: 17\n",
      "+-----------+------------------+\n",
      "|consumption|        prediction|\n",
      "+-----------+------------------+\n",
      "|     14.574|13.213178571428577|\n",
      "|     13.514|13.213178571428577|\n",
      "|     15.142|15.299500000000002|\n",
      "|     14.574|15.299500000000002|\n",
      "|     13.514|13.213178571428577|\n",
      "|      11.47|12.934538461538445|\n",
      "|     13.514|13.213178571428577|\n",
      "|     12.605|13.213178571428577|\n",
      "|     11.129|13.213178571428577|\n",
      "|     14.006|12.934538461538445|\n",
      "|     17.224|12.934538461538445|\n",
      "|     16.467|12.934538461538445|\n",
      "+-----------+------------------+\n",
      "only showing top 12 rows\n",
      "\n"
     ]
    }
   ],
   "source": [
    "# Split into train and test set.\n",
    "df_cars_train, df_cars_test = df_cars.randomSplit([0.8, 0.2], seed=SEED)\n",
    "print(f\"Training set: {df_cars_train.count()}, Testing set: {df_cars_test.count()}\")\n",
    "\n",
    "# Initiating the model\n",
    "model_lr_cars = LinearRegression(labelCol='consumption',\n",
    "                                 featuresCol='rpm_vec').fit(df_cars_train)\n",
    "\n",
    "# Predict on cars_test (testing data).\n",
    "predictions_cars = model_lr_cars.transform(df_cars_test)\n",
    "predictions_cars.select('consumption', 'prediction').show(12)"
   ]
  },
  {
   "cell_type": "code",
   "execution_count": 26,
   "id": "7f709a93-1dba-4247-81cb-c866884ca146",
   "metadata": {},
   "outputs": [
    {
     "name": "stdout",
     "output_type": "stream",
     "text": [
      "\n",
      "Very bad model!!!!\n",
      "\n",
      "RMSE: 2.0610414858602577\n",
      " MAE: 1.6098085003232077\n",
      "  R²: -0.026825993199454556\n",
      " MSE: 4.247892006437059\n",
      "\n"
     ]
    }
   ],
   "source": [
    "# Evaluate the model\n",
    "eval_cars = RegressionEvaluator(labelCol='consumption')\n",
    "\n",
    "# R² will be negative when the line or curve does an awful job of fitting the data.\n",
    "print(f'''\n",
    "Very bad model!!!!\n",
    "\n",
    "RMSE: {eval_cars.evaluate(predictions_cars)}\n",
    " MAE: {eval_cars.evaluate(predictions_cars, {eval_cars.metricName: \"mae\"})}\n",
    "  R²: {eval_cars.evaluate(predictions_cars, {eval_cars.metricName: \"r2\"})}\n",
    " MSE: {eval_cars.evaluate(predictions_cars, {eval_cars.metricName: \"mse\"})}\n",
    "''')"
   ]
  },
  {
   "cell_type": "code",
   "execution_count": 27,
   "id": "95876116-729e-4562-9f49-12c30830f691",
   "metadata": {},
   "outputs": [
    {
     "name": "stdout",
     "output_type": "stream",
     "text": [
      "\n",
      "Intercept: 12.934538461538445\n",
      "Coefficients:\n",
      "[2.364961538461558,0.2786401098901321]\n",
      "\n",
      "Feature cols: ['low', 'medium']\n",
      "\n",
      "Consumption for 'low' RPM: 15.299500000000002\n",
      "Consumption for 'medium' RPM: 13.213178571428577\n",
      "\n"
     ]
    }
   ],
   "source": [
    "print(f'''\n",
    "Intercept: {model_lr_cars.intercept}\n",
    "Coefficients:\n",
    "{model_lr_cars.coefficients}\n",
    "\n",
    "Feature cols: {newCols_rpm[:-1]}\n",
    "\n",
    "Consumption for 'low' RPM: {model_lr_cars.intercept + model_lr_cars.coefficients[0]}\n",
    "Consumption for 'medium' RPM: {model_lr_cars.intercept + model_lr_cars.coefficients[1]}\n",
    "''')"
   ]
  },
  {
   "cell_type": "markdown",
   "id": "b488aad9-b34d-4293-ab95-8aa50266056c",
   "metadata": {},
   "source": [
    "### More feature engineering"
   ]
  },
  {
   "cell_type": "code",
   "execution_count": 28,
   "id": "65c572dd-8416-49f1-929e-67fb910bcbed",
   "metadata": {},
   "outputs": [
    {
     "name": "stdout",
     "output_type": "stream",
     "text": [
      "+------+------+------------------+------------------+------------------+\n",
      "|  mass|length|      density_line|      density_quad|      density_cube|\n",
      "+------+------+------------------+------------------+------------------+\n",
      "| 769.0| 3.835|200.52151238591918| 52.28722617625011|13.634218038135621|\n",
      "|1066.0| 4.394|242.60355029585799|  55.2124602402954| 12.56542108336263|\n",
      "| 891.0| 4.089|217.90168745414525|53.289725471789005| 13.03245915181927|\n",
      "|1066.0| 4.496|237.09964412811385| 52.73568597155557|11.729467520363782|\n",
      "|1132.0|  4.47|253.24384787472036|56.654104669959814|12.674296346747164|\n",
      "+------+------+------------------+------------------+------------------+\n",
      "only showing top 5 rows\n",
      "\n"
     ]
    },
    {
     "data": {
      "text/html": [
       "<table border='1'>\n",
       "<tr><th>maker</th><th>model</th><th>origin</th><th>type</th><th>cyl</th><th>size</th><th>weight</th><th>length</th><th>rpm</th><th>consumption</th><th>mass</th><th>type_idx</th><th>type_vec</th><th>rpm_bin</th><th>rpm_cat</th><th>rpm_vec</th><th>density_line</th><th>density_quad</th><th>density_cube</th></tr>\n",
       "<tr><td>Geo</td><td>Metro</td><td>non-USA</td><td>Small</td><td>3</td><td>1.0</td><td>1695</td><td>3.835</td><td>5700</td><td>7.571</td><td>769.0</td><td>1.0</td><td>(5,[1],[1.0])</td><td>1.0</td><td>medium</td><td>(2,[1],[1.0])</td><td>200.52151238591918</td><td>52.28722617625011</td><td>13.634218038135621</td></tr>\n",
       "<tr><td>Honda</td><td>Civic</td><td>non-USA</td><td>Small</td><td>4</td><td>1.5</td><td>2350</td><td>4.394</td><td>5900</td><td>8.214</td><td>1066.0</td><td>1.0</td><td>(5,[1],[1.0])</td><td>1.0</td><td>medium</td><td>(2,[1],[1.0])</td><td>242.60355029585799</td><td>55.2124602402954</td><td>12.56542108336263</td></tr>\n",
       "</table>\n"
      ],
      "text/plain": [
       "+-----+-----+-------+-----+---+----+------+------+----+-----------+------+--------+-------------+-------+-------+-------------+------------------+-----------------+------------------+\n",
       "|maker|model| origin| type|cyl|size|weight|length| rpm|consumption|  mass|type_idx|     type_vec|rpm_bin|rpm_cat|      rpm_vec|      density_line|     density_quad|      density_cube|\n",
       "+-----+-----+-------+-----+---+----+------+------+----+-----------+------+--------+-------------+-------+-------+-------------+------------------+-----------------+------------------+\n",
       "|  Geo|Metro|non-USA|Small|  3| 1.0|  1695| 3.835|5700|      7.571| 769.0|     1.0|(5,[1],[1.0])|    1.0| medium|(2,[1],[1.0])|200.52151238591918|52.28722617625011|13.634218038135621|\n",
       "|Honda|Civic|non-USA|Small|  4| 1.5|  2350| 4.394|5900|      8.214|1066.0|     1.0|(5,[1],[1.0])|    1.0| medium|(2,[1],[1.0])|242.60355029585799| 55.2124602402954| 12.56542108336263|\n",
       "+-----+-----+-------+-----+---+----+------+------+----+-----------+------+--------+-------------+-------+-------+-------------+------------------+-----------------+------------------+"
      ]
     },
     "execution_count": 28,
     "metadata": {},
     "output_type": "execute_result"
    }
   ],
   "source": [
    "# Engineering density\n",
    "df_cars = df_cars.withColumn('density_line', df_cars.mass / df_cars.length) # Linear density\n",
    "df_cars = df_cars.withColumn('density_quad', df_cars.mass / df_cars.length**2) # Area density\n",
    "df_cars = df_cars.withColumn('density_cube', df_cars.mass / df_cars.length**3) # Volume density\n",
    "df_cars.select('mass', 'length', 'density_line', 'density_quad', 'density_cube').show(5)\n",
    "df_cars.limit(2)"
   ]
  },
  {
   "cell_type": "markdown",
   "id": "1e9b409b-da2b-467c-a688-42b89da5f484",
   "metadata": {},
   "source": [
    "## Regularization\n",
    "\n",
    "### Assemble more features in a new model"
   ]
  },
  {
   "cell_type": "code",
   "execution_count": 29,
   "id": "d4127e07-266a-48e5-a291-c238e6db87e0",
   "metadata": {},
   "outputs": [
    {
     "data": {
      "text/html": [
       "<table border='1'>\n",
       "<tr><th>mass</th><th>cyl</th><th>density_line</th><th>density_quad</th><th>density_cube</th><th>type_vec</th><th>features</th><th>consumption</th></tr>\n",
       "<tr><td>769.0</td><td>3</td><td>200.52151238591918</td><td>52.28722617625011</td><td>13.634218038135621</td><td>(5,[1],[1.0])</td><td>[769.0,3.0,200.52...</td><td>7.571</td></tr>\n",
       "<tr><td>1066.0</td><td>4</td><td>242.60355029585799</td><td>55.2124602402954</td><td>12.56542108336263</td><td>(5,[1],[1.0])</td><td>[1066.0,4.0,242.6...</td><td>8.214</td></tr>\n",
       "<tr><td>891.0</td><td>3</td><td>217.90168745414525</td><td>53.289725471789005</td><td>13.03245915181927</td><td>(5,[1],[1.0])</td><td>[891.0,3.0,217.90...</td><td>8.82</td></tr>\n",
       "<tr><td>1066.0</td><td>4</td><td>237.09964412811385</td><td>52.73568597155557</td><td>11.729467520363782</td><td>(5,[1],[1.0])</td><td>[1066.0,4.0,237.0...</td><td>9.236</td></tr>\n",
       "<tr><td>1132.0</td><td>4</td><td>253.24384787472036</td><td>56.654104669959814</td><td>12.674296346747164</td><td>(5,[1],[1.0])</td><td>[1132.0,4.0,253.2...</td><td>9.956</td></tr>\n",
       "</table>\n"
      ],
      "text/plain": [
       "+------+---+------------------+------------------+------------------+-------------+--------------------+-----------+\n",
       "|  mass|cyl|      density_line|      density_quad|      density_cube|     type_vec|            features|consumption|\n",
       "+------+---+------------------+------------------+------------------+-------------+--------------------+-----------+\n",
       "| 769.0|  3|200.52151238591918| 52.28722617625011|13.634218038135621|(5,[1],[1.0])|[769.0,3.0,200.52...|      7.571|\n",
       "|1066.0|  4|242.60355029585799|  55.2124602402954| 12.56542108336263|(5,[1],[1.0])|[1066.0,4.0,242.6...|      8.214|\n",
       "| 891.0|  3|217.90168745414525|53.289725471789005| 13.03245915181927|(5,[1],[1.0])|[891.0,3.0,217.90...|       8.82|\n",
       "|1066.0|  4|237.09964412811385| 52.73568597155557|11.729467520363782|(5,[1],[1.0])|[1066.0,4.0,237.0...|      9.236|\n",
       "|1132.0|  4|253.24384787472036|56.654104669959814|12.674296346747164|(5,[1],[1.0])|[1132.0,4.0,253.2...|      9.956|\n",
       "+------+---+------------------+------------------+------------------+-------------+--------------------+-----------+"
      ]
     },
     "execution_count": 29,
     "metadata": {},
     "output_type": "execute_result"
    }
   ],
   "source": [
    "df_cars = df_cars.drop(*['features'])\n",
    "\n",
    "feature_cols = ['mass', 'cyl', 'density_line', 'density_quad', 'density_cube', 'type_vec']\n",
    "assembler_cars = VectorAssembler(inputCols=feature_cols, outputCol='features')\n",
    "df_cars = assembler_cars.transform(df_cars)\n",
    "df_cars.select(feature_cols + ['features', 'consumption']).limit(5)"
   ]
  },
  {
   "cell_type": "markdown",
   "id": "faff1f50-07fd-498f-8c90-e40c24c4143b",
   "metadata": {},
   "source": [
    "### Build a new Linear Regression model"
   ]
  },
  {
   "cell_type": "code",
   "execution_count": 30,
   "id": "60b32f6f-75e4-4726-92bd-495d671870f9",
   "metadata": {},
   "outputs": [
    {
     "name": "stdout",
     "output_type": "stream",
     "text": [
      "Training set: 75, Testing set: 17\n",
      "+--------------------+-----------+------------------+\n",
      "|            features|consumption|        prediction|\n",
      "+--------------------+-----------+------------------+\n",
      "|[1544.0,6.0,314.9...|     14.574| 14.25562279823383|\n",
      "|[1574.0,6.0,309.8...|     13.514|13.574478723455822|\n",
      "|[1862.0,6.0,339.4...|     15.142|14.472680716293993|\n",
      "|[1773.0,8.0,326.1...|     14.574|14.828504715694981|\n",
      "|[1594.0,6.0,309.1...|     13.514|13.569832607187813|\n",
      "+--------------------+-----------+------------------+\n",
      "only showing top 5 rows\n",
      "\n"
     ]
    }
   ],
   "source": [
    "# Split into train and test\n",
    "df_cars_train, df_cars_test = df_cars.randomSplit([0.8, 0.2], seed=SEED)\n",
    "print(f\"Training set: {df_cars_train.count()}, Testing set: {df_cars_test.count()}\")\n",
    "\n",
    "# Building the regression model\n",
    "model_lr_cars = LinearRegression(labelCol='consumption').fit(df_cars_train)\n",
    "\n",
    "# Predict on cars_test (testing data).\n",
    "predictions_cars = model_lr_cars.transform(df_cars_test)\n",
    "predictions_cars.select('features', 'consumption', 'prediction').show(5)"
   ]
  },
  {
   "cell_type": "code",
   "execution_count": 31,
   "id": "986bf9cf-4129-496e-bb4b-2877bbef04a5",
   "metadata": {},
   "outputs": [
    {
     "name": "stdout",
     "output_type": "stream",
     "text": [
      "\n",
      "RMSE: 0.8019222353360176\n",
      " MAE: 0.6242994375641383\n",
      "  R²: 0.8445510124338481\n",
      " MSE: 0.6430792715263152\n",
      "\n"
     ]
    }
   ],
   "source": [
    "# Evaluate the model\n",
    "eval_cars = RegressionEvaluator(labelCol='consumption')\n",
    "\n",
    "# R² will be negative when the line or curve does an awful job of fitting the data.\n",
    "print(f'''\n",
    "RMSE: {eval_cars.evaluate(predictions_cars)}\n",
    " MAE: {eval_cars.evaluate(predictions_cars, {eval_cars.metricName: \"mae\"})}\n",
    "  R²: {eval_cars.evaluate(predictions_cars, {eval_cars.metricName: \"r2\"})}\n",
    " MSE: {eval_cars.evaluate(predictions_cars, {eval_cars.metricName: \"mse\"})}\n",
    "''')"
   ]
  },
  {
   "cell_type": "code",
   "execution_count": 32,
   "id": "78c0f8e6-7af5-4d1d-ad7b-4b11b39753be",
   "metadata": {},
   "outputs": [
    {
     "name": "stdout",
     "output_type": "stream",
     "text": [
      "\n",
      "Intercept: 5.192272717822213\n",
      "Coefficients:\n",
      "[-0.0030443473020583213,0.3673183463233659,0.0780128153383201,-0.25917182995072435,0.4179721073277959,-1.837873391664694,-2.3843294489115188,-1.7418081058688586,-1.846987302546638,-2.412368596390589]\n",
      "\n",
      "Feature cols: ['mass', 'cyl', 'density_line', 'density_quad', 'density_cube', 'type_vec']\n",
      "Encoded categos (type_vec): ['Midsize', 'Small', 'Compact', 'Sporty', 'Large']\n",
      "\n"
     ]
    },
    {
     "data": {
      "text/html": [
       "<div>\n",
       "<style scoped>\n",
       "    .dataframe tbody tr th:only-of-type {\n",
       "        vertical-align: middle;\n",
       "    }\n",
       "\n",
       "    .dataframe tbody tr th {\n",
       "        vertical-align: top;\n",
       "    }\n",
       "\n",
       "    .dataframe thead th {\n",
       "        text-align: right;\n",
       "    }\n",
       "</style>\n",
       "<table border=\"1\" class=\"dataframe\">\n",
       "  <thead>\n",
       "    <tr style=\"text-align: right;\">\n",
       "      <th></th>\n",
       "      <th>Slope</th>\n",
       "      <th>Feature</th>\n",
       "      <th>LR</th>\n",
       "    </tr>\n",
       "  </thead>\n",
       "  <tbody>\n",
       "    <tr>\n",
       "      <th>0</th>\n",
       "      <td>Intercept</td>\n",
       "      <td></td>\n",
       "      <td>5.192273</td>\n",
       "    </tr>\n",
       "    <tr>\n",
       "      <th>1</th>\n",
       "      <td>Coefficients</td>\n",
       "      <td>mass</td>\n",
       "      <td>-0.003044</td>\n",
       "    </tr>\n",
       "    <tr>\n",
       "      <th>2</th>\n",
       "      <td>Coefficients</td>\n",
       "      <td>cyl</td>\n",
       "      <td>0.367318</td>\n",
       "    </tr>\n",
       "    <tr>\n",
       "      <th>3</th>\n",
       "      <td>Coefficients</td>\n",
       "      <td>density_line</td>\n",
       "      <td>0.078013</td>\n",
       "    </tr>\n",
       "    <tr>\n",
       "      <th>4</th>\n",
       "      <td>Coefficients</td>\n",
       "      <td>density_quad</td>\n",
       "      <td>-0.259172</td>\n",
       "    </tr>\n",
       "    <tr>\n",
       "      <th>5</th>\n",
       "      <td>Coefficients</td>\n",
       "      <td>density_cube</td>\n",
       "      <td>0.417972</td>\n",
       "    </tr>\n",
       "    <tr>\n",
       "      <th>6</th>\n",
       "      <td>Coefficients</td>\n",
       "      <td>Midsize</td>\n",
       "      <td>-1.837873</td>\n",
       "    </tr>\n",
       "    <tr>\n",
       "      <th>7</th>\n",
       "      <td>Coefficients</td>\n",
       "      <td>Small</td>\n",
       "      <td>-2.384329</td>\n",
       "    </tr>\n",
       "    <tr>\n",
       "      <th>8</th>\n",
       "      <td>Coefficients</td>\n",
       "      <td>Compact</td>\n",
       "      <td>-1.741808</td>\n",
       "    </tr>\n",
       "    <tr>\n",
       "      <th>9</th>\n",
       "      <td>Coefficients</td>\n",
       "      <td>Sporty</td>\n",
       "      <td>-1.846987</td>\n",
       "    </tr>\n",
       "    <tr>\n",
       "      <th>10</th>\n",
       "      <td>Coefficients</td>\n",
       "      <td>Large</td>\n",
       "      <td>-2.412369</td>\n",
       "    </tr>\n",
       "  </tbody>\n",
       "</table>\n",
       "</div>"
      ],
      "text/plain": [
       "           Slope       Feature        LR\n",
       "0      Intercept                5.192273\n",
       "1   Coefficients          mass -0.003044\n",
       "2   Coefficients           cyl  0.367318\n",
       "3   Coefficients  density_line  0.078013\n",
       "4   Coefficients  density_quad -0.259172\n",
       "5   Coefficients  density_cube  0.417972\n",
       "6   Coefficients       Midsize -1.837873\n",
       "7   Coefficients         Small -2.384329\n",
       "8   Coefficients       Compact -1.741808\n",
       "9   Coefficients        Sporty -1.846987\n",
       "10  Coefficients         Large -2.412369"
      ]
     },
     "execution_count": 32,
     "metadata": {},
     "output_type": "execute_result"
    }
   ],
   "source": [
    "# Reviewing intercept and coefficients\n",
    "print(f'''\n",
    "Intercept: {model_lr_cars.intercept}\n",
    "Coefficients:\n",
    "{model_lr_cars.coefficients}\n",
    "\n",
    "Feature cols: {feature_cols}\n",
    "Encoded categos (type_vec): {newCols_type[:-1]}\n",
    "''')\n",
    "\n",
    "# Saving for later review\n",
    "coefficient_len = len(model_lr_cars.coefficients)\n",
    "feature_cars_importance = pd.DataFrame({\n",
    "    'Slope': ['Intercept'] + ['Coefficients']*coefficient_len,\n",
    "    'Feature': [''] + feature_cols[:-1] + newCols_type[:-1],\n",
    "    'LR': [model_lr_cars.intercept] + list(model_lr_cars.coefficients)\n",
    "})\n",
    "feature_cars_importance"
   ]
  },
  {
   "cell_type": "markdown",
   "id": "f8ea6f8f-de8c-43ea-aec7-76968a7314a8",
   "metadata": {},
   "source": [
    "### Build a Ridge regression ($ \\alpha = 0 $ | $ \\lambda = 0.1 $)"
   ]
  },
  {
   "cell_type": "code",
   "execution_count": 33,
   "id": "5dcfb179-9947-4604-85fa-dcd44897cab8",
   "metadata": {},
   "outputs": [
    {
     "name": "stdout",
     "output_type": "stream",
     "text": [
      "\n",
      "RMSE: 0.7961695128343987\n",
      " MAE: 0.6124553679408236\n",
      "  R²: 0.8467732911194631\n",
      " MSE: 0.6338858931669639\n",
      "\n"
     ]
    }
   ],
   "source": [
    "# alpha = 0 | lambda = 0.1 -> Ridge\n",
    "model_ridge_cars = LinearRegression(labelCol='consumption', \n",
    "                                    elasticNetParam=0, regParam=0.1).fit(df_cars_train)\n",
    "\n",
    "# Predict on cars_test (testing data).\n",
    "predictions_cars = model_ridge_cars.transform(df_cars_test)\n",
    "\n",
    "# Evaluate the model\n",
    "eval_cars = RegressionEvaluator(labelCol='consumption')\n",
    "\n",
    "# R² will be negative when the line or curve does an awful job of fitting the data.\n",
    "print(f'''\n",
    "RMSE: {eval_cars.evaluate(predictions_cars)}\n",
    " MAE: {eval_cars.evaluate(predictions_cars, {eval_cars.metricName: \"mae\"})}\n",
    "  R²: {eval_cars.evaluate(predictions_cars, {eval_cars.metricName: \"r2\"})}\n",
    " MSE: {eval_cars.evaluate(predictions_cars, {eval_cars.metricName: \"mse\"})}\n",
    "''')"
   ]
  },
  {
   "cell_type": "code",
   "execution_count": 34,
   "id": "731b0f71-1a66-499a-b14d-10bc4c2710e4",
   "metadata": {},
   "outputs": [
    {
     "data": {
      "text/html": [
       "<div>\n",
       "<style scoped>\n",
       "    .dataframe tbody tr th:only-of-type {\n",
       "        vertical-align: middle;\n",
       "    }\n",
       "\n",
       "    .dataframe tbody tr th {\n",
       "        vertical-align: top;\n",
       "    }\n",
       "\n",
       "    .dataframe thead th {\n",
       "        text-align: right;\n",
       "    }\n",
       "</style>\n",
       "<table border=\"1\" class=\"dataframe\">\n",
       "  <thead>\n",
       "    <tr style=\"text-align: right;\">\n",
       "      <th></th>\n",
       "      <th>Slope</th>\n",
       "      <th>Feature</th>\n",
       "      <th>LR</th>\n",
       "      <th>Ridge</th>\n",
       "    </tr>\n",
       "  </thead>\n",
       "  <tbody>\n",
       "    <tr>\n",
       "      <th>0</th>\n",
       "      <td>Intercept</td>\n",
       "      <td></td>\n",
       "      <td>5.192273</td>\n",
       "      <td>3.081015</td>\n",
       "    </tr>\n",
       "    <tr>\n",
       "      <th>1</th>\n",
       "      <td>Coefficients</td>\n",
       "      <td>mass</td>\n",
       "      <td>-0.003044</td>\n",
       "      <td>0.002382</td>\n",
       "    </tr>\n",
       "    <tr>\n",
       "      <th>2</th>\n",
       "      <td>Coefficients</td>\n",
       "      <td>cyl</td>\n",
       "      <td>0.367318</td>\n",
       "      <td>0.301456</td>\n",
       "    </tr>\n",
       "    <tr>\n",
       "      <th>3</th>\n",
       "      <td>Coefficients</td>\n",
       "      <td>density_line</td>\n",
       "      <td>0.078013</td>\n",
       "      <td>0.012940</td>\n",
       "    </tr>\n",
       "    <tr>\n",
       "      <th>4</th>\n",
       "      <td>Coefficients</td>\n",
       "      <td>density_quad</td>\n",
       "      <td>-0.259172</td>\n",
       "      <td>0.041828</td>\n",
       "    </tr>\n",
       "    <tr>\n",
       "      <th>5</th>\n",
       "      <td>Coefficients</td>\n",
       "      <td>density_cube</td>\n",
       "      <td>0.417972</td>\n",
       "      <td>0.003436</td>\n",
       "    </tr>\n",
       "    <tr>\n",
       "      <th>6</th>\n",
       "      <td>Coefficients</td>\n",
       "      <td>Midsize</td>\n",
       "      <td>-1.837873</td>\n",
       "      <td>-1.120740</td>\n",
       "    </tr>\n",
       "    <tr>\n",
       "      <th>7</th>\n",
       "      <td>Coefficients</td>\n",
       "      <td>Small</td>\n",
       "      <td>-2.384329</td>\n",
       "      <td>-1.420070</td>\n",
       "    </tr>\n",
       "    <tr>\n",
       "      <th>8</th>\n",
       "      <td>Coefficients</td>\n",
       "      <td>Compact</td>\n",
       "      <td>-1.741808</td>\n",
       "      <td>-0.958645</td>\n",
       "    </tr>\n",
       "    <tr>\n",
       "      <th>9</th>\n",
       "      <td>Coefficients</td>\n",
       "      <td>Sporty</td>\n",
       "      <td>-1.846987</td>\n",
       "      <td>-1.099926</td>\n",
       "    </tr>\n",
       "    <tr>\n",
       "      <th>10</th>\n",
       "      <td>Coefficients</td>\n",
       "      <td>Large</td>\n",
       "      <td>-2.412369</td>\n",
       "      <td>-1.640884</td>\n",
       "    </tr>\n",
       "  </tbody>\n",
       "</table>\n",
       "</div>"
      ],
      "text/plain": [
       "           Slope       Feature        LR     Ridge\n",
       "0      Intercept                5.192273  3.081015\n",
       "1   Coefficients          mass -0.003044  0.002382\n",
       "2   Coefficients           cyl  0.367318  0.301456\n",
       "3   Coefficients  density_line  0.078013  0.012940\n",
       "4   Coefficients  density_quad -0.259172  0.041828\n",
       "5   Coefficients  density_cube  0.417972  0.003436\n",
       "6   Coefficients       Midsize -1.837873 -1.120740\n",
       "7   Coefficients         Small -2.384329 -1.420070\n",
       "8   Coefficients       Compact -1.741808 -0.958645\n",
       "9   Coefficients        Sporty -1.846987 -1.099926\n",
       "10  Coefficients         Large -2.412369 -1.640884"
      ]
     },
     "execution_count": 34,
     "metadata": {},
     "output_type": "execute_result"
    }
   ],
   "source": [
    "# Reviewing intercept and coefficients\n",
    "feature_cars_importance['Ridge'] = [model_ridge_cars.intercept] + list(model_ridge_cars.coefficients)\n",
    "feature_cars_importance"
   ]
  },
  {
   "cell_type": "markdown",
   "id": "0c819185-5dc2-4508-b70d-05f23397448c",
   "metadata": {},
   "source": [
    "### Build a Lasso regression ($ \\alpha = 1 $ | $ \\lambda = 0.1 $)"
   ]
  },
  {
   "cell_type": "code",
   "execution_count": 35,
   "id": "35771d7d-abc3-47f4-8404-a858e463d6de",
   "metadata": {},
   "outputs": [
    {
     "name": "stdout",
     "output_type": "stream",
     "text": [
      "\n",
      "RMSE: 0.8800301549345549\n",
      " MAE: 0.7318455942060678\n",
      "  R²: 0.8127945472072695\n",
      " MSE: 0.7744530735941367\n",
      "\n"
     ]
    }
   ],
   "source": [
    "# alpha = 0 | lambda = 0.1 -> Ridge\n",
    "model_lasso_cars = LinearRegression(labelCol='consumption', \n",
    "                                    elasticNetParam=1, regParam=0.1).fit(df_cars_train)\n",
    "\n",
    "# Predict on cars_test (testing data).\n",
    "predictions_cars = model_lasso_cars.transform(df_cars_test)\n",
    "\n",
    "# Evaluate the model\n",
    "eval_cars = RegressionEvaluator(labelCol='consumption')\n",
    "\n",
    "# R² will be negative when the line or curve does an awful job of fitting the data.\n",
    "print(f'''\n",
    "RMSE: {eval_cars.evaluate(predictions_cars)}\n",
    " MAE: {eval_cars.evaluate(predictions_cars, {eval_cars.metricName: \"mae\"})}\n",
    "  R²: {eval_cars.evaluate(predictions_cars, {eval_cars.metricName: \"r2\"})}\n",
    " MSE: {eval_cars.evaluate(predictions_cars, {eval_cars.metricName: \"mse\"})}\n",
    "''')"
   ]
  },
  {
   "cell_type": "code",
   "execution_count": 36,
   "id": "087b3f3f-059f-4585-8bc8-ca48f011af53",
   "metadata": {},
   "outputs": [
    {
     "data": {
      "text/html": [
       "<div>\n",
       "<style scoped>\n",
       "    .dataframe tbody tr th:only-of-type {\n",
       "        vertical-align: middle;\n",
       "    }\n",
       "\n",
       "    .dataframe tbody tr th {\n",
       "        vertical-align: top;\n",
       "    }\n",
       "\n",
       "    .dataframe thead th {\n",
       "        text-align: right;\n",
       "    }\n",
       "</style>\n",
       "<table border=\"1\" class=\"dataframe\">\n",
       "  <thead>\n",
       "    <tr style=\"text-align: right;\">\n",
       "      <th></th>\n",
       "      <th>Slope</th>\n",
       "      <th>Feature</th>\n",
       "      <th>LR</th>\n",
       "      <th>Ridge</th>\n",
       "      <th>Lasso</th>\n",
       "    </tr>\n",
       "  </thead>\n",
       "  <tbody>\n",
       "    <tr>\n",
       "      <th>0</th>\n",
       "      <td>Intercept</td>\n",
       "      <td></td>\n",
       "      <td>5.192273</td>\n",
       "      <td>3.081015</td>\n",
       "      <td>0.504798</td>\n",
       "    </tr>\n",
       "    <tr>\n",
       "      <th>1</th>\n",
       "      <td>Coefficients</td>\n",
       "      <td>mass</td>\n",
       "      <td>-0.003044</td>\n",
       "      <td>0.002382</td>\n",
       "      <td>0.000156</td>\n",
       "    </tr>\n",
       "    <tr>\n",
       "      <th>2</th>\n",
       "      <td>Coefficients</td>\n",
       "      <td>cyl</td>\n",
       "      <td>0.367318</td>\n",
       "      <td>0.301456</td>\n",
       "      <td>0.077517</td>\n",
       "    </tr>\n",
       "    <tr>\n",
       "      <th>3</th>\n",
       "      <td>Coefficients</td>\n",
       "      <td>density_line</td>\n",
       "      <td>0.078013</td>\n",
       "      <td>0.012940</td>\n",
       "      <td>0.041219</td>\n",
       "    </tr>\n",
       "    <tr>\n",
       "      <th>4</th>\n",
       "      <td>Coefficients</td>\n",
       "      <td>density_quad</td>\n",
       "      <td>-0.259172</td>\n",
       "      <td>0.041828</td>\n",
       "      <td>0.000000</td>\n",
       "    </tr>\n",
       "    <tr>\n",
       "      <th>5</th>\n",
       "      <td>Coefficients</td>\n",
       "      <td>density_cube</td>\n",
       "      <td>0.417972</td>\n",
       "      <td>0.003436</td>\n",
       "      <td>0.000000</td>\n",
       "    </tr>\n",
       "    <tr>\n",
       "      <th>6</th>\n",
       "      <td>Coefficients</td>\n",
       "      <td>Midsize</td>\n",
       "      <td>-1.837873</td>\n",
       "      <td>-1.120740</td>\n",
       "      <td>0.000000</td>\n",
       "    </tr>\n",
       "    <tr>\n",
       "      <th>7</th>\n",
       "      <td>Coefficients</td>\n",
       "      <td>Small</td>\n",
       "      <td>-2.384329</td>\n",
       "      <td>-1.420070</td>\n",
       "      <td>-0.008999</td>\n",
       "    </tr>\n",
       "    <tr>\n",
       "      <th>8</th>\n",
       "      <td>Coefficients</td>\n",
       "      <td>Compact</td>\n",
       "      <td>-1.741808</td>\n",
       "      <td>-0.958645</td>\n",
       "      <td>0.000000</td>\n",
       "    </tr>\n",
       "    <tr>\n",
       "      <th>9</th>\n",
       "      <td>Coefficients</td>\n",
       "      <td>Sporty</td>\n",
       "      <td>-1.846987</td>\n",
       "      <td>-1.099926</td>\n",
       "      <td>0.000000</td>\n",
       "    </tr>\n",
       "    <tr>\n",
       "      <th>10</th>\n",
       "      <td>Coefficients</td>\n",
       "      <td>Large</td>\n",
       "      <td>-2.412369</td>\n",
       "      <td>-1.640884</td>\n",
       "      <td>-0.016068</td>\n",
       "    </tr>\n",
       "  </tbody>\n",
       "</table>\n",
       "</div>"
      ],
      "text/plain": [
       "           Slope       Feature        LR     Ridge     Lasso\n",
       "0      Intercept                5.192273  3.081015  0.504798\n",
       "1   Coefficients          mass -0.003044  0.002382  0.000156\n",
       "2   Coefficients           cyl  0.367318  0.301456  0.077517\n",
       "3   Coefficients  density_line  0.078013  0.012940  0.041219\n",
       "4   Coefficients  density_quad -0.259172  0.041828  0.000000\n",
       "5   Coefficients  density_cube  0.417972  0.003436  0.000000\n",
       "6   Coefficients       Midsize -1.837873 -1.120740  0.000000\n",
       "7   Coefficients         Small -2.384329 -1.420070 -0.008999\n",
       "8   Coefficients       Compact -1.741808 -0.958645  0.000000\n",
       "9   Coefficients        Sporty -1.846987 -1.099926  0.000000\n",
       "10  Coefficients         Large -2.412369 -1.640884 -0.016068"
      ]
     },
     "execution_count": 36,
     "metadata": {},
     "output_type": "execute_result"
    }
   ],
   "source": [
    "# Reviewing intercept and coefficients\n",
    "feature_cars_importance['Lasso'] = [model_lasso_cars.intercept] + list(model_lasso_cars.coefficients)\n",
    "feature_cars_importance"
   ]
  },
  {
   "cell_type": "markdown",
   "id": "e8df34e9-20a0-4f48-bb62-6f283699b410",
   "metadata": {},
   "source": [
    "### Selecting the most important features"
   ]
  },
  {
   "cell_type": "code",
   "execution_count": 37,
   "id": "8e3a89d6-14b3-4bce-ab59-8da7ce32719e",
   "metadata": {},
   "outputs": [
    {
     "data": {
      "text/html": [
       "<div>\n",
       "<style scoped>\n",
       "    .dataframe tbody tr th:only-of-type {\n",
       "        vertical-align: middle;\n",
       "    }\n",
       "\n",
       "    .dataframe tbody tr th {\n",
       "        vertical-align: top;\n",
       "    }\n",
       "\n",
       "    .dataframe thead th {\n",
       "        text-align: right;\n",
       "    }\n",
       "</style>\n",
       "<table border=\"1\" class=\"dataframe\">\n",
       "  <thead>\n",
       "    <tr style=\"text-align: right;\">\n",
       "      <th></th>\n",
       "      <th>Slope</th>\n",
       "      <th>Feature</th>\n",
       "      <th>LR</th>\n",
       "      <th>Ridge</th>\n",
       "      <th>Lasso</th>\n",
       "    </tr>\n",
       "  </thead>\n",
       "  <tbody>\n",
       "    <tr>\n",
       "      <th>0</th>\n",
       "      <td>Intercept</td>\n",
       "      <td></td>\n",
       "      <td>5.192273</td>\n",
       "      <td>3.081015</td>\n",
       "      <td>0.504798</td>\n",
       "    </tr>\n",
       "    <tr>\n",
       "      <th>2</th>\n",
       "      <td>Coefficients</td>\n",
       "      <td>cyl</td>\n",
       "      <td>0.367318</td>\n",
       "      <td>0.301456</td>\n",
       "      <td>0.077517</td>\n",
       "    </tr>\n",
       "    <tr>\n",
       "      <th>3</th>\n",
       "      <td>Coefficients</td>\n",
       "      <td>density_line</td>\n",
       "      <td>0.078013</td>\n",
       "      <td>0.012940</td>\n",
       "      <td>0.041219</td>\n",
       "    </tr>\n",
       "    <tr>\n",
       "      <th>7</th>\n",
       "      <td>Coefficients</td>\n",
       "      <td>Small</td>\n",
       "      <td>-2.384329</td>\n",
       "      <td>-1.420070</td>\n",
       "      <td>-0.008999</td>\n",
       "    </tr>\n",
       "    <tr>\n",
       "      <th>10</th>\n",
       "      <td>Coefficients</td>\n",
       "      <td>Large</td>\n",
       "      <td>-2.412369</td>\n",
       "      <td>-1.640884</td>\n",
       "      <td>-0.016068</td>\n",
       "    </tr>\n",
       "  </tbody>\n",
       "</table>\n",
       "</div>"
      ],
      "text/plain": [
       "           Slope       Feature        LR     Ridge     Lasso\n",
       "0      Intercept                5.192273  3.081015  0.504798\n",
       "2   Coefficients           cyl  0.367318  0.301456  0.077517\n",
       "3   Coefficients  density_line  0.078013  0.012940  0.041219\n",
       "7   Coefficients         Small -2.384329 -1.420070 -0.008999\n",
       "10  Coefficients         Large -2.412369 -1.640884 -0.016068"
      ]
     },
     "execution_count": 37,
     "metadata": {},
     "output_type": "execute_result"
    }
   ],
   "source": [
    "feature_cars_importance[feature_cars_importance.Lasso.round(3)!= 0]"
   ]
  },
  {
   "cell_type": "markdown",
   "id": "6be9e5fe-65cc-408c-b3a4-447ed1774445",
   "metadata": {},
   "source": [
    "# BMI dataset"
   ]
  },
  {
   "cell_type": "code",
   "execution_count": 38,
   "id": "a315a68a-14ba-47ac-8161-9b2fd440705f",
   "metadata": {},
   "outputs": [
    {
     "data": {
      "text/html": [
       "<table border='1'>\n",
       "<tr><th>height_mt</th><th>mass_kg</th></tr>\n",
       "<tr><td>1.7496714153011232</td><td>54.45891245893144</td></tr>\n",
       "<tr><td>1.6861735698828815</td><td>63.856884442309884</td></tr>\n",
       "</table>\n"
      ],
      "text/plain": [
       "+------------------+------------------+\n",
       "|         height_mt|           mass_kg|\n",
       "+------------------+------------------+\n",
       "|1.7496714153011232| 54.45891245893144|\n",
       "|1.6861735698828815|63.856884442309884|\n",
       "+------------------+------------------+"
      ]
     },
     "execution_count": 38,
     "metadata": {},
     "output_type": "execute_result"
    }
   ],
   "source": [
    "df_bmi = bmi_data.select('*')\n",
    "df_bmi.limit(2)"
   ]
  },
  {
   "cell_type": "markdown",
   "id": "afc0e992-74f0-429a-bbc8-fdcbc2f16fda",
   "metadata": {},
   "source": [
    "## Bucketing & Engineering\n",
    "\n",
    "### Bucketing heights"
   ]
  },
  {
   "cell_type": "code",
   "execution_count": 39,
   "id": "0662d8c9-affe-4370-b29f-7a25555e510e",
   "metadata": {},
   "outputs": [
    {
     "data": {
      "image/png": "[encoded data removed]",
      "text/plain": [
       "<Figure size 640x480 with 1 Axes>"
      ]
     },
     "metadata": {},
     "output_type": "display_data"
    }
   ],
   "source": [
    "fig, ax = plt.subplots()\n",
    "hist(ax, df_bmi.select('height_mt'))\n",
    "ax.set_xlabel('height_mt')\n",
    "ax.set_ylabel('count')\n",
    "plt.show()"
   ]
  },
  {
   "cell_type": "code",
   "execution_count": 40,
   "id": "c5ec3a81-8efb-4c27-85df-6f9f6fab03f8",
   "metadata": {},
   "outputs": [
    {
     "data": {
      "image/png": "[encoded data removed]",
      "text/plain": [
       "<Figure size 600x300 with 2 Axes>"
      ]
     },
     "metadata": {},
     "output_type": "display_data"
    }
   ],
   "source": [
    "histogram_boxplot(df_bmi.select('height_mt').toPandas().height_mt)"
   ]
  },
  {
   "cell_type": "code",
   "execution_count": 41,
   "id": "515d3823-b90a-44c0-ac0c-2ee4bd085dbc",
   "metadata": {},
   "outputs": [
    {
     "name": "stdout",
     "output_type": "stream",
     "text": [
      "Range: Row(min(height_mt)=1.4, max(height_mt)=2.0)\n",
      "+----------+-----+\n",
      "|height_bin|count|\n",
      "+----------+-----+\n",
      "|       0.0|  286|\n",
      "|       2.0|  331|\n",
      "|       1.0| 1383|\n",
      "+----------+-----+\n",
      "\n",
      "+----------+-----+\n",
      "|height_cat|count|\n",
      "+----------+-----+\n",
      "|     short|  286|\n",
      "|      tall|  331|\n",
      "|   average| 1383|\n",
      "+----------+-----+\n",
      "\n"
     ]
    },
    {
     "data": {
      "text/html": [
       "<table border='1'>\n",
       "<tr><th>height_mt</th><th>mass_kg</th><th>height_bin</th><th>height_cat</th></tr>\n",
       "<tr><td>1.7496714153011232</td><td>54.45891245893144</td><td>1.0</td><td>average</td></tr>\n",
       "<tr><td>1.6861735698828815</td><td>63.856884442309884</td><td>1.0</td><td>average</td></tr>\n",
       "<tr><td>1.7647688538100692</td><td>52.576750887652835</td><td>1.0</td><td>average</td></tr>\n",
       "<tr><td>1.8523029856408024</td><td>60.80132254426298</td><td>2.0</td><td>tall</td></tr>\n",
       "<tr><td>1.6765846625276664</td><td>40.0</td><td>1.0</td><td>average</td></tr>\n",
       "</table>\n"
      ],
      "text/plain": [
       "+------------------+------------------+----------+----------+\n",
       "|         height_mt|           mass_kg|height_bin|height_cat|\n",
       "+------------------+------------------+----------+----------+\n",
       "|1.7496714153011232| 54.45891245893144|       1.0|   average|\n",
       "|1.6861735698828815|63.856884442309884|       1.0|   average|\n",
       "|1.7647688538100692|52.576750887652835|       1.0|   average|\n",
       "|1.8523029856408024| 60.80132254426298|       2.0|      tall|\n",
       "|1.6765846625276664|              40.0|       1.0|   average|\n",
       "+------------------+------------------+----------+----------+"
      ]
     },
     "execution_count": 41,
     "metadata": {},
     "output_type": "execute_result"
    }
   ],
   "source": [
    "df_bmi = df_bmi.drop(*['height_bin'])\n",
    "\n",
    "# Getting the range\n",
    "min_max = df_bmi.select('height_mt').agg(F.min('height_mt'), F.max('height_mt')).collect()[0]\n",
    "print('Range:', min_max)\n",
    "\n",
    "# Applying buckets\n",
    "bucketizer = Bucketizer(splits=[min_max[0], 1.6, 1.8, min_max[1]],\n",
    "                        inputCol=\"height_mt\", outputCol=\"height_bin\")\n",
    "df_bmi = bucketizer.transform(df_bmi)\n",
    "\n",
    "# Assign categos to bins\n",
    "df_bmi = df_bmi.withColumn(\"height_cat\", F.when(df_bmi[\"height_bin\"] == 0, \"short\")\n",
    "                                          .when(df_bmi[\"height_bin\"] == 1, \"average\")\n",
    "                                          .when(df_bmi[\"height_bin\"] == 2, \"tall\")\n",
    ")\n",
    "\n",
    "# Inspecting results\n",
    "df_bmi.groupBy(\"height_bin\").count().sort('count').show()\n",
    "df_bmi.groupBy(\"height_cat\").count().sort('count').show()\n",
    "df_bmi.limit(5)"
   ]
  },
  {
   "cell_type": "markdown",
   "id": "a32c4d2b-053a-4553-9f8f-440f8ab646c0",
   "metadata": {},
   "source": [
    "### Mass & Height to BMI"
   ]
  },
  {
   "cell_type": "code",
   "execution_count": 42,
   "id": "175908c7-2b2e-41d3-9fea-f62cf4d430fc",
   "metadata": {},
   "outputs": [
    {
     "data": {
      "image/png": "[encoded data removed]",
      "text/plain": [
       "<Figure size 640x480 with 2 Axes>"
      ]
     },
     "metadata": {},
     "output_type": "display_data"
    }
   ],
   "source": [
    "fig, (ax1, ax2) = plt.subplots(nrows=1, ncols=2)\n",
    "hist(ax1, df_bmi.select('height_mt'))\n",
    "ax1.set_xlabel('height_mt')\n",
    "ax1.set_ylabel('count')\n",
    "hist(ax2, df_bmi.select('mass_kg'))\n",
    "ax2.set_xlabel('mass_kg')\n",
    "ax2.set_ylabel('count')\n",
    "plt.tight_layout()\n",
    "plt.show()"
   ]
  },
  {
   "cell_type": "code",
   "execution_count": 43,
   "id": "2a272042-eb1e-4131-b3e5-5da12971c062",
   "metadata": {},
   "outputs": [
    {
     "data": {
      "image/png": "[encoded data removed]",
      "text/plain": [
       "<Figure size 600x300 with 2 Axes>"
      ]
     },
     "metadata": {},
     "output_type": "display_data"
    }
   ],
   "source": [
    "histogram_boxplot(df_bmi.select('height_mt').toPandas().height_mt)"
   ]
  },
  {
   "cell_type": "code",
   "execution_count": 44,
   "id": "2f66ea31-781e-4855-991b-5badd0132db9",
   "metadata": {},
   "outputs": [
    {
     "data": {
      "image/png": "[encoded data removed]",
      "text/plain": [
       "<Figure size 600x300 with 2 Axes>"
      ]
     },
     "metadata": {},
     "output_type": "display_data"
    }
   ],
   "source": [
    "histogram_boxplot(df_bmi.select('mass_kg').toPandas().mass_kg)"
   ]
  },
  {
   "cell_type": "code",
   "execution_count": 45,
   "id": "6d4e5a20-44d1-40a2-a77e-2754af72b868",
   "metadata": {},
   "outputs": [
    {
     "data": {
      "text/html": [
       "<table border='1'>\n",
       "<tr><th>height_mt</th><th>mass_kg</th><th>height_bin</th><th>height_cat</th><th>bmi</th></tr>\n",
       "<tr><td>1.7496714153011232</td><td>54.45891245893144</td><td>1.0</td><td>average</td><td>17.789181689290125</td></tr>\n",
       "<tr><td>1.6861735698828815</td><td>63.856884442309884</td><td>1.0</td><td>average</td><td>22.45965963118948</td></tr>\n",
       "<tr><td>1.7647688538100692</td><td>52.576750887652835</td><td>1.0</td><td>average</td><td>16.881774062083664</td></tr>\n",
       "<tr><td>1.8523029856408024</td><td>60.80132254426298</td><td>2.0</td><td>tall</td><td>17.721030482142833</td></tr>\n",
       "<tr><td>1.6765846625276664</td><td>40.0</td><td>1.0</td><td>average</td><td>14.230134781160787</td></tr>\n",
       "<tr><td>1.676586304305082</td><td>71.09294548112771</td><td>1.0</td><td>average</td><td>25.291505371763094</td></tr>\n",
       "<tr><td>1.857921281550739</td><td>66.71045202096944</td><td>2.0</td><td>tall</td><td>19.325879380038685</td></tr>\n",
       "<tr><td>1.776743472915291</td><td>52.189086945201055</td><td>1.0</td><td>average</td><td>16.53218442890817</td></tr>\n",
       "<tr><td>1.6530525614065048</td><td>81.26973634141737</td><td>1.0</td><td>average</td><td>29.740997129407827</td></tr>\n",
       "<tr><td>1.7542560043585964</td><td>88.34689389144363</td><td>1.0</td><td>average</td><td>28.70815892597601</td></tr>\n",
       "</table>\n"
      ],
      "text/plain": [
       "+------------------+------------------+----------+----------+------------------+\n",
       "|         height_mt|           mass_kg|height_bin|height_cat|               bmi|\n",
       "+------------------+------------------+----------+----------+------------------+\n",
       "|1.7496714153011232| 54.45891245893144|       1.0|   average|17.789181689290125|\n",
       "|1.6861735698828815|63.856884442309884|       1.0|   average| 22.45965963118948|\n",
       "|1.7647688538100692|52.576750887652835|       1.0|   average|16.881774062083664|\n",
       "|1.8523029856408024| 60.80132254426298|       2.0|      tall|17.721030482142833|\n",
       "|1.6765846625276664|              40.0|       1.0|   average|14.230134781160787|\n",
       "| 1.676586304305082| 71.09294548112771|       1.0|   average|25.291505371763094|\n",
       "| 1.857921281550739| 66.71045202096944|       2.0|      tall|19.325879380038685|\n",
       "| 1.776743472915291|52.189086945201055|       1.0|   average| 16.53218442890817|\n",
       "|1.6530525614065048| 81.26973634141737|       1.0|   average|29.740997129407827|\n",
       "|1.7542560043585964| 88.34689389144363|       1.0|   average| 28.70815892597601|\n",
       "+------------------+------------------+----------+----------+------------------+"
      ]
     },
     "execution_count": 45,
     "metadata": {},
     "output_type": "execute_result"
    }
   ],
   "source": [
    "df_bmi = df_bmi.withColumn(\"bmi\", df_bmi.mass_kg/F.pow(df_bmi.height_mt, 2))\n",
    "df_bmi.limit(10)"
   ]
  },
  {
   "cell_type": "code",
   "execution_count": 46,
   "id": "8d35166c-cfbd-4194-9f6c-f2326d3db8c7",
   "metadata": {},
   "outputs": [
    {
     "data": {
      "image/png": "[encoded data removed]",
      "text/plain": [
       "<Figure size 640x480 with 1 Axes>"
      ]
     },
     "metadata": {},
     "output_type": "display_data"
    }
   ],
   "source": [
    "fig, ax = plt.subplots()\n",
    "hist(ax, df_bmi.select('bmi'))\n",
    "ax.set_xlabel('bmi')\n",
    "ax.set_ylabel('count')\n",
    "plt.show()"
   ]
  },
  {
   "cell_type": "code",
   "execution_count": 47,
   "id": "a6987d37-edf6-44c1-8fe0-34229a84999d",
   "metadata": {},
   "outputs": [
    {
     "data": {
      "image/png": "[encoded data removed]",
      "text/plain": [
       "<Figure size 600x300 with 2 Axes>"
      ]
     },
     "metadata": {},
     "output_type": "display_data"
    }
   ],
   "source": [
    "histogram_boxplot(df_bmi.select('bmi').toPandas().bmi)"
   ]
  },
  {
   "cell_type": "markdown",
   "id": "60bf27c1-a5a7-425a-b935-0a492136280d",
   "metadata": {},
   "source": [
    "# Flights Dataset"
   ]
  },
  {
   "cell_type": "code",
   "execution_count": 48,
   "id": "a0ce9de4-37c8-4efc-9b00-8d95084bae15",
   "metadata": {},
   "outputs": [
    {
     "name": "stdout",
     "output_type": "stream",
     "text": [
      "+---+-----+\n",
      "|org|count|\n",
      "+---+-----+\n",
      "|ORD|17928|\n",
      "|SFO| 9129|\n",
      "|JFK| 7516|\n",
      "|LGA| 4539|\n",
      "|SMF| 2955|\n",
      "|SJC| 2952|\n",
      "|TUS| 1033|\n",
      "|OGG|  970|\n",
      "+---+-----+\n",
      "\n"
     ]
    },
    {
     "data": {
      "text/html": [
       "<table border='1'>\n",
       "<tr><th>mon</th><th>dom</th><th>dow</th><th>carrier</th><th>flight</th><th>org</th><th>mile</th><th>depart</th><th>duration</th><th>delay</th><th>km</th></tr>\n",
       "<tr><td>0</td><td>22</td><td>2</td><td>UA</td><td>1107</td><td>ORD</td><td>316</td><td>16.33</td><td>82</td><td>30</td><td>509.0</td></tr>\n",
       "<tr><td>2</td><td>20</td><td>4</td><td>UA</td><td>226</td><td>SFO</td><td>337</td><td>6.17</td><td>82</td><td>-8</td><td>542.0</td></tr>\n",
       "</table>\n"
      ],
      "text/plain": [
       "+---+---+---+-------+------+---+----+------+--------+-----+-----+\n",
       "|mon|dom|dow|carrier|flight|org|mile|depart|duration|delay|   km|\n",
       "+---+---+---+-------+------+---+----+------+--------+-----+-----+\n",
       "|  0| 22|  2|     UA|  1107|ORD| 316| 16.33|      82|   30|509.0|\n",
       "|  2| 20|  4|     UA|   226|SFO| 337|  6.17|      82|   -8|542.0|\n",
       "+---+---+---+-------+------+---+----+------+--------+-----+-----+"
      ]
     },
     "execution_count": 48,
     "metadata": {},
     "output_type": "execute_result"
    }
   ],
   "source": [
    "df_flights = flights_data.select('*')\n",
    "df_flights.groupby('org').count().sort(F.col(\"count\").desc()).show()\n",
    "df_flights.limit(2)"
   ]
  },
  {
   "cell_type": "markdown",
   "id": "63032494-3474-4683-9f54-fc0c8a461149",
   "metadata": {},
   "source": [
    "## Ex. 1 - Encoding flight origin\n",
    "\n",
    "The `org` column in the flights data is a categorical variable giving the airport from which a flight departs.\n",
    "- ORD — O'Hare International Airport (Chicago)\n",
    "- SFO — San Francisco International Airport\n",
    "- JFK — John F Kennedy International Airport (New York)\n",
    "- LGA — La Guardia Airport (New York)\n",
    "- SMF — Sacramento\n",
    "- SJC — San Jose\n",
    "- OGG — Kahului (Hawaii)\n",
    "\n",
    "**Instructions:**\n",
    "\n",
    "1. Import the one-hot encoder class.\n",
    "2. Create a one-hot encoder instance, naming the input column `org_idx` and the output column `org_vec`.\n",
    "3. Apply the one-hot encoder to the flights data.\n",
    "4. Generate a summary of the mapping from categorical values to binary encoded dummy variables. Include only unique values and order by org_idx."
   ]
  },
  {
   "cell_type": "code",
   "execution_count": 49,
   "id": "f1c9e5b1-83b8-4838-8577-6ed4db6b5263",
   "metadata": {},
   "outputs": [
    {
     "name": "stdout",
     "output_type": "stream",
     "text": [
      "How many category levels? [8]\n",
      "+---+-------+-------------+\n",
      "|org|org_idx|      org_vec|\n",
      "+---+-------+-------------+\n",
      "|ORD|    0.0|(7,[0],[1.0])|\n",
      "|SFO|    1.0|(7,[1],[1.0])|\n",
      "|JFK|    2.0|(7,[2],[1.0])|\n",
      "|LGA|    3.0|(7,[3],[1.0])|\n",
      "|SMF|    4.0|(7,[4],[1.0])|\n",
      "|SJC|    5.0|(7,[5],[1.0])|\n",
      "|TUS|    6.0|(7,[6],[1.0])|\n",
      "|OGG|    7.0|    (7,[],[])|\n",
      "+---+-------+-------------+\n",
      "\n"
     ]
    },
    {
     "data": {
      "text/plain": [
       "['ORD', 'SFO', 'JFK', 'LGA', 'SMF', 'SJC', 'TUS', 'OGG']"
      ]
     },
     "execution_count": 49,
     "metadata": {},
     "output_type": "execute_result"
    }
   ],
   "source": [
    "df_flights = df_flights.drop(*['org_idx', 'org_vec'])\n",
    "\n",
    "# Indexing the org. column\n",
    "indexer_flights = StringIndexer(inputCol='org', outputCol='org_idx').fit(df_flights)\n",
    "df_flights = indexer_flights.transform(df_flights)\n",
    "\n",
    "# Vectorize the index values\n",
    "onehot_flights = OneHotEncoder(inputCols=['org_idx'], outputCols=['org_vec']).fit(df_flights)\n",
    "print(f\"How many category levels? {onehot_flights.categorySizes}\")\n",
    "df_flights = onehot_flights.transform(df_flights)\n",
    "\n",
    "# Inspect results\n",
    "df_flights.select('org', 'org_idx', 'org_vec').distinct().orderBy('org_idx').show()\n",
    "df_flights.limit(2)\n",
    "\n",
    "# Getting the encoded categories\n",
    "colIdx = df_flights.select('org', \"org_idx\").distinct().rdd.collectAsMap()\n",
    "colIdx =  sorted((value, key) for (key, value) in colIdx.items())\n",
    "newCols_org = list(map(lambda x: x[1], colIdx))\n",
    "newCols_org"
   ]
  },
  {
   "cell_type": "markdown",
   "id": "01b2904f-0c46-4673-8957-400bcb234d10",
   "metadata": {},
   "source": [
    "### Encoding carrier"
   ]
  },
  {
   "cell_type": "code",
   "execution_count": 50,
   "id": "71f87b29-7a32-4f17-b7af-a63fb12a476a",
   "metadata": {},
   "outputs": [
    {
     "name": "stdout",
     "output_type": "stream",
     "text": [
      "How many category levels? [9]\n",
      "+-------+-----------+-------------+\n",
      "|carrier|carrier_idx|  carrier_vec|\n",
      "+-------+-----------+-------------+\n",
      "|     UA|        0.0|(8,[0],[1.0])|\n",
      "|     AA|        1.0|(8,[1],[1.0])|\n",
      "|     OO|        2.0|(8,[2],[1.0])|\n",
      "|     WN|        3.0|(8,[3],[1.0])|\n",
      "|     B6|        4.0|(8,[4],[1.0])|\n",
      "|     OH|        5.0|(8,[5],[1.0])|\n",
      "|     US|        6.0|(8,[6],[1.0])|\n",
      "|     HA|        7.0|(8,[7],[1.0])|\n",
      "|     AQ|        8.0|    (8,[],[])|\n",
      "+-------+-----------+-------------+\n",
      "\n"
     ]
    },
    {
     "data": {
      "text/plain": [
       "['UA', 'AA', 'OO', 'WN', 'B6', 'OH', 'US', 'HA', 'AQ']"
      ]
     },
     "execution_count": 50,
     "metadata": {},
     "output_type": "execute_result"
    }
   ],
   "source": [
    "df_flights = df_flights.drop(*['carrier_idx', 'carrier_vec'])\n",
    "\n",
    "# Indexing the carrier column\n",
    "indexer_flights = StringIndexer(inputCol='carrier', outputCol='carrier_idx').fit(df_flights)\n",
    "df_flights = indexer_flights.transform(df_flights)\n",
    "\n",
    "# Vectorize the index values\n",
    "onehot_flights = OneHotEncoder(inputCols=['carrier_idx'], outputCols=['carrier_vec']).fit(df_flights)\n",
    "print(f\"How many category levels? {onehot_flights.categorySizes}\")\n",
    "df_flights = onehot_flights.transform(df_flights)\n",
    "\n",
    "# Inspect results\n",
    "df_flights.select('carrier', 'carrier_idx', 'carrier_vec').distinct().orderBy('carrier_idx').show()\n",
    "df_flights.limit(2)\n",
    "\n",
    "# Getting the encoded categories\n",
    "colIdx = df_flights.select('carrier', \"carrier_idx\").distinct().rdd.collectAsMap()\n",
    "colIdx =  sorted((value, key) for (key, value) in colIdx.items())\n",
    "newCols_carrier = list(map(lambda x: x[1], colIdx))\n",
    "newCols_carrier"
   ]
  },
  {
   "cell_type": "markdown",
   "id": "0bdceb95-4ba0-4e9f-9b6c-baa866817e41",
   "metadata": {},
   "source": [
    "## Ex. 2 - Flight duration model: Just distance\n",
    "\n",
    "In this exercise you'll build a regression model to predict flight duration (the duration column).\n",
    "\n",
    "For the moment you'll keep the model simple, including only the distance of the flight (the `km` column) as a predictor.\n",
    "\n",
    "**Instructions:**\n",
    "\n",
    "1. Create a linear regression object. Specify the name of the label column. Fit it to the training data.\n",
    "2. Make predictions on the testing data.\n",
    "3. Create a regression evaluator object and use it to evaluate RMSE on the testing data."
   ]
  },
  {
   "cell_type": "code",
   "execution_count": 51,
   "id": "9c2d3366-6286-41d5-b591-b2754660ab66",
   "metadata": {},
   "outputs": [
    {
     "name": "stdout",
     "output_type": "stream",
     "text": [
      "+------+--------+--------+\n",
      "|km    |features|duration|\n",
      "+------+--------+--------+\n",
      "|509.0 |[509.0] |82      |\n",
      "|542.0 |[542.0] |82      |\n",
      "|1989.0|[1989.0]|195     |\n",
      "|885.0 |[885.0] |102     |\n",
      "|1180.0|[1180.0]|135     |\n",
      "+------+--------+--------+\n",
      "only showing top 5 rows\n",
      "\n"
     ]
    }
   ],
   "source": [
    "df_flights = df_flights.drop(*['features'])\n",
    "\n",
    "# Preparing feature column\n",
    "feature_cols_flights = ['km']\n",
    "assembler_flights = VectorAssembler(inputCols=feature_cols_flights, outputCol='features')\n",
    "df_flights = assembler_flights.transform(df_flights)\n",
    "df_flights.select(feature_cols_flights + ['features', 'duration']).show(5, truncate=False)"
   ]
  },
  {
   "cell_type": "code",
   "execution_count": 52,
   "id": "803d474d-ddf2-443c-ad87-fbcb9a835581",
   "metadata": {},
   "outputs": [
    {
     "name": "stdout",
     "output_type": "stream",
     "text": [
      "Training set: 37601, Testing set: 9421\n",
      "+--------+------------------+\n",
      "|duration|        prediction|\n",
      "+--------+------------------+\n",
      "|     560| 561.0619125749561|\n",
      "|     310| 346.9912658584909|\n",
      "|     165|133.37496080467133|\n",
      "|     120|133.37496080467133|\n",
      "|     240|213.26336981983607|\n",
      "+--------+------------------+\n",
      "only showing top 5 rows\n",
      "\n"
     ]
    }
   ],
   "source": [
    "# Split into train and test\n",
    "df_flights_train, df_flights_test = df_flights.randomSplit([0.8, 0.2], seed=SEED)\n",
    "print(f\"Training set: {df_flights_train.count()}, Testing set: {df_flights_test.count()}\")\n",
    "\n",
    "# Building the regression model\n",
    "model_lr_flights = LinearRegression(labelCol='duration').fit(df_flights_train)\n",
    "\n",
    "# Predict on flights_test (testing data).\n",
    "predictions_flights = model_lr_flights.transform(df_flights_test)\n",
    "predictions_flights.select('duration', 'prediction').show(5)"
   ]
  },
  {
   "cell_type": "code",
   "execution_count": 53,
   "id": "538c8f96-31b5-48f5-9565-5679de3dd99b",
   "metadata": {},
   "outputs": [
    {
     "name": "stdout",
     "output_type": "stream",
     "text": [
      "\n",
      "RMSE: 16.922105560725083\n",
      " MAE: 12.991268564551982\n",
      "  R²: 0.9626927672076624\n",
      " MSE: 286.3576566083227\n",
      "\n"
     ]
    }
   ],
   "source": [
    "# Evaluate the model\n",
    "eval_flights = RegressionEvaluator(labelCol='duration')\n",
    "\n",
    "print(f'''\n",
    "RMSE: {eval_flights.evaluate(predictions_flights)}\n",
    " MAE: {eval_flights.evaluate(predictions_flights, {eval_flights.metricName: \"mae\"})}\n",
    "  R²: {eval_flights.evaluate(predictions_flights, {eval_flights.metricName: \"r2\"})}\n",
    " MSE: {eval_flights.evaluate(predictions_flights, {eval_flights.metricName: \"mse\"})}\n",
    "''')"
   ]
  },
  {
   "cell_type": "markdown",
   "id": "615fb675-ba14-43b9-9df4-f0db4f8ed4ef",
   "metadata": {},
   "source": [
    "## Ex. 3 - Interpreting the coefficients\n",
    "\n",
    "The linear regression model for flight duration as a function of distance takes the form\n",
    "$$ duration = \\alpha + \\beta \\times distance$$\n",
    "\n",
    "where:\n",
    "- $ \\alpha $ — intercept (component of duration which does not depend on distance) and\n",
    "- $ \\beta $ — coefficient (rate at which duration increases as a function of distance; also called the slope).\n",
    "\n",
    "By looking at the coefficients of your model you will be able to infer:\n",
    "- how much of the average flight duration is actually spent on the ground and\n",
    "- what the average speed is during a flight.\n",
    "\n",
    "**Instructions:**\n",
    "\n",
    "1. What's the intercept?\n",
    "2. What are the coefficients? This is a vector.\n",
    "3. Extract the element from the vector which corresponds to the slope for distance.\n",
    "4. Find the average speed in km per hour."
   ]
  },
  {
   "cell_type": "markdown",
   "id": "7e4e434f-875f-41f3-b1a4-9559a89cc086",
   "metadata": {},
   "source": [
    "Considering $ x = \\frac{min}{km}$, and with the knowledge $ min 🠢 min * \\frac{hr}{60min} 🠢 hr $\n",
    "\n",
    "$$ x 🠢 \\frac{1}{x} 🠢 \\frac{1}{x \\times \\frac{1}{60}} 🠢 \\frac{60}{x} 🠢 \\frac{60}{\\frac{min}{km}} $$\n"
   ]
  },
  {
   "cell_type": "code",
   "execution_count": 54,
   "id": "3c6408f4-87ec-456f-8b86-4a75533c58f0",
   "metadata": {},
   "outputs": [
    {
     "name": "stdout",
     "output_type": "stream",
     "text": [
      "Intercept: 44.02110048439229\n",
      "Coefficients:  [0.07572361044091444]\n",
      "Average minutes per km: 0.07572361044091444\n",
      "Average speed in km per hour: 792.3552462783949\n"
     ]
    }
   ],
   "source": [
    "# Intercept (average minutes on ground)\n",
    "inter = model_lr_flights.intercept\n",
    "print('Intercept:', inter)\n",
    "\n",
    "# Coefficients\n",
    "coefs = model_lr_flights.coefficients\n",
    "print('Coefficients: ', coefs)\n",
    "\n",
    "# Average minutes per km - slope for distance.\n",
    "minutes_per_km = model_lr_flights.coefficients[0]\n",
    "print('Average minutes per km:', minutes_per_km)\n",
    "\n",
    "# Average speed in km per hour\n",
    "avg_speed = 60 / minutes_per_km\n",
    "print('Average speed in km per hour:', avg_speed)"
   ]
  },
  {
   "cell_type": "markdown",
   "id": "922068b1-0dfa-459a-82d4-29a14dd39846",
   "metadata": {},
   "source": [
    "## Ex. 4 - Flight duration model: Adding origin airport\n",
    "\n",
    "Some airports are busier than others. Some airports are bigger than others too. Flights departing from large or busy airports are likely to spend more time taxiing or waiting for their takeoff slot. So it stands to reason that the duration of a flight might depend not only on the distance being covered but also the airport from which the flight departs.\n",
    "\n",
    "You are going to make the regression model a little more sophisticated by including the departure airport as a predictor.\n",
    "\n",
    "**Instructions**\n",
    "\n",
    "1. Fit a linear regression model to the training data.\n",
    "2. Make predictions for the testing data.\n",
    "3. Calculate the RMSE for predictions on the testing data."
   ]
  },
  {
   "cell_type": "code",
   "execution_count": 55,
   "id": "a1c2bb61-7472-4e08-945e-03210035b903",
   "metadata": {},
   "outputs": [
    {
     "name": "stdout",
     "output_type": "stream",
     "text": [
      "+------+-------------+----------------------+--------+\n",
      "|km    |org_vec      |features              |duration|\n",
      "+------+-------------+----------------------+--------+\n",
      "|509.0 |(7,[0],[1.0])|(8,[0,1],[509.0,1.0]) |82      |\n",
      "|542.0 |(7,[1],[1.0])|(8,[0,2],[542.0,1.0]) |82      |\n",
      "|1989.0|(7,[0],[1.0])|(8,[0,1],[1989.0,1.0])|195     |\n",
      "|885.0 |(7,[1],[1.0])|(8,[0,2],[885.0,1.0]) |102     |\n",
      "|1180.0|(7,[0],[1.0])|(8,[0,1],[1180.0,1.0])|135     |\n",
      "+------+-------------+----------------------+--------+\n",
      "only showing top 5 rows\n",
      "\n"
     ]
    }
   ],
   "source": [
    "df_flights = df_flights.drop(*['features'])\n",
    "\n",
    "# Preparing feature column\n",
    "feature_cols_flights = ['km', 'org_vec']\n",
    "assembler_flights = VectorAssembler(inputCols=feature_cols_flights, outputCol='features')\n",
    "df_flights = assembler_flights.transform(df_flights)\n",
    "df_flights.select(feature_cols_flights + ['features', 'duration']).show(5, truncate=False)"
   ]
  },
  {
   "cell_type": "code",
   "execution_count": 56,
   "id": "c635bd22-4c14-4307-9abc-1757ed18e8b5",
   "metadata": {},
   "outputs": [
    {
     "name": "stdout",
     "output_type": "stream",
     "text": [
      "Training set: 37601, Testing set: 9421\n",
      "+--------------------+--------+------------------+\n",
      "|            features|duration|        prediction|\n",
      "+--------------------+--------+------------------+\n",
      "|(8,[0,1],[6828.0,...|     560| 551.8166177505183|\n",
      "|    (8,[0],[4001.0])|     310| 312.8638012590577|\n",
      "|(8,[0,4],[1180.0,...|     165| 150.2985317892182|\n",
      "|(8,[0,1],[1180.0,...|     120|132.06409992722158|\n",
      "|(8,[0,4],[2235.0,...|     240|228.70485372682055|\n",
      "+--------------------+--------+------------------+\n",
      "only showing top 5 rows\n",
      "\n"
     ]
    }
   ],
   "source": [
    "# Split into train and test\n",
    "df_flights_train, df_flights_test = df_flights.randomSplit([0.8, 0.2], seed=SEED)\n",
    "print(f\"Training set: {df_flights_train.count()}, Testing set: {df_flights_test.count()}\")\n",
    "\n",
    "# Building the regression model\n",
    "model_lr_flights = LinearRegression(labelCol='duration').fit(df_flights_train)\n",
    "\n",
    "# Predict on flights_test (testing data).\n",
    "predictions_flights = model_lr_flights.transform(df_flights_test)\n",
    "predictions_flights.select('features', 'duration', 'prediction').show(5)"
   ]
  },
  {
   "cell_type": "code",
   "execution_count": 57,
   "id": "b003ec50-aa5e-4794-997c-ed4d53333343",
   "metadata": {},
   "outputs": [
    {
     "name": "stdout",
     "output_type": "stream",
     "text": [
      "\n",
      "RMSE: 11.01723475816237\n",
      " MAE: 8.52889968694435\n",
      "  R²: 0.9841864475072917\n",
      " MSE: 121.37946171646108\n",
      "\n"
     ]
    }
   ],
   "source": [
    "# Evaluate the model\n",
    "eval_flights = RegressionEvaluator(labelCol='duration')\n",
    "\n",
    "print(f'''\n",
    "RMSE: {eval_flights.evaluate(predictions_flights)}\n",
    " MAE: {eval_flights.evaluate(predictions_flights, {eval_flights.metricName: \"mae\"})}\n",
    "  R²: {eval_flights.evaluate(predictions_flights, {eval_flights.metricName: \"r2\"})}\n",
    " MSE: {eval_flights.evaluate(predictions_flights, {eval_flights.metricName: \"mse\"})}\n",
    "''')"
   ]
  },
  {
   "cell_type": "markdown",
   "id": "52136293-945b-4162-82f9-497ea02ae3b8",
   "metadata": {},
   "source": [
    "## Ex. 5 - Interpreting coefficients\n",
    "\n",
    "Remember that origin airport, org, has eight possible values (ORD, SFO, JFK, LGA, SMF, SJC, TUS and OGG) which have been one-hot encoded to seven dummy variables in org_dummy.\n",
    "\n",
    "The values for km and org_dummy have been assembled into features, which has eight columns with sparse representation. Column indices in features are as follows:\n",
    "- 0 — km\n",
    "- 1 — ORD\n",
    "- 2 — SFO\n",
    "- 3 — JFK\n",
    "- 4 — LGA\n",
    "- 5 — SMF\n",
    "- 6 — SJC and\n",
    "- 7 — TUS.\n",
    "\n",
    "Note that OGG does not appear in this list because it is the reference level for the origin airport category.\n",
    "The coefficients attribute is a list, where the first element indicates how flight duration changes with flight distance.\n",
    "\n",
    "**Instructions:**\n",
    "\n",
    "1. Find the average speed in km per hour. This will be different to the value that you got earlier because your model is now more sophisticated.\n",
    "2. What's the average time on the ground at OGG?\n",
    "3. What's the average time on the ground at JFK?\n",
    "4. What's the average time on the ground at LGA?"
   ]
  },
  {
   "cell_type": "code",
   "execution_count": 58,
   "id": "bdcb5492-6781-4c4b-8cc5-0ced72edcc3d",
   "metadata": {},
   "outputs": [
    {
     "name": "stdout",
     "output_type": "stream",
     "text": [
      "\n",
      "Intercept: 15.514328204700384\n",
      "Coefficients:\n",
      "[0.07431878856644772,28.853601214112874,20.804901599913162,52.63560265547633,47.08803307610952,15.957548580589807,18.57777101930432,18.400432009994926]\n",
      "\n",
      "Feature cols: ['km', 'org_vec']\n",
      "Encoded categos (org_vec): ['ORD', 'SFO', 'JFK', 'LGA', 'SMF', 'SJC', 'TUS']\n",
      "\n"
     ]
    },
    {
     "data": {
      "text/html": [
       "<div>\n",
       "<style scoped>\n",
       "    .dataframe tbody tr th:only-of-type {\n",
       "        vertical-align: middle;\n",
       "    }\n",
       "\n",
       "    .dataframe tbody tr th {\n",
       "        vertical-align: top;\n",
       "    }\n",
       "\n",
       "    .dataframe thead th {\n",
       "        text-align: right;\n",
       "    }\n",
       "</style>\n",
       "<table border=\"1\" class=\"dataframe\">\n",
       "  <thead>\n",
       "    <tr style=\"text-align: right;\">\n",
       "      <th></th>\n",
       "      <th>Slope</th>\n",
       "      <th>Feature</th>\n",
       "      <th>value</th>\n",
       "    </tr>\n",
       "  </thead>\n",
       "  <tbody>\n",
       "    <tr>\n",
       "      <th>0</th>\n",
       "      <td>Intercept</td>\n",
       "      <td></td>\n",
       "      <td>15.514328</td>\n",
       "    </tr>\n",
       "    <tr>\n",
       "      <th>0</th>\n",
       "      <td>Coefficients</td>\n",
       "      <td>km</td>\n",
       "      <td>0.074319</td>\n",
       "    </tr>\n",
       "    <tr>\n",
       "      <th>1</th>\n",
       "      <td>Coefficients</td>\n",
       "      <td>ORD</td>\n",
       "      <td>28.853601</td>\n",
       "    </tr>\n",
       "    <tr>\n",
       "      <th>2</th>\n",
       "      <td>Coefficients</td>\n",
       "      <td>SFO</td>\n",
       "      <td>20.804902</td>\n",
       "    </tr>\n",
       "    <tr>\n",
       "      <th>3</th>\n",
       "      <td>Coefficients</td>\n",
       "      <td>JFK</td>\n",
       "      <td>52.635603</td>\n",
       "    </tr>\n",
       "    <tr>\n",
       "      <th>4</th>\n",
       "      <td>Coefficients</td>\n",
       "      <td>LGA</td>\n",
       "      <td>47.088033</td>\n",
       "    </tr>\n",
       "    <tr>\n",
       "      <th>5</th>\n",
       "      <td>Coefficients</td>\n",
       "      <td>SMF</td>\n",
       "      <td>15.957549</td>\n",
       "    </tr>\n",
       "    <tr>\n",
       "      <th>6</th>\n",
       "      <td>Coefficients</td>\n",
       "      <td>SJC</td>\n",
       "      <td>18.577771</td>\n",
       "    </tr>\n",
       "    <tr>\n",
       "      <th>7</th>\n",
       "      <td>Coefficients</td>\n",
       "      <td>TUS</td>\n",
       "      <td>18.400432</td>\n",
       "    </tr>\n",
       "  </tbody>\n",
       "</table>\n",
       "</div>"
      ],
      "text/plain": [
       "          Slope Feature      value\n",
       "0     Intercept          15.514328\n",
       "0  Coefficients      km   0.074319\n",
       "1  Coefficients     ORD  28.853601\n",
       "2  Coefficients     SFO  20.804902\n",
       "3  Coefficients     JFK  52.635603\n",
       "4  Coefficients     LGA  47.088033\n",
       "5  Coefficients     SMF  15.957549\n",
       "6  Coefficients     SJC  18.577771\n",
       "7  Coefficients     TUS  18.400432"
      ]
     },
     "execution_count": 58,
     "metadata": {},
     "output_type": "execute_result"
    }
   ],
   "source": [
    "print(f'''\n",
    "Intercept: {model_lr_flights.intercept}\n",
    "Coefficients:\n",
    "{model_lr_flights.coefficients}\n",
    "\n",
    "Feature cols: {feature_cols_flights}\n",
    "Encoded categos (org_vec): {newCols_org[:-1]}\n",
    "''')\n",
    "\n",
    "# Summarizing\n",
    "coefficient_len = len(model_lr_flights.coefficients)\n",
    "pd.DataFrame({\n",
    "    'Slope': ['Intercept'] + ['Coefficients']*coefficient_len,\n",
    "    'Feature': [''] + feature_cols_flights[:-1] + newCols_org[:-1],\n",
    "    'value': [model_lr_flights.intercept] + list(model_lr_flights.coefficients)\n",
    "}, index=[0]+list(range(coefficient_len)))"
   ]
  },
  {
   "cell_type": "code",
   "execution_count": 59,
   "id": "8b91cb0f-2f53-46f7-9619-a603a2190685",
   "metadata": {},
   "outputs": [
    {
     "name": "stdout",
     "output_type": "stream",
     "text": [
      "Average speed in km per hour: 807.3328583169056\n",
      "Average minutes on ground at OGG: 15.514328204700384\n",
      "Average minutes on ground at JFK: 68.14993086017671\n",
      "Average minutes on ground at LGA: 62.6023612808099\n"
     ]
    }
   ],
   "source": [
    "# Average speed in km per hour\n",
    "avg_speed_hour = 60 / (model_lr_flights.coefficients[0])  # coeff for km\n",
    "print('Average speed in km per hour:', avg_speed_hour)\n",
    "\n",
    "# Average minutes on ground at OGG\n",
    "inter = model_lr_flights.intercept\n",
    "print('Average minutes on ground at OGG:', inter)\n",
    "\n",
    "# Average minutes on ground at JFK\n",
    "avg_ground_jfk = model_lr_flights.intercept + model_lr_flights.coefficients[3]   # coeff for JFK=3\n",
    "print('Average minutes on ground at JFK:', avg_ground_jfk)\n",
    "\n",
    "# Average minutes on ground at LGA\n",
    "avg_ground_lga = model_lr_flights.intercept + model_lr_flights.coefficients[4]   # coeff for LGA=4\n",
    "print('Average minutes on ground at LGA:', avg_ground_lga)"
   ]
  },
  {
   "cell_type": "markdown",
   "id": "d440f211-3421-40ff-9b60-be30925aad8a",
   "metadata": {},
   "source": [
    "## Ex. 6 - Bucketing departure time\n",
    "\n",
    "Time of day data are a challenge with regression models. They are also a great candidate for bucketing.\n",
    "\n",
    "We need to convert the flight departure times from numeric values between 0 (corresponding to 00:00) and 24 (corresponding to 24:00) to binned values. We'll then take those binned values and one-hot encode them.\n",
    "\n",
    "**Instructions:**\n",
    "\n",
    "1. Create a bucketizer object with bin boundaries at `0, 3, 6, …, 24` which correspond to times `0:00, 03:00, 06:00, …, 24:00`. Specify input column as `depart` and output column as `depart_bin``.\n",
    "2. Bucket the departure times in the flights data. Show the first five values for depart and `depart_bin`.\n",
    "3. Create a one-hot encoder object. Specify output column as `depart_vec`.\n",
    "4. Train the encoder on the data and then use it to convert the bucketed departure times to vec variables. Show the first five values for `depart`, `depart_bin` and `depart_vec`."
   ]
  },
  {
   "cell_type": "code",
   "execution_count": 60,
   "id": "7e5c206a-04c4-4c29-9966-429dd17d31fc",
   "metadata": {},
   "outputs": [
    {
     "name": "stdout",
     "output_type": "stream",
     "text": [
      "\n",
      "Category level: 8\n",
      "Encoded without the last catego: ['0 - 3', '3 - 6', '6 - 9', '9 - 12', '12 - 15', '15 - 18', '18 - 21', '21 - 24']\n",
      "Dropped catego: 21 - 24\n",
      "\n",
      "+----------+-------------+----------+\n",
      "|depart_bin|   depart_vec|depart_cat|\n",
      "+----------+-------------+----------+\n",
      "|       0.0|(7,[0],[1.0])|     0 - 3|\n",
      "|       1.0|(7,[1],[1.0])|     3 - 6|\n",
      "|       2.0|(7,[2],[1.0])|     6 - 9|\n",
      "|       3.0|(7,[3],[1.0])|    9 - 12|\n",
      "|       4.0|(7,[4],[1.0])|   12 - 15|\n",
      "|       5.0|(7,[5],[1.0])|   15 - 18|\n",
      "|       6.0|(7,[6],[1.0])|   18 - 21|\n",
      "|       7.0|    (7,[],[])|   21 - 24|\n",
      "+----------+-------------+----------+\n",
      "\n"
     ]
    }
   ],
   "source": [
    "df_flights = df_flights.drop('depart_bin', 'depart_vec')\n",
    "\n",
    "# Setting the bins for the buckets\n",
    "bins = list(range(0, 25, 3))\n",
    "newCols_depart = [f'{bins[i]} - {bins[i+1]}' for i in range(len(bins)-1)]\n",
    "\n",
    "# Create buckets at 3 hour intervals through the day\n",
    "buckets = Bucketizer(splits=bins, inputCol='depart', outputCol='depart_bin')\n",
    "df_flights = buckets.transform(df_flights)\n",
    "df_flights = df_flights.withColumn('depart_cat', F.when(df_flights[\"depart_bin\"] == 0, newCols_depart[0])\n",
    "                                                  .when(df_flights[\"depart_bin\"] == 1, newCols_depart[1])\n",
    "                                                  .when(df_flights[\"depart_bin\"] == 2, newCols_depart[2])\n",
    "                                                  .when(df_flights[\"depart_bin\"] == 3, newCols_depart[3])\n",
    "                                                  .when(df_flights[\"depart_bin\"] == 4, newCols_depart[4])\n",
    "                                                  .when(df_flights[\"depart_bin\"] == 5, newCols_depart[5])\n",
    "                                                  .when(df_flights[\"depart_bin\"] == 6, newCols_depart[6])\n",
    "                                                  .otherwise(newCols_depart[7]))\n",
    "\n",
    "# Create a one-hot encoder\n",
    "onehot = OneHotEncoder(inputCols=['depart_bin'], outputCols=['depart_vec'])\n",
    "df_flights = onehot.fit(df_flights).transform(df_flights)\n",
    "\n",
    "# Reviewing the encoded values from the catego column\n",
    "print(f'''\n",
    "Category level: {len(newCols_depart)}\n",
    "Encoded without the last catego: {newCols_depart}\n",
    "Dropped catego: {newCols_depart[-1]}\n",
    "''')\n",
    "\n",
    "# Review result\n",
    "df_flights.select('depart_bin', 'depart_vec', 'depart_cat').distinct().sort('depart_bin').show()"
   ]
  },
  {
   "cell_type": "markdown",
   "id": "882ccf42-09c7-40e9-a542-76aae7b01acb",
   "metadata": {},
   "source": [
    "## Ex. 7 - Flight duration model: Adding departure time\n",
    "\n",
    "In the previous exercise the departure time was bucketed and converted to vec variables. Now you're going to include those vec variables in a regression model for flight duration.\n",
    "\n",
    "The `km`, `org_vec` and `depart_vec` columns have been assembled into features, where `km` is index `0`, `org_vec` runs from index `1` to `7` and `depart_vec` from index `8` to `14`.\n",
    "\n",
    "The data have been split into training and testing sets and a linear regression model, regression, has been built on the training data. Predictions have been made on the testing data.\n",
    "\n",
    "**Instructions:**\n",
    "\n",
    "1. Find the RMSE for predictions on the testing data.\n",
    "2. Find the average time spent on the ground for flights departing from OGG between 21:00 and 24:00.\n",
    "3. Find the average time spent on the ground for flights departing from OGG between 03:00 and 06:00.\n",
    "4. Find the average time spent on the ground for flights departing from JFK between 03:00 and 06:00."
   ]
  },
  {
   "cell_type": "code",
   "execution_count": 61,
   "id": "4f565fa2-188f-424f-801d-3d81c56247c0",
   "metadata": {},
   "outputs": [
    {
     "name": "stdout",
     "output_type": "stream",
     "text": [
      "+------+-------------+-------------+------------------------------+--------+\n",
      "|km    |org_vec      |depart_vec   |features                      |duration|\n",
      "+------+-------------+-------------+------------------------------+--------+\n",
      "|509.0 |(7,[0],[1.0])|(7,[5],[1.0])|(15,[0,1,13],[509.0,1.0,1.0]) |82      |\n",
      "|542.0 |(7,[1],[1.0])|(7,[2],[1.0])|(15,[0,2,10],[542.0,1.0,1.0]) |82      |\n",
      "|1989.0|(7,[0],[1.0])|(7,[3],[1.0])|(15,[0,1,11],[1989.0,1.0,1.0])|195     |\n",
      "|885.0 |(7,[1],[1.0])|(7,[2],[1.0])|(15,[0,2,10],[885.0,1.0,1.0]) |102     |\n",
      "|1180.0|(7,[0],[1.0])|(7,[3],[1.0])|(15,[0,1,11],[1180.0,1.0,1.0])|135     |\n",
      "+------+-------------+-------------+------------------------------+--------+\n",
      "only showing top 5 rows\n",
      "\n"
     ]
    }
   ],
   "source": [
    "df_flights = df_flights.drop(*['features'])\n",
    "\n",
    "# Preparing feature column\n",
    "feature_cols_flights = ['km', 'org_vec', 'depart_vec']\n",
    "assembler_flights = VectorAssembler(inputCols=feature_cols_flights, outputCol='features')\n",
    "df_flights = assembler_flights.transform(df_flights)\n",
    "df_flights.select(feature_cols_flights + ['features', 'duration']).show(5, truncate=False)"
   ]
  },
  {
   "cell_type": "markdown",
   "id": "3a1e2500-9a9c-4b7c-af4d-4dc9a7127f89",
   "metadata": {},
   "source": [
    "## Ex. 8 - Flight duration model: More features!\n",
    "\n",
    "Let's add more features to our model. This will not necessarily result in a better model. Adding some features might improve the model. Adding other features might make it worse.\n",
    "\n",
    "More features will always make the model more complicated and difficult to interpret.\n",
    "\n",
    "These are the features you'll include in the next model:\n",
    "- `km`\n",
    "- `org` (origin airport, one-hot encoded, 8 levels)\n",
    "- `depart` (departure time, binned in 3 hour intervals, one-hot encoded, 8 levels)\n",
    "- `dow` (departure day of week, one-hot encoded, 7 levels) and\n",
    "- `mon` (departure month, one-hot encoded, 12 levels).\n",
    "\n",
    "These have been assembled into the features column, which is a sparse representation of 32 columns (remember one-hot encoding produces a number of columns which is one fewer than the number of levels).\n",
    "\n",
    "**Instructions:**\n",
    "\n",
    "1. Fit a linear regression model to the training data.\n",
    "2. Generate predictions for the testing data.\n",
    "3. Calculate the RMSE on the testing data.\n",
    "4. Look at the model coefficients. Are any of them zero?"
   ]
  },
  {
   "cell_type": "code",
   "execution_count": 62,
   "id": "979d3895-e22a-4e31-b398-d38dc0d12de2",
   "metadata": {},
   "outputs": [
    {
     "data": {
      "text/html": [
       "<table border='1'>\n",
       "<tr><th>mon</th><th>dom</th><th>dow</th><th>carrier</th><th>flight</th><th>org</th><th>mile</th><th>depart</th><th>duration</th><th>delay</th><th>km</th><th>org_idx</th><th>org_vec</th><th>carrier_idx</th><th>carrier_vec</th><th>depart_bin</th><th>depart_cat</th><th>depart_vec</th><th>features</th></tr>\n",
       "<tr><td>0</td><td>22</td><td>2</td><td>UA</td><td>1107</td><td>ORD</td><td>316</td><td>16.33</td><td>82</td><td>30</td><td>509.0</td><td>0.0</td><td>(7,[0],[1.0])</td><td>0.0</td><td>(8,[0],[1.0])</td><td>5.0</td><td>15 - 18</td><td>(7,[5],[1.0])</td><td>(15,[0,1,13],[509...</td></tr>\n",
       "<tr><td>2</td><td>20</td><td>4</td><td>UA</td><td>226</td><td>SFO</td><td>337</td><td>6.17</td><td>82</td><td>-8</td><td>542.0</td><td>1.0</td><td>(7,[1],[1.0])</td><td>0.0</td><td>(8,[0],[1.0])</td><td>2.0</td><td>6 - 9</td><td>(7,[2],[1.0])</td><td>(15,[0,2,10],[542...</td></tr>\n",
       "</table>\n"
      ],
      "text/plain": [
       "+---+---+---+-------+------+---+----+------+--------+-----+-----+-------+-------------+-----------+-------------+----------+----------+-------------+--------------------+\n",
       "|mon|dom|dow|carrier|flight|org|mile|depart|duration|delay|   km|org_idx|      org_vec|carrier_idx|  carrier_vec|depart_bin|depart_cat|   depart_vec|            features|\n",
       "+---+---+---+-------+------+---+----+------+--------+-----+-----+-------+-------------+-----------+-------------+----------+----------+-------------+--------------------+\n",
       "|  0| 22|  2|     UA|  1107|ORD| 316| 16.33|      82|   30|509.0|    0.0|(7,[0],[1.0])|        0.0|(8,[0],[1.0])|       5.0|   15 - 18|(7,[5],[1.0])|(15,[0,1,13],[509...|\n",
       "|  2| 20|  4|     UA|   226|SFO| 337|  6.17|      82|   -8|542.0|    1.0|(7,[1],[1.0])|        0.0|(8,[0],[1.0])|       2.0|     6 - 9|(7,[2],[1.0])|(15,[0,2,10],[542...|\n",
       "+---+---+---+-------+------+---+----+------+--------+-----+-----+-------+-------------+-----------+-------------+----------+----------+-------------+--------------------+"
      ]
     },
     "execution_count": 62,
     "metadata": {},
     "output_type": "execute_result"
    }
   ],
   "source": [
    "# Reviewing the data\n",
    "df_flights.limit(2)"
   ]
  },
  {
   "cell_type": "markdown",
   "id": "52ee90a1-af8b-42de-a7e8-6d542c5d81b3",
   "metadata": {},
   "source": [
    "### Encoding"
   ]
  },
  {
   "cell_type": "code",
   "execution_count": 63,
   "id": "f4c628f0-b89d-416e-b4fd-2dd343e325b4",
   "metadata": {},
   "outputs": [
    {
     "name": "stdout",
     "output_type": "stream",
     "text": [
      "\n",
      "Category level: 7\n",
      "Encoded without the last catego: ['dow_0', 'dow_1', 'dow_2', 'dow_3', 'dow_4', 'dow_5']\n",
      "Dropped catego: dow_6\n",
      "\n",
      "+---+-------------+\n",
      "|dow|      dow_vec|\n",
      "+---+-------------+\n",
      "|  0|(6,[0],[1.0])|\n",
      "|  1|(6,[1],[1.0])|\n",
      "|  2|(6,[2],[1.0])|\n",
      "|  3|(6,[3],[1.0])|\n",
      "|  4|(6,[4],[1.0])|\n",
      "|  5|(6,[5],[1.0])|\n",
      "|  6|    (6,[],[])|\n",
      "+---+-------------+\n",
      "\n"
     ]
    }
   ],
   "source": [
    "df_flights = df_flights.drop(*['dow_vec'])\n",
    "\n",
    "# Encoding dow\n",
    "onehot_flights = OneHotEncoder(inputCols=['dow'], outputCols=['dow_vec']).fit(df_flights)\n",
    "df_flights = onehot_flights.transform(df_flights)\n",
    "\n",
    "# Getting the encoded values from the catego column\n",
    "colIdx = df_flights.select('dow').distinct().sort('dow').rdd.collect()\n",
    "newCols_dow = list(map(lambda x: f'dow_{x[0]}', colIdx))\n",
    "print(f'''\n",
    "Category level: {len(newCols_dow)}\n",
    "Encoded without the last catego: {newCols_dow[:-1]}\n",
    "Dropped catego: {newCols_dow[-1]}\n",
    "''')\n",
    "\n",
    "# Inspect results\n",
    "df_flights.select('dow', 'dow_vec').distinct().sort('dow').show()"
   ]
  },
  {
   "cell_type": "code",
   "execution_count": 64,
   "id": "6c6ff78a-9b3c-42c1-99db-5699ab25d9b9",
   "metadata": {},
   "outputs": [
    {
     "name": "stdout",
     "output_type": "stream",
     "text": [
      "\n",
      "Category level: 12\n",
      "Encoded without the last catego: ['mon_0', 'mon_1', 'mon_2', 'mon_3', 'mon_4', 'mon_5', 'mon_6', 'mon_7', 'mon_8', 'mon_9', 'mon_10']\n",
      "Dropped catego: mon_11\n",
      "\n",
      "+---+---------------+\n",
      "|mon|        mon_vec|\n",
      "+---+---------------+\n",
      "|  0| (11,[0],[1.0])|\n",
      "|  1| (11,[1],[1.0])|\n",
      "|  2| (11,[2],[1.0])|\n",
      "|  3| (11,[3],[1.0])|\n",
      "|  4| (11,[4],[1.0])|\n",
      "|  5| (11,[5],[1.0])|\n",
      "|  6| (11,[6],[1.0])|\n",
      "|  7| (11,[7],[1.0])|\n",
      "|  8| (11,[8],[1.0])|\n",
      "|  9| (11,[9],[1.0])|\n",
      "| 10|(11,[10],[1.0])|\n",
      "| 11|     (11,[],[])|\n",
      "+---+---------------+\n",
      "\n"
     ]
    }
   ],
   "source": [
    "df_flights = df_flights.drop(*['mon_vec'])\n",
    "\n",
    "# Encoding mon\n",
    "onehot_flights = OneHotEncoder(inputCols=['mon'], outputCols=['mon_vec']).fit(df_flights)\n",
    "df_flights = onehot_flights.transform(df_flights)\n",
    "\n",
    "# Getting the encoded values from the catego column\n",
    "colIdx = df_flights.select('mon').distinct().sort('mon').rdd.collect()\n",
    "newCols_mon = list(map(lambda x: f'mon_{x[0]}', colIdx))\n",
    "print(f'''\n",
    "Category level: {len(newCols_mon)}\n",
    "Encoded without the last catego: {newCols_mon[:-1]}\n",
    "Dropped catego: {newCols_mon[-1]}\n",
    "''')\n",
    "\n",
    "# Inspect results\n",
    "df_flights.select('mon', 'mon_vec').distinct().sort('mon').show()"
   ]
  },
  {
   "cell_type": "markdown",
   "id": "d34e5ddd-c64b-4721-9615-bdbab7a105b6",
   "metadata": {},
   "source": [
    "### Assemble new features vector"
   ]
  },
  {
   "cell_type": "code",
   "execution_count": 65,
   "id": "b314d91a-3f59-4a92-9090-71337a5fe7f8",
   "metadata": {},
   "outputs": [
    {
     "name": "stdout",
     "output_type": "stream",
     "text": [
      "+------+-------------+-------------+-------------+--------------+----------------------------------------+--------+\n",
      "|    km|      org_vec|   depart_vec|      dow_vec|       mon_vec|                                features|duration|\n",
      "+------+-------------+-------------+-------------+--------------+----------------------------------------+--------+\n",
      "| 509.0|(7,[0],[1.0])|(7,[5],[1.0])|(6,[2],[1.0])|(11,[0],[1.0])|(32,[0,1,13,17,21],[509.0,1.0,1.0,1.0...|      82|\n",
      "| 542.0|(7,[1],[1.0])|(7,[2],[1.0])|(6,[4],[1.0])|(11,[2],[1.0])|(32,[0,2,10,19,23],[542.0,1.0,1.0,1.0...|      82|\n",
      "|1989.0|(7,[0],[1.0])|(7,[3],[1.0])|(6,[1],[1.0])|(11,[9],[1.0])|(32,[0,1,11,16,30],[1989.0,1.0,1.0,1....|     195|\n",
      "| 885.0|(7,[1],[1.0])|(7,[2],[1.0])|(6,[1],[1.0])|(11,[5],[1.0])|(32,[0,2,10,16,26],[885.0,1.0,1.0,1.0...|     102|\n",
      "|1180.0|(7,[0],[1.0])|(7,[3],[1.0])|    (6,[],[])|(11,[7],[1.0])|   (32,[0,1,11,28],[1180.0,1.0,1.0,1.0])|     135|\n",
      "+------+-------------+-------------+-------------+--------------+----------------------------------------+--------+\n",
      "only showing top 5 rows\n",
      "\n"
     ]
    }
   ],
   "source": [
    "df_flights = df_flights.drop(*['features'])\n",
    "\n",
    "# Preparing feature column\n",
    "feature_cols_flights = ['km', 'org_vec', 'depart_vec', 'dow_vec', 'mon_vec']\n",
    "assembler_flights = VectorAssembler(inputCols=feature_cols_flights, outputCol='features')\n",
    "df_flights = assembler_flights.transform(df_flights)\n",
    "df_flights.select(feature_cols_flights + ['features', 'duration']).show(5, truncate=40)"
   ]
  },
  {
   "cell_type": "markdown",
   "id": "e55cfb12-57ab-4991-9726-94849ed54f65",
   "metadata": {},
   "source": [
    "### Split into train and test"
   ]
  },
  {
   "cell_type": "code",
   "execution_count": 66,
   "id": "2ecbdb9e-84e7-4f91-a652-35fd6fbeca20",
   "metadata": {},
   "outputs": [
    {
     "name": "stdout",
     "output_type": "stream",
     "text": [
      "Training set: 37601, Testing set: 9421\n"
     ]
    }
   ],
   "source": [
    "# Split into train and test\n",
    "df_flights_train, df_flights_test = df_flights.randomSplit([0.8, 0.2], seed=SEED)\n",
    "print(f\"Training set: {df_flights_train.count()}, Testing set: {df_flights_test.count()}\")"
   ]
  },
  {
   "cell_type": "markdown",
   "id": "49a816e9-570f-4874-97d8-2cafdd3ccaaa",
   "metadata": {},
   "source": [
    "### Build a new LinearRegression model"
   ]
  },
  {
   "cell_type": "code",
   "execution_count": 67,
   "id": "95b2c640-91c0-4699-b745-fe1c798fee70",
   "metadata": {},
   "outputs": [
    {
     "name": "stdout",
     "output_type": "stream",
     "text": [
      "\n",
      "RMSE: 10.642834459372345\n",
      " MAE: 8.288160687111343\n",
      "  R²: 0.9852429736899886\n",
      " MSE: 113.26992532960344\n",
      "\n"
     ]
    }
   ],
   "source": [
    "# Fit linear regression model to training data\n",
    "model_lr_flights = LinearRegression(labelCol='duration').fit(df_flights_train)\n",
    "\n",
    "# Make predictions on testing data\n",
    "predictions_flights = model_lr_flights.transform(df_flights_test)\n",
    "\n",
    "# Evaluate the model\n",
    "eval_flights = RegressionEvaluator(labelCol='duration')\n",
    "\n",
    "# R² will be negative when the line or curve does an awful job of fitting the data.\n",
    "print(f'''\n",
    "RMSE: {eval_flights.evaluate(predictions_flights)}\n",
    " MAE: {eval_flights.evaluate(predictions_flights, {eval_flights.metricName: \"mae\"})}\n",
    "  R²: {eval_flights.evaluate(predictions_flights, {eval_flights.metricName: \"r2\"})}\n",
    " MSE: {eval_flights.evaluate(predictions_flights, {eval_flights.metricName: \"mse\"})}\n",
    "''')"
   ]
  },
  {
   "cell_type": "markdown",
   "id": "3810c724-160d-4775-8c3d-370a83b93ba5",
   "metadata": {},
   "source": [
    "### Inspect Intercept and coefficients"
   ]
  },
  {
   "cell_type": "code",
   "execution_count": 68,
   "id": "db4a9948-cc06-4e3a-8e1c-ae6f895c6211",
   "metadata": {},
   "outputs": [
    {
     "name": "stdout",
     "output_type": "stream",
     "text": [
      "\n",
      "Intercept: 12.894562673786163\n",
      "Coefficients:\n",
      "[0.07442209559515502,27.659450151115774,20.459189306237185,51.85957014048379,46.186644617016924,15.340633664518782,17.845461098188395,17.90535863122572,-15.273418440592232,0.7300571207888024,4.131977434639745,7.126546170088425,4.6641625375768125,8.839698583866427,8.806754088197247,0.46746560369110274,0.16539185557587202,-0.2501296998131571,0.19119328659810755,0.1721166698980672,0.05606261143314854,-2.146131233580401,-2.39022447418759,-2.157273002188367,-3.787912634052204,-4.228120102690946,-4.440407861585883,-4.621437276855744,-4.463261506930198,-4.02677009910407,-2.8316270307373923,-0.8592174134481407]\n",
      "\n",
      "Feature cols: ['km', 'org_vec', 'depart_vec', 'dow_vec', 'mon_vec']\n",
      "Encoded categos (org_vec): ['ORD', 'SFO', 'JFK', 'LGA', 'SMF', 'SJC', 'TUS']\n",
      "Encoded categos (depart_vec): ['0 - 3', '3 - 6', '6 - 9', '9 - 12', '12 - 15', '15 - 18', '18 - 21']\n",
      "Encoded categos (dow_vec): ['dow_0', 'dow_1', 'dow_2', 'dow_3', 'dow_4', 'dow_5']\n",
      "Encoded categos (mon_vec): ['mon_0', 'mon_1', 'mon_2', 'mon_3', 'mon_4', 'mon_5', 'mon_6', 'mon_7', 'mon_8', 'mon_9', 'mon_10']\n",
      "\n"
     ]
    },
    {
     "data": {
      "text/html": [
       "<div>\n",
       "<style scoped>\n",
       "    .dataframe tbody tr th:only-of-type {\n",
       "        vertical-align: middle;\n",
       "    }\n",
       "\n",
       "    .dataframe tbody tr th {\n",
       "        vertical-align: top;\n",
       "    }\n",
       "\n",
       "    .dataframe thead th {\n",
       "        text-align: right;\n",
       "    }\n",
       "</style>\n",
       "<table border=\"1\" class=\"dataframe\">\n",
       "  <thead>\n",
       "    <tr style=\"text-align: right;\">\n",
       "      <th></th>\n",
       "      <th>Slope</th>\n",
       "      <th>Feature</th>\n",
       "      <th>LR</th>\n",
       "    </tr>\n",
       "  </thead>\n",
       "  <tbody>\n",
       "    <tr>\n",
       "      <th>0</th>\n",
       "      <td>Intercept</td>\n",
       "      <td></td>\n",
       "      <td>12.894563</td>\n",
       "    </tr>\n",
       "    <tr>\n",
       "      <th>1</th>\n",
       "      <td>Coefficients</td>\n",
       "      <td>km</td>\n",
       "      <td>0.074422</td>\n",
       "    </tr>\n",
       "    <tr>\n",
       "      <th>2</th>\n",
       "      <td>Coefficients</td>\n",
       "      <td>ORD</td>\n",
       "      <td>27.659450</td>\n",
       "    </tr>\n",
       "    <tr>\n",
       "      <th>3</th>\n",
       "      <td>Coefficients</td>\n",
       "      <td>SFO</td>\n",
       "      <td>20.459189</td>\n",
       "    </tr>\n",
       "    <tr>\n",
       "      <th>4</th>\n",
       "      <td>Coefficients</td>\n",
       "      <td>JFK</td>\n",
       "      <td>51.859570</td>\n",
       "    </tr>\n",
       "    <tr>\n",
       "      <th>5</th>\n",
       "      <td>Coefficients</td>\n",
       "      <td>LGA</td>\n",
       "      <td>46.186645</td>\n",
       "    </tr>\n",
       "    <tr>\n",
       "      <th>6</th>\n",
       "      <td>Coefficients</td>\n",
       "      <td>SMF</td>\n",
       "      <td>15.340634</td>\n",
       "    </tr>\n",
       "    <tr>\n",
       "      <th>7</th>\n",
       "      <td>Coefficients</td>\n",
       "      <td>SJC</td>\n",
       "      <td>17.845461</td>\n",
       "    </tr>\n",
       "    <tr>\n",
       "      <th>8</th>\n",
       "      <td>Coefficients</td>\n",
       "      <td>TUS</td>\n",
       "      <td>17.905359</td>\n",
       "    </tr>\n",
       "    <tr>\n",
       "      <th>9</th>\n",
       "      <td>Coefficients</td>\n",
       "      <td>0 - 3</td>\n",
       "      <td>-15.273418</td>\n",
       "    </tr>\n",
       "    <tr>\n",
       "      <th>10</th>\n",
       "      <td>Coefficients</td>\n",
       "      <td>3 - 6</td>\n",
       "      <td>0.730057</td>\n",
       "    </tr>\n",
       "    <tr>\n",
       "      <th>11</th>\n",
       "      <td>Coefficients</td>\n",
       "      <td>6 - 9</td>\n",
       "      <td>4.131977</td>\n",
       "    </tr>\n",
       "    <tr>\n",
       "      <th>12</th>\n",
       "      <td>Coefficients</td>\n",
       "      <td>9 - 12</td>\n",
       "      <td>7.126546</td>\n",
       "    </tr>\n",
       "    <tr>\n",
       "      <th>13</th>\n",
       "      <td>Coefficients</td>\n",
       "      <td>12 - 15</td>\n",
       "      <td>4.664163</td>\n",
       "    </tr>\n",
       "    <tr>\n",
       "      <th>14</th>\n",
       "      <td>Coefficients</td>\n",
       "      <td>15 - 18</td>\n",
       "      <td>8.839699</td>\n",
       "    </tr>\n",
       "    <tr>\n",
       "      <th>15</th>\n",
       "      <td>Coefficients</td>\n",
       "      <td>18 - 21</td>\n",
       "      <td>8.806754</td>\n",
       "    </tr>\n",
       "    <tr>\n",
       "      <th>16</th>\n",
       "      <td>Coefficients</td>\n",
       "      <td>dow_0</td>\n",
       "      <td>0.467466</td>\n",
       "    </tr>\n",
       "    <tr>\n",
       "      <th>17</th>\n",
       "      <td>Coefficients</td>\n",
       "      <td>dow_1</td>\n",
       "      <td>0.165392</td>\n",
       "    </tr>\n",
       "    <tr>\n",
       "      <th>18</th>\n",
       "      <td>Coefficients</td>\n",
       "      <td>dow_2</td>\n",
       "      <td>-0.250130</td>\n",
       "    </tr>\n",
       "    <tr>\n",
       "      <th>19</th>\n",
       "      <td>Coefficients</td>\n",
       "      <td>dow_3</td>\n",
       "      <td>0.191193</td>\n",
       "    </tr>\n",
       "    <tr>\n",
       "      <th>20</th>\n",
       "      <td>Coefficients</td>\n",
       "      <td>dow_4</td>\n",
       "      <td>0.172117</td>\n",
       "    </tr>\n",
       "    <tr>\n",
       "      <th>21</th>\n",
       "      <td>Coefficients</td>\n",
       "      <td>dow_5</td>\n",
       "      <td>0.056063</td>\n",
       "    </tr>\n",
       "    <tr>\n",
       "      <th>22</th>\n",
       "      <td>Coefficients</td>\n",
       "      <td>mon_0</td>\n",
       "      <td>-2.146131</td>\n",
       "    </tr>\n",
       "    <tr>\n",
       "      <th>23</th>\n",
       "      <td>Coefficients</td>\n",
       "      <td>mon_1</td>\n",
       "      <td>-2.390224</td>\n",
       "    </tr>\n",
       "    <tr>\n",
       "      <th>24</th>\n",
       "      <td>Coefficients</td>\n",
       "      <td>mon_2</td>\n",
       "      <td>-2.157273</td>\n",
       "    </tr>\n",
       "    <tr>\n",
       "      <th>25</th>\n",
       "      <td>Coefficients</td>\n",
       "      <td>mon_3</td>\n",
       "      <td>-3.787913</td>\n",
       "    </tr>\n",
       "    <tr>\n",
       "      <th>26</th>\n",
       "      <td>Coefficients</td>\n",
       "      <td>mon_4</td>\n",
       "      <td>-4.228120</td>\n",
       "    </tr>\n",
       "    <tr>\n",
       "      <th>27</th>\n",
       "      <td>Coefficients</td>\n",
       "      <td>mon_5</td>\n",
       "      <td>-4.440408</td>\n",
       "    </tr>\n",
       "    <tr>\n",
       "      <th>28</th>\n",
       "      <td>Coefficients</td>\n",
       "      <td>mon_6</td>\n",
       "      <td>-4.621437</td>\n",
       "    </tr>\n",
       "    <tr>\n",
       "      <th>29</th>\n",
       "      <td>Coefficients</td>\n",
       "      <td>mon_7</td>\n",
       "      <td>-4.463262</td>\n",
       "    </tr>\n",
       "    <tr>\n",
       "      <th>30</th>\n",
       "      <td>Coefficients</td>\n",
       "      <td>mon_8</td>\n",
       "      <td>-4.026770</td>\n",
       "    </tr>\n",
       "    <tr>\n",
       "      <th>31</th>\n",
       "      <td>Coefficients</td>\n",
       "      <td>mon_9</td>\n",
       "      <td>-2.831627</td>\n",
       "    </tr>\n",
       "    <tr>\n",
       "      <th>32</th>\n",
       "      <td>Coefficients</td>\n",
       "      <td>mon_10</td>\n",
       "      <td>-0.859217</td>\n",
       "    </tr>\n",
       "  </tbody>\n",
       "</table>\n",
       "</div>"
      ],
      "text/plain": [
       "           Slope  Feature         LR\n",
       "0      Intercept           12.894563\n",
       "1   Coefficients       km   0.074422\n",
       "2   Coefficients      ORD  27.659450\n",
       "3   Coefficients      SFO  20.459189\n",
       "4   Coefficients      JFK  51.859570\n",
       "5   Coefficients      LGA  46.186645\n",
       "6   Coefficients      SMF  15.340634\n",
       "7   Coefficients      SJC  17.845461\n",
       "8   Coefficients      TUS  17.905359\n",
       "9   Coefficients    0 - 3 -15.273418\n",
       "10  Coefficients    3 - 6   0.730057\n",
       "11  Coefficients    6 - 9   4.131977\n",
       "12  Coefficients   9 - 12   7.126546\n",
       "13  Coefficients  12 - 15   4.664163\n",
       "14  Coefficients  15 - 18   8.839699\n",
       "15  Coefficients  18 - 21   8.806754\n",
       "16  Coefficients    dow_0   0.467466\n",
       "17  Coefficients    dow_1   0.165392\n",
       "18  Coefficients    dow_2  -0.250130\n",
       "19  Coefficients    dow_3   0.191193\n",
       "20  Coefficients    dow_4   0.172117\n",
       "21  Coefficients    dow_5   0.056063\n",
       "22  Coefficients    mon_0  -2.146131\n",
       "23  Coefficients    mon_1  -2.390224\n",
       "24  Coefficients    mon_2  -2.157273\n",
       "25  Coefficients    mon_3  -3.787913\n",
       "26  Coefficients    mon_4  -4.228120\n",
       "27  Coefficients    mon_5  -4.440408\n",
       "28  Coefficients    mon_6  -4.621437\n",
       "29  Coefficients    mon_7  -4.463262\n",
       "30  Coefficients    mon_8  -4.026770\n",
       "31  Coefficients    mon_9  -2.831627\n",
       "32  Coefficients   mon_10  -0.859217"
      ]
     },
     "execution_count": 68,
     "metadata": {},
     "output_type": "execute_result"
    }
   ],
   "source": [
    "# Reviewing intercept and coefficients\n",
    "print(f'''\n",
    "Intercept: {model_lr_flights.intercept}\n",
    "Coefficients:\n",
    "{model_lr_flights.coefficients}\n",
    "\n",
    "Feature cols: {feature_cols_flights}\n",
    "Encoded categos (org_vec): {newCols_org[:-1]}\n",
    "Encoded categos (depart_vec): {newCols_depart[:-1]}\n",
    "Encoded categos (dow_vec): {newCols_dow[:-1]}\n",
    "Encoded categos (mon_vec): {newCols_mon[:-1]}\n",
    "''')\n",
    "\n",
    "# Saving for later review\n",
    "coefficient_len = len(model_lr_flights.coefficients)\n",
    "feature_flights_importance = pd.DataFrame({\n",
    "    'Slope': ['Intercept'] + ['Coefficients']*coefficient_len,\n",
    "    'Feature': [''] + feature_cols_flights[:-4] + newCols_org[:-1] + newCols_depart[:-1] + \\\n",
    "               newCols_dow[:-1] + newCols_mon[:-1],\n",
    "    'LR': [model_lr_flights.intercept] + list(model_lr_flights.coefficients)\n",
    "})\n",
    "feature_flights_importance"
   ]
  },
  {
   "cell_type": "markdown",
   "id": "88aa4c71-5cc6-4054-b687-4b8a4038ab6a",
   "metadata": {},
   "source": [
    "## Ex. 9 - Flight duration model: Regularization!\n",
    "\n",
    "In the previous exercise you added more predictors to the flight duration model. The model performed well on testing data, but with so many coefficients it was difficult to interpret.\n",
    "\n",
    "In this exercise you'll use Lasso regression (regularized with a L1 penalty) to create a more parsimonious model. Many of the coefficients in the resulting model will be set to zero. This means that only a subset of the predictors actually contribute to the model. Despite the simpler model, it still produces a good RMSE on the testing data.\n",
    "\n",
    "You'll use a specific value for the regularization strength. Later you'll learn how to find the best value using cross validation.\n",
    "\n",
    "There are two parameters for this model, λ (regParam) and α (elasticNetParam), where α determines the type of regularization and λ gives the strength of regularization.\n",
    "\n",
    "**Instructions:**\n",
    "\n",
    "1. Fit a linear regression model to the training data. Set the regularization strength to 1.\n",
    "2. Calculate the RMSE on the testing data.\n",
    "3. Look at the model coefficients.\n",
    "4. How many of the coefficients are equal to zero?"
   ]
  },
  {
   "cell_type": "markdown",
   "id": "15de4891-2988-47b2-8397-17f9e124ff8e",
   "metadata": {},
   "source": [
    "### Build a Lasso regression ($ \\alpha = 1 $ | $ \\lambda = 1 $)"
   ]
  },
  {
   "cell_type": "code",
   "execution_count": 69,
   "id": "ca19e568-43ff-46c3-aa68-13cdda928fc1",
   "metadata": {},
   "outputs": [
    {
     "name": "stdout",
     "output_type": "stream",
     "text": [
      "\n",
      "RMSE: 11.549663590335594\n",
      " MAE: 8.902305404675984\n",
      "  R²: 0.9826210750958084\n",
      " MSE: 133.39472904992368\n",
      "\n"
     ]
    }
   ],
   "source": [
    "# Building the lasso model\n",
    "lasso_flights = LinearRegression(labelCol='duration',\n",
    "                                    elasticNetParam=1, regParam=1).fit(df_flights_train)\n",
    "\n",
    "# Evaluate the model\n",
    "predictions_flights = lasso_flights.transform(df_flights_test)\n",
    "eval_flights = RegressionEvaluator(labelCol='duration')\n",
    "print(f'''\n",
    "RMSE: {eval_flights.evaluate(predictions_flights)}\n",
    " MAE: {eval_flights.evaluate(predictions_flights, {eval_flights.metricName: \"mae\"})}\n",
    "  R²: {eval_flights.evaluate(predictions_flights, {eval_flights.metricName: \"r2\"})}\n",
    " MSE: {eval_flights.evaluate(predictions_flights, {eval_flights.metricName: \"mse\"})}\n",
    "''')"
   ]
  },
  {
   "cell_type": "markdown",
   "id": "4d0f8d47-0469-4f1a-8ccc-21705e174b27",
   "metadata": {},
   "source": [
    "### Inspect Intercept and coefficients"
   ]
  },
  {
   "cell_type": "code",
   "execution_count": 70,
   "id": "61facff4-4361-4c2e-9b41-447675b86fcb",
   "metadata": {},
   "outputs": [
    {
     "data": {
      "text/html": [
       "<div>\n",
       "<style scoped>\n",
       "    .dataframe tbody tr th:only-of-type {\n",
       "        vertical-align: middle;\n",
       "    }\n",
       "\n",
       "    .dataframe tbody tr th {\n",
       "        vertical-align: top;\n",
       "    }\n",
       "\n",
       "    .dataframe thead th {\n",
       "        text-align: right;\n",
       "    }\n",
       "</style>\n",
       "<table border=\"1\" class=\"dataframe\">\n",
       "  <thead>\n",
       "    <tr style=\"text-align: right;\">\n",
       "      <th></th>\n",
       "      <th>Slope</th>\n",
       "      <th>Feature</th>\n",
       "      <th>LR</th>\n",
       "      <th>Lasso</th>\n",
       "    </tr>\n",
       "  </thead>\n",
       "  <tbody>\n",
       "    <tr>\n",
       "      <th>0</th>\n",
       "      <td>Intercept</td>\n",
       "      <td></td>\n",
       "      <td>12.894563</td>\n",
       "      <td>38.013352</td>\n",
       "    </tr>\n",
       "    <tr>\n",
       "      <th>1</th>\n",
       "      <td>Coefficients</td>\n",
       "      <td>km</td>\n",
       "      <td>0.074422</td>\n",
       "      <td>0.073541</td>\n",
       "    </tr>\n",
       "    <tr>\n",
       "      <th>2</th>\n",
       "      <td>Coefficients</td>\n",
       "      <td>ORD</td>\n",
       "      <td>27.659450</td>\n",
       "      <td>5.697832</td>\n",
       "    </tr>\n",
       "    <tr>\n",
       "      <th>3</th>\n",
       "      <td>Coefficients</td>\n",
       "      <td>SFO</td>\n",
       "      <td>20.459189</td>\n",
       "      <td>0.000000</td>\n",
       "    </tr>\n",
       "    <tr>\n",
       "      <th>4</th>\n",
       "      <td>Coefficients</td>\n",
       "      <td>JFK</td>\n",
       "      <td>51.859570</td>\n",
       "      <td>28.901940</td>\n",
       "    </tr>\n",
       "    <tr>\n",
       "      <th>5</th>\n",
       "      <td>Coefficients</td>\n",
       "      <td>LGA</td>\n",
       "      <td>46.186645</td>\n",
       "      <td>22.063034</td>\n",
       "    </tr>\n",
       "    <tr>\n",
       "      <th>6</th>\n",
       "      <td>Coefficients</td>\n",
       "      <td>SMF</td>\n",
       "      <td>15.340634</td>\n",
       "      <td>-2.289374</td>\n",
       "    </tr>\n",
       "    <tr>\n",
       "      <th>7</th>\n",
       "      <td>Coefficients</td>\n",
       "      <td>SJC</td>\n",
       "      <td>17.845461</td>\n",
       "      <td>0.000000</td>\n",
       "    </tr>\n",
       "    <tr>\n",
       "      <th>8</th>\n",
       "      <td>Coefficients</td>\n",
       "      <td>TUS</td>\n",
       "      <td>17.905359</td>\n",
       "      <td>0.000000</td>\n",
       "    </tr>\n",
       "    <tr>\n",
       "      <th>9</th>\n",
       "      <td>Coefficients</td>\n",
       "      <td>0 - 3</td>\n",
       "      <td>-15.273418</td>\n",
       "      <td>0.000000</td>\n",
       "    </tr>\n",
       "    <tr>\n",
       "      <th>10</th>\n",
       "      <td>Coefficients</td>\n",
       "      <td>3 - 6</td>\n",
       "      <td>0.730057</td>\n",
       "      <td>0.000000</td>\n",
       "    </tr>\n",
       "    <tr>\n",
       "      <th>11</th>\n",
       "      <td>Coefficients</td>\n",
       "      <td>6 - 9</td>\n",
       "      <td>4.131977</td>\n",
       "      <td>0.000000</td>\n",
       "    </tr>\n",
       "    <tr>\n",
       "      <th>12</th>\n",
       "      <td>Coefficients</td>\n",
       "      <td>9 - 12</td>\n",
       "      <td>7.126546</td>\n",
       "      <td>0.000000</td>\n",
       "    </tr>\n",
       "    <tr>\n",
       "      <th>13</th>\n",
       "      <td>Coefficients</td>\n",
       "      <td>12 - 15</td>\n",
       "      <td>4.664163</td>\n",
       "      <td>0.000000</td>\n",
       "    </tr>\n",
       "    <tr>\n",
       "      <th>14</th>\n",
       "      <td>Coefficients</td>\n",
       "      <td>15 - 18</td>\n",
       "      <td>8.839699</td>\n",
       "      <td>1.005852</td>\n",
       "    </tr>\n",
       "    <tr>\n",
       "      <th>15</th>\n",
       "      <td>Coefficients</td>\n",
       "      <td>18 - 21</td>\n",
       "      <td>8.806754</td>\n",
       "      <td>1.102805</td>\n",
       "    </tr>\n",
       "    <tr>\n",
       "      <th>16</th>\n",
       "      <td>Coefficients</td>\n",
       "      <td>dow_0</td>\n",
       "      <td>0.467466</td>\n",
       "      <td>0.000000</td>\n",
       "    </tr>\n",
       "    <tr>\n",
       "      <th>17</th>\n",
       "      <td>Coefficients</td>\n",
       "      <td>dow_1</td>\n",
       "      <td>0.165392</td>\n",
       "      <td>0.000000</td>\n",
       "    </tr>\n",
       "    <tr>\n",
       "      <th>18</th>\n",
       "      <td>Coefficients</td>\n",
       "      <td>dow_2</td>\n",
       "      <td>-0.250130</td>\n",
       "      <td>0.000000</td>\n",
       "    </tr>\n",
       "    <tr>\n",
       "      <th>19</th>\n",
       "      <td>Coefficients</td>\n",
       "      <td>dow_3</td>\n",
       "      <td>0.191193</td>\n",
       "      <td>0.000000</td>\n",
       "    </tr>\n",
       "    <tr>\n",
       "      <th>20</th>\n",
       "      <td>Coefficients</td>\n",
       "      <td>dow_4</td>\n",
       "      <td>0.172117</td>\n",
       "      <td>0.000000</td>\n",
       "    </tr>\n",
       "    <tr>\n",
       "      <th>21</th>\n",
       "      <td>Coefficients</td>\n",
       "      <td>dow_5</td>\n",
       "      <td>0.056063</td>\n",
       "      <td>0.000000</td>\n",
       "    </tr>\n",
       "    <tr>\n",
       "      <th>22</th>\n",
       "      <td>Coefficients</td>\n",
       "      <td>mon_0</td>\n",
       "      <td>-2.146131</td>\n",
       "      <td>0.000000</td>\n",
       "    </tr>\n",
       "    <tr>\n",
       "      <th>23</th>\n",
       "      <td>Coefficients</td>\n",
       "      <td>mon_1</td>\n",
       "      <td>-2.390224</td>\n",
       "      <td>0.000000</td>\n",
       "    </tr>\n",
       "    <tr>\n",
       "      <th>24</th>\n",
       "      <td>Coefficients</td>\n",
       "      <td>mon_2</td>\n",
       "      <td>-2.157273</td>\n",
       "      <td>0.000000</td>\n",
       "    </tr>\n",
       "    <tr>\n",
       "      <th>25</th>\n",
       "      <td>Coefficients</td>\n",
       "      <td>mon_3</td>\n",
       "      <td>-3.787913</td>\n",
       "      <td>0.000000</td>\n",
       "    </tr>\n",
       "    <tr>\n",
       "      <th>26</th>\n",
       "      <td>Coefficients</td>\n",
       "      <td>mon_4</td>\n",
       "      <td>-4.228120</td>\n",
       "      <td>0.000000</td>\n",
       "    </tr>\n",
       "    <tr>\n",
       "      <th>27</th>\n",
       "      <td>Coefficients</td>\n",
       "      <td>mon_5</td>\n",
       "      <td>-4.440408</td>\n",
       "      <td>0.000000</td>\n",
       "    </tr>\n",
       "    <tr>\n",
       "      <th>28</th>\n",
       "      <td>Coefficients</td>\n",
       "      <td>mon_6</td>\n",
       "      <td>-4.621437</td>\n",
       "      <td>0.000000</td>\n",
       "    </tr>\n",
       "    <tr>\n",
       "      <th>29</th>\n",
       "      <td>Coefficients</td>\n",
       "      <td>mon_7</td>\n",
       "      <td>-4.463262</td>\n",
       "      <td>0.000000</td>\n",
       "    </tr>\n",
       "    <tr>\n",
       "      <th>30</th>\n",
       "      <td>Coefficients</td>\n",
       "      <td>mon_8</td>\n",
       "      <td>-4.026770</td>\n",
       "      <td>0.000000</td>\n",
       "    </tr>\n",
       "    <tr>\n",
       "      <th>31</th>\n",
       "      <td>Coefficients</td>\n",
       "      <td>mon_9</td>\n",
       "      <td>-2.831627</td>\n",
       "      <td>0.000000</td>\n",
       "    </tr>\n",
       "    <tr>\n",
       "      <th>32</th>\n",
       "      <td>Coefficients</td>\n",
       "      <td>mon_10</td>\n",
       "      <td>-0.859217</td>\n",
       "      <td>0.000000</td>\n",
       "    </tr>\n",
       "  </tbody>\n",
       "</table>\n",
       "</div>"
      ],
      "text/plain": [
       "           Slope  Feature         LR      Lasso\n",
       "0      Intercept           12.894563  38.013352\n",
       "1   Coefficients       km   0.074422   0.073541\n",
       "2   Coefficients      ORD  27.659450   5.697832\n",
       "3   Coefficients      SFO  20.459189   0.000000\n",
       "4   Coefficients      JFK  51.859570  28.901940\n",
       "5   Coefficients      LGA  46.186645  22.063034\n",
       "6   Coefficients      SMF  15.340634  -2.289374\n",
       "7   Coefficients      SJC  17.845461   0.000000\n",
       "8   Coefficients      TUS  17.905359   0.000000\n",
       "9   Coefficients    0 - 3 -15.273418   0.000000\n",
       "10  Coefficients    3 - 6   0.730057   0.000000\n",
       "11  Coefficients    6 - 9   4.131977   0.000000\n",
       "12  Coefficients   9 - 12   7.126546   0.000000\n",
       "13  Coefficients  12 - 15   4.664163   0.000000\n",
       "14  Coefficients  15 - 18   8.839699   1.005852\n",
       "15  Coefficients  18 - 21   8.806754   1.102805\n",
       "16  Coefficients    dow_0   0.467466   0.000000\n",
       "17  Coefficients    dow_1   0.165392   0.000000\n",
       "18  Coefficients    dow_2  -0.250130   0.000000\n",
       "19  Coefficients    dow_3   0.191193   0.000000\n",
       "20  Coefficients    dow_4   0.172117   0.000000\n",
       "21  Coefficients    dow_5   0.056063   0.000000\n",
       "22  Coefficients    mon_0  -2.146131   0.000000\n",
       "23  Coefficients    mon_1  -2.390224   0.000000\n",
       "24  Coefficients    mon_2  -2.157273   0.000000\n",
       "25  Coefficients    mon_3  -3.787913   0.000000\n",
       "26  Coefficients    mon_4  -4.228120   0.000000\n",
       "27  Coefficients    mon_5  -4.440408   0.000000\n",
       "28  Coefficients    mon_6  -4.621437   0.000000\n",
       "29  Coefficients    mon_7  -4.463262   0.000000\n",
       "30  Coefficients    mon_8  -4.026770   0.000000\n",
       "31  Coefficients    mon_9  -2.831627   0.000000\n",
       "32  Coefficients   mon_10  -0.859217   0.000000"
      ]
     },
     "execution_count": 70,
     "metadata": {},
     "output_type": "execute_result"
    }
   ],
   "source": [
    "# Reviewing intercept and coefficients\n",
    "feature_flights_importance['Lasso'] = [lasso_flights.intercept] + list(lasso_flights.coefficients)\n",
    "feature_flights_importance"
   ]
  },
  {
   "cell_type": "markdown",
   "id": "cbd51117-aa3c-4fcd-9467-1a80c9e73820",
   "metadata": {},
   "source": [
    "### Selecting the most important features"
   ]
  },
  {
   "cell_type": "code",
   "execution_count": 71,
   "id": "e72f2970-96c8-46aa-af51-5c8873c3799f",
   "metadata": {},
   "outputs": [
    {
     "name": "stdout",
     "output_type": "stream",
     "text": [
      "Number of coefficients equal to 0: 25\n",
      "Most important features:\n"
     ]
    },
    {
     "data": {
      "text/html": [
       "<div>\n",
       "<style scoped>\n",
       "    .dataframe tbody tr th:only-of-type {\n",
       "        vertical-align: middle;\n",
       "    }\n",
       "\n",
       "    .dataframe tbody tr th {\n",
       "        vertical-align: top;\n",
       "    }\n",
       "\n",
       "    .dataframe thead th {\n",
       "        text-align: right;\n",
       "    }\n",
       "</style>\n",
       "<table border=\"1\" class=\"dataframe\">\n",
       "  <thead>\n",
       "    <tr style=\"text-align: right;\">\n",
       "      <th></th>\n",
       "      <th>Slope</th>\n",
       "      <th>Feature</th>\n",
       "      <th>LR</th>\n",
       "      <th>Lasso</th>\n",
       "    </tr>\n",
       "  </thead>\n",
       "  <tbody>\n",
       "    <tr>\n",
       "      <th>0</th>\n",
       "      <td>Intercept</td>\n",
       "      <td></td>\n",
       "      <td>12.894563</td>\n",
       "      <td>38.013352</td>\n",
       "    </tr>\n",
       "    <tr>\n",
       "      <th>1</th>\n",
       "      <td>Coefficients</td>\n",
       "      <td>km</td>\n",
       "      <td>0.074422</td>\n",
       "      <td>0.073541</td>\n",
       "    </tr>\n",
       "    <tr>\n",
       "      <th>2</th>\n",
       "      <td>Coefficients</td>\n",
       "      <td>ORD</td>\n",
       "      <td>27.659450</td>\n",
       "      <td>5.697832</td>\n",
       "    </tr>\n",
       "    <tr>\n",
       "      <th>4</th>\n",
       "      <td>Coefficients</td>\n",
       "      <td>JFK</td>\n",
       "      <td>51.859570</td>\n",
       "      <td>28.901940</td>\n",
       "    </tr>\n",
       "    <tr>\n",
       "      <th>5</th>\n",
       "      <td>Coefficients</td>\n",
       "      <td>LGA</td>\n",
       "      <td>46.186645</td>\n",
       "      <td>22.063034</td>\n",
       "    </tr>\n",
       "    <tr>\n",
       "      <th>6</th>\n",
       "      <td>Coefficients</td>\n",
       "      <td>SMF</td>\n",
       "      <td>15.340634</td>\n",
       "      <td>-2.289374</td>\n",
       "    </tr>\n",
       "    <tr>\n",
       "      <th>14</th>\n",
       "      <td>Coefficients</td>\n",
       "      <td>15 - 18</td>\n",
       "      <td>8.839699</td>\n",
       "      <td>1.005852</td>\n",
       "    </tr>\n",
       "    <tr>\n",
       "      <th>15</th>\n",
       "      <td>Coefficients</td>\n",
       "      <td>18 - 21</td>\n",
       "      <td>8.806754</td>\n",
       "      <td>1.102805</td>\n",
       "    </tr>\n",
       "  </tbody>\n",
       "</table>\n",
       "</div>"
      ],
      "text/plain": [
       "           Slope  Feature         LR      Lasso\n",
       "0      Intercept           12.894563  38.013352\n",
       "1   Coefficients       km   0.074422   0.073541\n",
       "2   Coefficients      ORD  27.659450   5.697832\n",
       "4   Coefficients      JFK  51.859570  28.901940\n",
       "5   Coefficients      LGA  46.186645  22.063034\n",
       "6   Coefficients      SMF  15.340634  -2.289374\n",
       "14  Coefficients  15 - 18   8.839699   1.005852\n",
       "15  Coefficients  18 - 21   8.806754   1.102805"
      ]
     },
     "execution_count": 71,
     "metadata": {},
     "output_type": "execute_result"
    }
   ],
   "source": [
    "# Number of zero coefficients\n",
    "zero_coeff = sum([beta==0 for beta in lasso_flights.coefficients])\n",
    "print(\"Number of coefficients equal to 0:\", zero_coeff)\n",
    "\n",
    "# Most important features\n",
    "print('Most important features:')\n",
    "feature_flights_importance[feature_flights_importance.Lasso.round(3)!= 0]"
   ]
  },
  {
   "cell_type": "markdown",
   "id": "3f1bfcef-d3b7-45e6-bee3-784106b2fa99",
   "metadata": {},
   "source": [
    "## Close session"
   ]
  },
  {
   "cell_type": "code",
   "execution_count": 72,
   "id": "8ebc4ec7-959d-469e-ae7c-7e706ea129ce",
   "metadata": {},
   "outputs": [],
   "source": [
    "spark.stop()"
   ]
  }
 ],
 "metadata": {
  "kernelspec": {
   "display_name": "Python 3 (ipykernel)",
   "language": "python",
   "name": "python3"
  },
  "language_info": {
   "codemirror_mode": {
    "name": "ipython",
    "version": 3
   },
   "file_extension": ".py",
   "mimetype": "text/x-python",
   "name": "python",
   "nbconvert_exporter": "python",
   "pygments_lexer": "ipython3",
   "version": "3.11.9"
  }
 },
 "nbformat": 4,
 "nbformat_minor": 5
}
