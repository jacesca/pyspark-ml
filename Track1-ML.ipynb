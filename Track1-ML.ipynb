{
 "cells": [
  {
   "cell_type": "markdown",
   "id": "0d9f96b6-f713-43fe-a543-164a5372f1c5",
   "metadata": {},
   "source": [
    "# PySpark ML - Introduction\n",
    "\n",
    "Spark is a framework for working with Big Data. In this chapter you'll cover some background about Spark and Machine Learning. You'll then find out how to connect to Spark using Python and load CSV data.\n",
    "\n",
    "## Preparing the environment\r\n",
    "\r\n",
    "### Importing libraries"
   ]
  },
  {
   "cell_type": "code",
   "execution_count": 1,
   "id": "c21458f8-1acd-43a2-9cc6-306b920957ec",
   "metadata": {},
   "outputs": [],
   "source": [
    "import time\n",
    "\n",
    "import pyspark\n",
    "from pyspark.sql.types import (StructType, StructField,\n",
    "                               DoubleType, IntegerType, StringType)\n",
    "from pyspark.sql import SparkSession"
   ]
  },
  {
   "cell_type": "markdown",
   "id": "ffb12e47-14ed-4e04-bc56-4e38f659c2b3",
   "metadata": {},
   "source": [
    "### Connect to Spark"
   ]
  },
  {
   "cell_type": "code",
   "execution_count": 2,
   "id": "067fae1d-87c8-420a-9970-2287108b60f9",
   "metadata": {},
   "outputs": [
    {
     "name": "stdout",
     "output_type": "stream",
     "text": [
      "Spark version: 3.5.1\n"
     ]
    }
   ],
   "source": [
    "spark = (SparkSession.builder\n",
    "                     .master('local[*]') \\\n",
    "                     .appName('spark_application') \\\n",
    "                     .config(\"spark.sql.repl.eagerEval.enabled\", True)  # eval DataFrame in notebooks\n",
    "                     .getOrCreate())\n",
    "\n",
    "sc = spark.sparkContext\n",
    "print(f'Spark version: {spark.version}')"
   ]
  },
  {
   "cell_type": "markdown",
   "id": "18ea8ed5-a73b-4a7f-9587-9dff5833f1d9",
   "metadata": {},
   "source": [
    "### Loading data"
   ]
  },
  {
   "cell_type": "code",
   "execution_count": 3,
   "id": "581ac1df-5a2d-4399-badf-5650f82ca852",
   "metadata": {},
   "outputs": [
    {
     "name": "stdout",
     "output_type": "stream",
     "text": [
      "root\n",
      " |-- mon: integer (nullable = true)\n",
      " |-- dom: integer (nullable = true)\n",
      " |-- dow: integer (nullable = true)\n",
      " |-- carrier: string (nullable = true)\n",
      " |-- flight: integer (nullable = true)\n",
      " |-- org: string (nullable = true)\n",
      " |-- mile: integer (nullable = true)\n",
      " |-- depart: double (nullable = true)\n",
      " |-- duration: integer (nullable = true)\n",
      " |-- delay: integer (nullable = true)\n",
      "\n"
     ]
    },
    {
     "data": {
      "text/html": [
       "<table border='1'>\n",
       "<tr><th>mon</th><th>dom</th><th>dow</th><th>carrier</th><th>flight</th><th>org</th><th>mile</th><th>depart</th><th>duration</th><th>delay</th></tr>\n",
       "<tr><td>11</td><td>20</td><td>6</td><td>US</td><td>19</td><td>JFK</td><td>2153</td><td>9.48</td><td>351</td><td>NULL</td></tr>\n",
       "<tr><td>0</td><td>22</td><td>2</td><td>UA</td><td>1107</td><td>ORD</td><td>316</td><td>16.33</td><td>82</td><td>30</td></tr>\n",
       "</table>\n"
      ],
      "text/plain": [
       "+---+---+---+-------+------+---+----+------+--------+-----+\n",
       "|mon|dom|dow|carrier|flight|org|mile|depart|duration|delay|\n",
       "+---+---+---+-------+------+---+----+------+--------+-----+\n",
       "| 11| 20|  6|     US|    19|JFK|2153|  9.48|     351| NULL|\n",
       "|  0| 22|  2|     UA|  1107|ORD| 316| 16.33|      82|   30|\n",
       "+---+---+---+-------+------+---+----+------+--------+-----+"
      ]
     },
     "execution_count": 3,
     "metadata": {},
     "output_type": "execute_result"
    }
   ],
   "source": [
    "schema_df = StructType([\n",
    "    StructField(\"mon\", IntegerType()),\n",
    "    StructField(\"dom\", IntegerType()),\n",
    "    StructField(\"dow\", IntegerType()),\n",
    "    StructField(\"carrier\", StringType()),\n",
    "    StructField(\"flight\", IntegerType()),\n",
    "    StructField(\"org\", StringType()),\n",
    "    StructField(\"mile\", IntegerType()),\n",
    "    StructField(\"depart\", DoubleType()),\n",
    "    StructField(\"duration\", IntegerType()),\n",
    "    StructField(\"delay\", IntegerType())\n",
    "])\n",
    "\n",
    "flights_data = spark.read.csv('data-sources/flights.csv', header=True, schema=schema_df, nullValue='NA')\n",
    "flights_data.createOrReplaceTempView(\"flights\")\n",
    "flights_data.printSchema()\n",
    "flights_data.limit(2)"
   ]
  },
  {
   "cell_type": "code",
   "execution_count": 4,
   "id": "dca86e2e-43d4-4688-919a-c7740c20ae68",
   "metadata": {},
   "outputs": [
    {
     "name": "stdout",
     "output_type": "stream",
     "text": [
      "root\n",
      " |-- id: integer (nullable = true)\n",
      " |-- text: string (nullable = true)\n",
      " |-- label: integer (nullable = true)\n",
      "\n"
     ]
    },
    {
     "data": {
      "text/html": [
       "<table border='1'>\n",
       "<tr><th>id</th><th>text</th><th>label</th></tr>\n",
       "<tr><td>1</td><td>Sorry, I'll call ...</td><td>0</td></tr>\n",
       "<tr><td>2</td><td>Dont worry. I gue...</td><td>0</td></tr>\n",
       "</table>\n"
      ],
      "text/plain": [
       "+---+--------------------+-----+\n",
       "| id|                text|label|\n",
       "+---+--------------------+-----+\n",
       "|  1|Sorry, I'll call ...|    0|\n",
       "|  2|Dont worry. I gue...|    0|\n",
       "+---+--------------------+-----+"
      ]
     },
     "execution_count": 4,
     "metadata": {},
     "output_type": "execute_result"
    }
   ],
   "source": [
    "schema = StructType([\n",
    "    StructField(\"id\", IntegerType()),\n",
    "    StructField(\"text\", StringType()),\n",
    "    StructField(\"label\", IntegerType())\n",
    "])\n",
    "\n",
    "sms_data = spark.read.csv(\"data-sources/sms.csv\", sep=';', header=False, schema=schema)\n",
    "sms_data.createOrReplaceTempView(\"sms\")\n",
    "sms_data.printSchema()\n",
    "sms_data.limit(2)"
   ]
  },
  {
   "cell_type": "code",
   "execution_count": 5,
   "id": "cad91f26-558e-4cc4-a0c9-c02c1bfddcb2",
   "metadata": {},
   "outputs": [
    {
     "name": "stdout",
     "output_type": "stream",
     "text": [
      "root\n",
      " |-- maker: string (nullable = true)\n",
      " |-- model: string (nullable = true)\n",
      " |-- origin: string (nullable = true)\n",
      " |-- type: string (nullable = true)\n",
      " |-- cyl: integer (nullable = true)\n",
      " |-- size: double (nullable = true)\n",
      " |-- weight: integer (nullable = true)\n",
      " |-- length: double (nullable = true)\n",
      " |-- rpm: integer (nullable = true)\n",
      " |-- consumption: double (nullable = true)\n",
      "\n"
     ]
    },
    {
     "data": {
      "text/html": [
       "<table border='1'>\n",
       "<tr><th>maker</th><th>model</th><th>origin</th><th>type</th><th>cyl</th><th>size</th><th>weight</th><th>length</th><th>rpm</th><th>consumption</th></tr>\n",
       "<tr><td>Mazda</td><td>RX-7</td><td>non-USA</td><td>Sporty</td><td>NULL</td><td>1.3</td><td>2895</td><td>169.0</td><td>6500</td><td>4.0</td></tr>\n",
       "<tr><td>Geo</td><td>Metro</td><td>non-USA</td><td>Small</td><td>3</td><td>1.0</td><td>1695</td><td>151.0</td><td>5700</td><td>2.0</td></tr>\n",
       "</table>\n"
      ],
      "text/plain": [
       "+-----+-----+-------+------+----+----+------+------+----+-----------+\n",
       "|maker|model| origin|  type| cyl|size|weight|length| rpm|consumption|\n",
       "+-----+-----+-------+------+----+----+------+------+----+-----------+\n",
       "|Mazda| RX-7|non-USA|Sporty|NULL| 1.3|  2895| 169.0|6500|        4.0|\n",
       "|  Geo|Metro|non-USA| Small|   3| 1.0|  1695| 151.0|5700|        2.0|\n",
       "+-----+-----+-------+------+----+----+------+------+----+-----------+"
      ]
     },
     "execution_count": 5,
     "metadata": {},
     "output_type": "execute_result"
    }
   ],
   "source": [
    "schema_df = StructType([\n",
    "    StructField(\"maker\", StringType()),\n",
    "    StructField(\"model\", StringType()),\n",
    "    StructField(\"origin\", StringType()),\n",
    "    StructField(\"type\", StringType()),\n",
    "    StructField(\"cyl\", IntegerType()),\n",
    "    StructField(\"size\", DoubleType()),\n",
    "    StructField(\"weight\", IntegerType()),\n",
    "    StructField(\"length\", DoubleType()),\n",
    "    StructField(\"rpm\", IntegerType()),\n",
    "    StructField(\"consumption\", DoubleType())\n",
    "])\n",
    "\n",
    "cars_data = spark.read.csv('data-sources/cars.csv', header=True, schema=schema_df, nullValue='NA')\n",
    "cars_data.createOrReplaceTempView(\"cars\")\n",
    "cars_data.printSchema()\n",
    "cars_data.limit(2)"
   ]
  },
  {
   "cell_type": "markdown",
   "id": "d79709f1-ff5e-4b2b-8168-a273730bb43f",
   "metadata": {},
   "source": [
    "### Tables catalogue"
   ]
  },
  {
   "cell_type": "code",
   "execution_count": 6,
   "id": "544d8bd5-3e6f-4f7c-9f51-c4cee7a56df8",
   "metadata": {},
   "outputs": [
    {
     "data": {
      "text/plain": [
       "[Table(name='cars', catalog=None, namespace=[], description=None, tableType='TEMPORARY', isTemporary=True),\n",
       " Table(name='flights', catalog=None, namespace=[], description=None, tableType='TEMPORARY', isTemporary=True),\n",
       " Table(name='sms', catalog=None, namespace=[], description=None, tableType='TEMPORARY', isTemporary=True)]"
      ]
     },
     "execution_count": 6,
     "metadata": {},
     "output_type": "execute_result"
    }
   ],
   "source": [
    "spark.catalog.listTables()"
   ]
  },
  {
   "cell_type": "markdown",
   "id": "aa2bb2c7-c13f-45f3-9af0-f2602050fadc",
   "metadata": {},
   "source": [
    "## Ex. 1 - Creating a SparkSession\n",
    "\n",
    "In this exercise, you'll spin up a local Spark cluster using all available cores. The cluster will be accessible via a SparkSession object.\n",
    "\n",
    "The SparkSession class has a builder attribute, which is an instance of the Builder class. The Builder class exposes three important methods that let you:\n",
    "\n",
    "- specify the location of the master node;\n",
    "- name the application (optional); and\n",
    "- retrieve an existing `SparkSession` or, if there is none, create a new one.\n",
    "\n",
    "The `SparkSession` class has a version attribute which gives the version of Spark. Note: The version can also be accessed via the `__version__` attribute on the `pyspark` module.\n",
    "\n",
    "Once you are finished with the cluster, it's a good idea to shut it down, which will free up its resources, making them available for other processes.\n",
    "\n",
    "**Instructions:**\n",
    "\n",
    "1. Import the `SparkSession` class from `pyspark.sql`. Already done!\n",
    "2. Create a `SparkSession` object connected to a local cluster. Use all available cores. Name the application. Already Done!\n",
    "3. Use the `version` attribute on the SparkSession object to retrieve the version of Spark running on the cluster. \n",
    "4. Shut down the cluster. Already done!"
   ]
  },
  {
   "cell_type": "code",
   "execution_count": 7,
   "id": "3e4bc919-de28-47f0-99f4-351aa4419aa2",
   "metadata": {},
   "outputs": [
    {
     "name": "stdout",
     "output_type": "stream",
     "text": [
      "3.5.1\n",
      "3.5.1\n"
     ]
    }
   ],
   "source": [
    "# What version of Spark?\n",
    "print(spark.version)\n",
    "print(pyspark.__version__)"
   ]
  },
  {
   "cell_type": "markdown",
   "id": "28a567a7-849d-4eaf-9b76-acc39210df8e",
   "metadata": {},
   "source": [
    "## Loading Data\n",
    "\n",
    "### Reading data from CSV"
   ]
  },
  {
   "cell_type": "code",
   "execution_count": 8,
   "id": "89c2291b-f146-4938-a863-711cfbf0dd3c",
   "metadata": {},
   "outputs": [
    {
     "name": "stdout",
     "output_type": "stream",
     "text": [
      "root\n",
      " |-- mfr: string (nullable = true)\n",
      " |-- mod: string (nullable = true)\n",
      " |-- org: string (nullable = true)\n",
      " |-- type: string (nullable = true)\n",
      " |-- cyl: string (nullable = true)\n",
      " |-- size: string (nullable = true)\n",
      " |-- weight: string (nullable = true)\n",
      " |-- len: string (nullable = true)\n",
      " |-- rpm: string (nullable = true)\n",
      " |-- cons: string (nullable = true)\n",
      "\n",
      "Consumed time:  0.22862529754638672\n"
     ]
    },
    {
     "data": {
      "text/html": [
       "<table border='1'>\n",
       "<tr><th>mfr</th><th>mod</th><th>org</th><th>type</th><th>cyl</th><th>size</th><th>weight</th><th>len</th><th>rpm</th><th>cons</th></tr>\n",
       "<tr><td>Mazda</td><td>RX-7</td><td>non-USA</td><td>Sporty</td><td>NA</td><td>1.3</td><td>2895</td><td>169</td><td>6500</td><td>4.00</td></tr>\n",
       "<tr><td>Geo</td><td>Metro</td><td>non-USA</td><td>Small</td><td>3</td><td>1</td><td>1695</td><td>151</td><td>5700</td><td>2.00</td></tr>\n",
       "</table>\n"
      ],
      "text/plain": [
       "+-----+-----+-------+------+---+----+------+---+----+----+\n",
       "|  mfr|  mod|    org|  type|cyl|size|weight|len| rpm|cons|\n",
       "+-----+-----+-------+------+---+----+------+---+----+----+\n",
       "|Mazda| RX-7|non-USA|Sporty| NA| 1.3|  2895|169|6500|4.00|\n",
       "|  Geo|Metro|non-USA| Small|  3|   1|  1695|151|5700|2.00|\n",
       "+-----+-----+-------+------+---+----+------+---+----+----+"
      ]
     },
     "execution_count": 8,
     "metadata": {},
     "output_type": "execute_result"
    }
   ],
   "source": [
    "start = time.time()\n",
    "df = spark.read.csv('data-sources/cars.csv', header=True)\n",
    "df.printSchema()\n",
    "print('Consumed time: ', time.time()-start)\n",
    "df.limit(2)"
   ]
  },
  {
   "cell_type": "code",
   "execution_count": 9,
   "id": "e67885a0-0293-46fc-bd83-c2e42d796417",
   "metadata": {},
   "outputs": [
    {
     "name": "stdout",
     "output_type": "stream",
     "text": [
      "root\n",
      " |-- mfr: string (nullable = true)\n",
      " |-- mod: string (nullable = true)\n",
      " |-- org: string (nullable = true)\n",
      " |-- type: string (nullable = true)\n",
      " |-- cyl: integer (nullable = true)\n",
      " |-- size: double (nullable = true)\n",
      " |-- weight: integer (nullable = true)\n",
      " |-- len: integer (nullable = true)\n",
      " |-- rpm: integer (nullable = true)\n",
      " |-- cons: double (nullable = true)\n",
      "\n",
      "Consumed time:  0.18919014930725098\n"
     ]
    },
    {
     "data": {
      "text/html": [
       "<table border='1'>\n",
       "<tr><th>mfr</th><th>mod</th><th>org</th><th>type</th><th>cyl</th><th>size</th><th>weight</th><th>len</th><th>rpm</th><th>cons</th></tr>\n",
       "<tr><td>Mazda</td><td>RX-7</td><td>non-USA</td><td>Sporty</td><td>NULL</td><td>1.3</td><td>2895</td><td>169</td><td>6500</td><td>4.0</td></tr>\n",
       "<tr><td>Geo</td><td>Metro</td><td>non-USA</td><td>Small</td><td>3</td><td>1.0</td><td>1695</td><td>151</td><td>5700</td><td>2.0</td></tr>\n",
       "</table>\n"
      ],
      "text/plain": [
       "+-----+-----+-------+------+----+----+------+---+----+----+\n",
       "|  mfr|  mod|    org|  type| cyl|size|weight|len| rpm|cons|\n",
       "+-----+-----+-------+------+----+----+------+---+----+----+\n",
       "|Mazda| RX-7|non-USA|Sporty|NULL| 1.3|  2895|169|6500| 4.0|\n",
       "|  Geo|Metro|non-USA| Small|   3| 1.0|  1695|151|5700| 2.0|\n",
       "+-----+-----+-------+------+----+----+------+---+----+----+"
      ]
     },
     "execution_count": 9,
     "metadata": {},
     "output_type": "execute_result"
    }
   ],
   "source": [
    "start = time.time()\n",
    "df = spark.read.csv('data-sources/cars.csv', header=True, inferSchema=True, nullValue='NA')\n",
    "df.printSchema()\n",
    "print('Consumed time: ', time.time()-start)\n",
    "df.limit(2)"
   ]
  },
  {
   "cell_type": "code",
   "execution_count": 10,
   "id": "059d9806-9c1b-4dc4-905b-bc66797b9541",
   "metadata": {},
   "outputs": [
    {
     "name": "stdout",
     "output_type": "stream",
     "text": [
      "root\n",
      " |-- maker: string (nullable = true)\n",
      " |-- model: string (nullable = true)\n",
      " |-- origin: string (nullable = true)\n",
      " |-- type: string (nullable = true)\n",
      " |-- cyl: integer (nullable = true)\n",
      " |-- size: double (nullable = true)\n",
      " |-- weight: integer (nullable = true)\n",
      " |-- length: double (nullable = true)\n",
      " |-- rpm: integer (nullable = true)\n",
      " |-- consumption: double (nullable = true)\n",
      "\n",
      "Consumed time:  0.014031410217285156\n"
     ]
    },
    {
     "data": {
      "text/html": [
       "<table border='1'>\n",
       "<tr><th>maker</th><th>model</th><th>origin</th><th>type</th><th>cyl</th><th>size</th><th>weight</th><th>length</th><th>rpm</th><th>consumption</th></tr>\n",
       "<tr><td>Mazda</td><td>RX-7</td><td>non-USA</td><td>Sporty</td><td>NULL</td><td>1.3</td><td>2895</td><td>169.0</td><td>6500</td><td>4.0</td></tr>\n",
       "<tr><td>Geo</td><td>Metro</td><td>non-USA</td><td>Small</td><td>3</td><td>1.0</td><td>1695</td><td>151.0</td><td>5700</td><td>2.0</td></tr>\n",
       "</table>\n"
      ],
      "text/plain": [
       "+-----+-----+-------+------+----+----+------+------+----+-----------+\n",
       "|maker|model| origin|  type| cyl|size|weight|length| rpm|consumption|\n",
       "+-----+-----+-------+------+----+----+------+------+----+-----------+\n",
       "|Mazda| RX-7|non-USA|Sporty|NULL| 1.3|  2895| 169.0|6500|        4.0|\n",
       "|  Geo|Metro|non-USA| Small|   3| 1.0|  1695| 151.0|5700|        2.0|\n",
       "+-----+-----+-------+------+----+----+------+------+----+-----------+"
      ]
     },
     "execution_count": 10,
     "metadata": {},
     "output_type": "execute_result"
    }
   ],
   "source": [
    "schema_df = StructType([\n",
    "    StructField(\"maker\", StringType()),\n",
    "    StructField(\"model\", StringType()),\n",
    "    StructField(\"origin\", StringType()),\n",
    "    StructField(\"type\", StringType()),\n",
    "    StructField(\"cyl\", IntegerType()),\n",
    "    StructField(\"size\", DoubleType()),\n",
    "    StructField(\"weight\", IntegerType()),\n",
    "    StructField(\"length\", DoubleType()),\n",
    "    StructField(\"rpm\", IntegerType()),\n",
    "    StructField(\"consumption\", DoubleType())\n",
    "])\n",
    "\n",
    "start = time.time()\n",
    "df = spark.read.csv('data-sources/cars.csv', header=True, schema=schema_df, nullValue='NA')\n",
    "df.printSchema()\n",
    "print('Consumed time: ', time.time()-start)\n",
    "df.limit(2)"
   ]
  },
  {
   "cell_type": "markdown",
   "id": "6a0a1ee1-d99c-4f0e-b025-d2be5a2b351b",
   "metadata": {},
   "source": [
    "## Ex. 2 - Loading flights data\n",
    "\n",
    "In this exercise you're going to load some airline flight data from a CSV file.\n",
    "\n",
    "**Notes on CSV format:**\n",
    "- fields are separated by a comma (this is the default separator) and\n",
    "- missing data are denoted by the string 'NA'.\n",
    "\n",
    "**Data dictionary:**\n",
    "- `mon` — month (integer between 1 and 12)\n",
    "- `dom` — day of month (integer between 1 and 31)\n",
    "- `dow` — day of week (integer; 1 = Monday and 7 = Sunday)\n",
    "- `carrier` — carrier (IATA code)\n",
    "- `flight` — flight number\n",
    "- `org` — origin airport (IATA code)\n",
    "- `mile` — distance (miles)\n",
    "- `depart` — departure time (decimal hour)\n",
    "- `duration` — expected duration (minutes)\n",
    "- `delay` — delay (minutes)\n",
    "\n",
    "**Instructions:**\n",
    "\n",
    "1. Read data from a CSV file called `'flights.csv'`. Assign data types to columns automatically. Deal with missing data.\n",
    "2. How many records are in the data?\n",
    "3. Take a look at the first five records.\n",
    "4. What data types have been assigned to the columns? Do these look correct?"
   ]
  },
  {
   "cell_type": "code",
   "execution_count": 11,
   "id": "83c5e4a5-3426-4a25-ba35-e48d207ad083",
   "metadata": {},
   "outputs": [
    {
     "name": "stdout",
     "output_type": "stream",
     "text": [
      "The data contain 50000 records.\n",
      "+---+---+---+-------+------+---+----+------+--------+-----+\n",
      "|mon|dom|dow|carrier|flight|org|mile|depart|duration|delay|\n",
      "+---+---+---+-------+------+---+----+------+--------+-----+\n",
      "| 11| 20|  6|     US|    19|JFK|2153|  9.48|     351| NULL|\n",
      "|  0| 22|  2|     UA|  1107|ORD| 316| 16.33|      82|   30|\n",
      "|  2| 20|  4|     UA|   226|SFO| 337|  6.17|      82|   -8|\n",
      "|  9| 13|  1|     AA|   419|ORD|1236| 10.33|     195|   -5|\n",
      "|  4|  2|  5|     AA|   325|ORD| 258|  8.92|      65| NULL|\n",
      "+---+---+---+-------+------+---+----+------+--------+-----+\n",
      "only showing top 5 rows\n",
      "\n",
      "[('mon', 'int'), ('dom', 'int'), ('dow', 'int'), ('carrier', 'string'), ('flight', 'int'), ('org', 'string'), ('mile', 'int'), ('depart', 'double'), ('duration', 'int'), ('delay', 'int')]\n"
     ]
    }
   ],
   "source": [
    "# Read data from CSV file\n",
    "df = spark.read.csv('data-sources/flights.csv', sep=',', header=True, inferSchema=True, nullValue='NA')\n",
    "\n",
    "# Get number of records\n",
    "print(\"The data contain %d records.\" % df.count())\n",
    "\n",
    "# View the first five records\n",
    "df.show(5)\n",
    "\n",
    "# Check column data types\n",
    "print(df.dtypes)"
   ]
  },
  {
   "cell_type": "markdown",
   "id": "f1f33716-fd93-4fae-a9be-2f579285a598",
   "metadata": {},
   "source": [
    "## Ex. 3 - Loading SMS spam data\n",
    "\n",
    "You've seen that it's possible to infer data types directly from the data. Sometimes it's convenient to have direct control over the column types. You do this by defining an explicit schema.\n",
    "\n",
    "The file sms.csv contains a selection of SMS messages which have been classified as either 'spam' or 'ham'. There are a total of 5574 SMS, of which 747 have been labelled as spam.\n",
    "\n",
    "**Notes on CSV format:**\n",
    "- no header record and\n",
    "- fields are separated by a semicolon (this is not the default separator).\n",
    "\n",
    "**Data dictionary:**\n",
    "- id — record identifier\n",
    "- text — content of SMS message\n",
    "- label — spam or ham (integer; 0 = ham and 1 = spam)\n",
    "\n",
    "**Instructions:**\n",
    "1. Specify the data schema, giving columns names (`\"id\", \"text\", and \"label\"`) and column types.\n",
    "2. Read data from a delimited file called \"sms.csv\".\n",
    "3. Print the schema for the resulting DataFrame."
   ]
  },
  {
   "cell_type": "code",
   "execution_count": 12,
   "id": "24cb5302-f0ae-4a68-a48a-fe78a0dde6fc",
   "metadata": {},
   "outputs": [
    {
     "name": "stdout",
     "output_type": "stream",
     "text": [
      "root\n",
      " |-- id: integer (nullable = true)\n",
      " |-- text: string (nullable = true)\n",
      " |-- label: integer (nullable = true)\n",
      "\n"
     ]
    },
    {
     "data": {
      "text/html": [
       "<table border='1'>\n",
       "<tr><th>id</th><th>text</th><th>label</th></tr>\n",
       "<tr><td>1</td><td>Sorry, I'll call ...</td><td>0</td></tr>\n",
       "<tr><td>2</td><td>Dont worry. I gue...</td><td>0</td></tr>\n",
       "</table>\n"
      ],
      "text/plain": [
       "+---+--------------------+-----+\n",
       "| id|                text|label|\n",
       "+---+--------------------+-----+\n",
       "|  1|Sorry, I'll call ...|    0|\n",
       "|  2|Dont worry. I gue...|    0|\n",
       "+---+--------------------+-----+"
      ]
     },
     "execution_count": 12,
     "metadata": {},
     "output_type": "execute_result"
    }
   ],
   "source": [
    "# Specify column names and types\n",
    "schema = StructType([\n",
    "    StructField(\"id\", IntegerType()),\n",
    "    StructField(\"text\", StringType()),\n",
    "    StructField(\"label\", IntegerType())\n",
    "])\n",
    "\n",
    "# Load data from a delimited file\n",
    "df = spark.read.csv(\"data-sources/sms.csv\", sep=';', header=False, schema=schema)\n",
    "\n",
    "# Print schema of DataFrame\n",
    "df.printSchema()\n",
    "df.limit(2)"
   ]
  },
  {
   "cell_type": "markdown",
   "id": "3f1bfcef-d3b7-45e6-bee3-784106b2fa99",
   "metadata": {},
   "source": [
    "## Close session"
   ]
  },
  {
   "cell_type": "code",
   "execution_count": 13,
   "id": "8ebc4ec7-959d-469e-ae7c-7e706ea129ce",
   "metadata": {},
   "outputs": [],
   "source": [
    "spark.stop()"
   ]
  }
 ],
 "metadata": {
  "kernelspec": {
   "display_name": "Python 3 (ipykernel)",
   "language": "python",
   "name": "python3"
  },
  "language_info": {
   "codemirror_mode": {
    "name": "ipython",
    "version": 3
   },
   "file_extension": ".py",
   "mimetype": "text/x-python",
   "name": "python",
   "nbconvert_exporter": "python",
   "pygments_lexer": "ipython3",
   "version": "3.11.9"
  }
 },
 "nbformat": 4,
 "nbformat_minor": 5
}
