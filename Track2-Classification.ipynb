{
 "cells": [
  {
   "cell_type": "markdown",
   "id": "0d9f96b6-f713-43fe-a543-164a5372f1c5",
   "metadata": {},
   "source": [
    "# PySpark ML - Classification\n",
    "\n",
    "Now that you are familiar with getting data into Spark, you'll move onto building two types of classification model: Decision Trees and Logistic Regression. You'll also find out about a few approaches to data preparation.\n",
    "\n",
    "## Preparing the environment\n",
    "\n",
    "### Importing libraries"
   ]
  },
  {
   "cell_type": "code",
   "execution_count": 1,
   "id": "c21458f8-1acd-43a2-9cc6-306b920957ec",
   "metadata": {},
   "outputs": [],
   "source": [
    "from environment import SEED\n",
    "from pyspark.sql.types import (StructType, StructField,\n",
    "                               DoubleType, IntegerType, StringType)\n",
    "from pyspark.sql import SparkSession, functions as F\n",
    "from pyspark.ml.feature import (StringIndexer, VectorAssembler, Tokenizer,\n",
    "                                StopWordsRemover, HashingTF, IDF)\n",
    "from pyspark.ml.classification import DecisionTreeClassifier, LogisticRegression\n",
    "from pyspark.ml.evaluation import (MulticlassClassificationEvaluator, \n",
    "                                   BinaryClassificationEvaluator)"
   ]
  },
  {
   "cell_type": "markdown",
   "id": "ffb12e47-14ed-4e04-bc56-4e38f659c2b3",
   "metadata": {},
   "source": [
    "### Connect to Spark"
   ]
  },
  {
   "cell_type": "code",
   "execution_count": 2,
   "id": "067fae1d-87c8-420a-9970-2287108b60f9",
   "metadata": {},
   "outputs": [
    {
     "name": "stdout",
     "output_type": "stream",
     "text": [
      "Spark version: 3.5.1\n"
     ]
    }
   ],
   "source": [
    "spark = (SparkSession.builder\n",
    "                     .master('local[*]') \\\n",
    "                     .appName('spark_application') \\\n",
    "                     .config(\"spark.sql.repl.eagerEval.enabled\", True)  # eval DataFrame in notebooks\n",
    "                     .getOrCreate())\n",
    "\n",
    "sc = spark.sparkContext\n",
    "print(f'Spark version: {spark.version}')"
   ]
  },
  {
   "cell_type": "markdown",
   "id": "18ea8ed5-a73b-4a7f-9587-9dff5833f1d9",
   "metadata": {},
   "source": [
    "### Loading data"
   ]
  },
  {
   "cell_type": "code",
   "execution_count": 3,
   "id": "581ac1df-5a2d-4399-badf-5650f82ca852",
   "metadata": {},
   "outputs": [
    {
     "name": "stdout",
     "output_type": "stream",
     "text": [
      "root\n",
      " |-- mon: integer (nullable = true)\n",
      " |-- dom: integer (nullable = true)\n",
      " |-- dow: integer (nullable = true)\n",
      " |-- carrier: string (nullable = true)\n",
      " |-- flight: integer (nullable = true)\n",
      " |-- org: string (nullable = true)\n",
      " |-- mile: integer (nullable = true)\n",
      " |-- depart: double (nullable = true)\n",
      " |-- duration: integer (nullable = true)\n",
      " |-- delay: integer (nullable = true)\n",
      "\n"
     ]
    },
    {
     "data": {
      "text/html": [
       "<table border='1'>\n",
       "<tr><th>mon</th><th>dom</th><th>dow</th><th>carrier</th><th>flight</th><th>org</th><th>mile</th><th>depart</th><th>duration</th><th>delay</th></tr>\n",
       "<tr><td>11</td><td>20</td><td>6</td><td>US</td><td>19</td><td>JFK</td><td>2153</td><td>9.48</td><td>351</td><td>NULL</td></tr>\n",
       "<tr><td>0</td><td>22</td><td>2</td><td>UA</td><td>1107</td><td>ORD</td><td>316</td><td>16.33</td><td>82</td><td>30</td></tr>\n",
       "</table>\n"
      ],
      "text/plain": [
       "+---+---+---+-------+------+---+----+------+--------+-----+\n",
       "|mon|dom|dow|carrier|flight|org|mile|depart|duration|delay|\n",
       "+---+---+---+-------+------+---+----+------+--------+-----+\n",
       "| 11| 20|  6|     US|    19|JFK|2153|  9.48|     351| NULL|\n",
       "|  0| 22|  2|     UA|  1107|ORD| 316| 16.33|      82|   30|\n",
       "+---+---+---+-------+------+---+----+------+--------+-----+"
      ]
     },
     "execution_count": 3,
     "metadata": {},
     "output_type": "execute_result"
    }
   ],
   "source": [
    "schema_flights = StructType([\n",
    "    StructField(\"mon\", IntegerType()),\n",
    "    StructField(\"dom\", IntegerType()),\n",
    "    StructField(\"dow\", IntegerType()),\n",
    "    StructField(\"carrier\", StringType()),\n",
    "    StructField(\"flight\", IntegerType()),\n",
    "    StructField(\"org\", StringType()),\n",
    "    StructField(\"mile\", IntegerType()),\n",
    "    StructField(\"depart\", DoubleType()),\n",
    "    StructField(\"duration\", IntegerType()),\n",
    "    StructField(\"delay\", IntegerType())\n",
    "])\n",
    "\n",
    "flights_data = spark.read.csv('data-sources/flights.csv', header=True, schema=schema_flights, nullValue='NA')\n",
    "flights_data.createOrReplaceTempView(\"flights\")\n",
    "flights_data.printSchema()\n",
    "flights_data.limit(2)"
   ]
  },
  {
   "cell_type": "code",
   "execution_count": 4,
   "id": "dca86e2e-43d4-4688-919a-c7740c20ae68",
   "metadata": {},
   "outputs": [
    {
     "name": "stdout",
     "output_type": "stream",
     "text": [
      "root\n",
      " |-- id: integer (nullable = true)\n",
      " |-- text: string (nullable = true)\n",
      " |-- label: integer (nullable = true)\n",
      "\n"
     ]
    },
    {
     "data": {
      "text/html": [
       "<table border='1'>\n",
       "<tr><th>id</th><th>text</th><th>label</th></tr>\n",
       "<tr><td>1</td><td>Sorry, I'll call ...</td><td>0</td></tr>\n",
       "<tr><td>2</td><td>Dont worry. I gue...</td><td>0</td></tr>\n",
       "</table>\n"
      ],
      "text/plain": [
       "+---+--------------------+-----+\n",
       "| id|                text|label|\n",
       "+---+--------------------+-----+\n",
       "|  1|Sorry, I'll call ...|    0|\n",
       "|  2|Dont worry. I gue...|    0|\n",
       "+---+--------------------+-----+"
      ]
     },
     "execution_count": 4,
     "metadata": {},
     "output_type": "execute_result"
    }
   ],
   "source": [
    "schema_sms = StructType([\n",
    "    StructField(\"id\", IntegerType()),\n",
    "    StructField(\"text\", StringType()),\n",
    "    StructField(\"label\", IntegerType())\n",
    "])\n",
    "\n",
    "sms_data = spark.read.csv(\"data-sources/sms.csv\", sep=';', header=False, schema=schema_sms)\n",
    "sms_data.createOrReplaceTempView(\"sms\")\n",
    "sms_data.printSchema()\n",
    "sms_data.limit(2)"
   ]
  },
  {
   "cell_type": "code",
   "execution_count": 5,
   "id": "cad91f26-558e-4cc4-a0c9-c02c1bfddcb2",
   "metadata": {},
   "outputs": [
    {
     "name": "stdout",
     "output_type": "stream",
     "text": [
      "root\n",
      " |-- maker: string (nullable = true)\n",
      " |-- model: string (nullable = true)\n",
      " |-- origin: string (nullable = true)\n",
      " |-- type: string (nullable = true)\n",
      " |-- cyl: integer (nullable = true)\n",
      " |-- size: double (nullable = true)\n",
      " |-- weight: integer (nullable = true)\n",
      " |-- length: double (nullable = true)\n",
      " |-- rpm: integer (nullable = true)\n",
      " |-- consumption: double (nullable = true)\n",
      "\n"
     ]
    },
    {
     "data": {
      "text/html": [
       "<table border='1'>\n",
       "<tr><th>maker</th><th>model</th><th>origin</th><th>type</th><th>cyl</th><th>size</th><th>weight</th><th>length</th><th>rpm</th><th>consumption</th></tr>\n",
       "<tr><td>Mazda</td><td>RX-7</td><td>non-USA</td><td>Sporty</td><td>NULL</td><td>1.3</td><td>2895</td><td>169.0</td><td>6500</td><td>4.0</td></tr>\n",
       "<tr><td>Geo</td><td>Metro</td><td>non-USA</td><td>Small</td><td>3</td><td>1.0</td><td>1695</td><td>151.0</td><td>5700</td><td>2.0</td></tr>\n",
       "</table>\n"
      ],
      "text/plain": [
       "+-----+-----+-------+------+----+----+------+------+----+-----------+\n",
       "|maker|model| origin|  type| cyl|size|weight|length| rpm|consumption|\n",
       "+-----+-----+-------+------+----+----+------+------+----+-----------+\n",
       "|Mazda| RX-7|non-USA|Sporty|NULL| 1.3|  2895| 169.0|6500|        4.0|\n",
       "|  Geo|Metro|non-USA| Small|   3| 1.0|  1695| 151.0|5700|        2.0|\n",
       "+-----+-----+-------+------+----+----+------+------+----+-----------+"
      ]
     },
     "execution_count": 5,
     "metadata": {},
     "output_type": "execute_result"
    }
   ],
   "source": [
    "schema_cars = StructType([\n",
    "    StructField(\"maker\", StringType()),\n",
    "    StructField(\"model\", StringType()),\n",
    "    StructField(\"origin\", StringType()),\n",
    "    StructField(\"type\", StringType()),\n",
    "    StructField(\"cyl\", IntegerType()),\n",
    "    StructField(\"size\", DoubleType()),\n",
    "    StructField(\"weight\", IntegerType()),\n",
    "    StructField(\"length\", DoubleType()),\n",
    "    StructField(\"rpm\", IntegerType()),\n",
    "    StructField(\"consumption\", DoubleType())\n",
    "])\n",
    "\n",
    "cars_data = spark.read.csv('data-sources/cars.csv', header=True, schema=schema_cars, nullValue='NA')\n",
    "cars_data.createOrReplaceTempView(\"cars\")\n",
    "cars_data.printSchema()\n",
    "cars_data.limit(2)"
   ]
  },
  {
   "cell_type": "code",
   "execution_count": 6,
   "id": "8866ce55-98f7-45de-bbd4-070eefdd3f99",
   "metadata": {},
   "outputs": [
    {
     "name": "stdout",
     "output_type": "stream",
     "text": [
      "root\n",
      " |-- id: integer (nullable = true)\n",
      " |-- text: string (nullable = true)\n",
      "\n"
     ]
    },
    {
     "data": {
      "text/html": [
       "<table border='1'>\n",
       "<tr><th>id</th><th>text</th></tr>\n",
       "<tr><td>0</td><td>Forever, or a Lon...</td></tr>\n",
       "<tr><td>1</td><td>Winnie-the-Pooh</td></tr>\n",
       "</table>\n"
      ],
      "text/plain": [
       "+---+--------------------+\n",
       "| id|                text|\n",
       "+---+--------------------+\n",
       "|  0|Forever, or a Lon...|\n",
       "|  1|     Winnie-the-Pooh|\n",
       "+---+--------------------+"
      ]
     },
     "execution_count": 6,
     "metadata": {},
     "output_type": "execute_result"
    }
   ],
   "source": [
    "schema_books = StructType([\n",
    "    StructField(\"id\", IntegerType()),\n",
    "    StructField(\"text\", StringType())\n",
    "])\n",
    "\n",
    "books_data = spark.read.csv(\"data-sources/books.csv\", sep=';', header=True, schema=schema_books)\n",
    "books_data.createOrReplaceTempView(\"books\")\n",
    "books_data.printSchema()\n",
    "books_data.limit(2)"
   ]
  },
  {
   "cell_type": "markdown",
   "id": "d79709f1-ff5e-4b2b-8168-a273730bb43f",
   "metadata": {},
   "source": [
    "### Tables catalogue"
   ]
  },
  {
   "cell_type": "code",
   "execution_count": 7,
   "id": "544d8bd5-3e6f-4f7c-9f51-c4cee7a56df8",
   "metadata": {},
   "outputs": [
    {
     "data": {
      "text/plain": [
       "[Table(name='books', catalog=None, namespace=[], description=None, tableType='TEMPORARY', isTemporary=True),\n",
       " Table(name='cars', catalog=None, namespace=[], description=None, tableType='TEMPORARY', isTemporary=True),\n",
       " Table(name='flights', catalog=None, namespace=[], description=None, tableType='TEMPORARY', isTemporary=True),\n",
       " Table(name='sms', catalog=None, namespace=[], description=None, tableType='TEMPORARY', isTemporary=True)]"
      ]
     },
     "execution_count": 7,
     "metadata": {},
     "output_type": "execute_result"
    }
   ],
   "source": [
    "spark.catalog.listTables()"
   ]
  },
  {
   "cell_type": "markdown",
   "id": "9476369f-10d4-4f74-a2fe-bfe79e19ca0a",
   "metadata": {},
   "source": [
    "# Cars Dataset\n",
    "\n",
    "## Data Preparation\n",
    "\n",
    "### Dropping columns"
   ]
  },
  {
   "cell_type": "code",
   "execution_count": 8,
   "id": "53b6f562-e5ca-4037-b8df-3bd3dec0af11",
   "metadata": {},
   "outputs": [
    {
     "data": {
      "text/html": [
       "<table border='1'>\n",
       "<tr><th>origin</th><th>type</th><th>cyl</th><th>size</th><th>weight</th><th>length</th><th>rpm</th><th>consumption</th></tr>\n",
       "<tr><td>non-USA</td><td>Sporty</td><td>NULL</td><td>1.3</td><td>2895</td><td>169.0</td><td>6500</td><td>4.0</td></tr>\n",
       "<tr><td>non-USA</td><td>Small</td><td>3</td><td>1.0</td><td>1695</td><td>151.0</td><td>5700</td><td>2.0</td></tr>\n",
       "</table>\n"
      ],
      "text/plain": [
       "+-------+------+----+----+------+------+----+-----------+\n",
       "| origin|  type| cyl|size|weight|length| rpm|consumption|\n",
       "+-------+------+----+----+------+------+----+-----------+\n",
       "|non-USA|Sporty|NULL| 1.3|  2895| 169.0|6500|        4.0|\n",
       "|non-USA| Small|   3| 1.0|  1695| 151.0|5700|        2.0|\n",
       "+-------+------+----+----+------+------+----+-----------+"
      ]
     },
     "execution_count": 8,
     "metadata": {},
     "output_type": "execute_result"
    }
   ],
   "source": [
    "# Either drop the columns you don't want...\n",
    "df_cars = cars_data.drop('maker', 'model')\n",
    "\n",
    "# ... or select the columns you want to retain.\n",
    "df_cars = cars_data.select('origin', 'type', 'cyl', 'size', 'weight', 'length', 'rpm', 'consumption')\n",
    "df_cars.limit(2)"
   ]
  },
  {
   "cell_type": "markdown",
   "id": "3c244e79-9352-4569-b29e-435856f25344",
   "metadata": {},
   "source": [
    "### Filtering out missing data"
   ]
  },
  {
   "cell_type": "code",
   "execution_count": 9,
   "id": "efc38bee-3d82-4f1c-9647-79ef3f1eb8fb",
   "metadata": {},
   "outputs": [
    {
     "name": "stdout",
     "output_type": "stream",
     "text": [
      "\n",
      "Missing values in cyl: 1\n",
      "Total nulls found in cars data: {'cyl': 1}\n",
      "\n"
     ]
    },
    {
     "data": {
      "text/html": [
       "<table border='1'>\n",
       "<tr><th>origin</th><th>type</th><th>cyl</th><th>size</th><th>weight</th><th>length</th><th>rpm</th><th>consumption</th></tr>\n",
       "<tr><td>non-USA</td><td>Small</td><td>3</td><td>1.0</td><td>1695</td><td>151.0</td><td>5700</td><td>2.0</td></tr>\n",
       "<tr><td>non-USA</td><td>Small</td><td>4</td><td>1.5</td><td>2350</td><td>173.0</td><td>5900</td><td>2.17</td></tr>\n",
       "</table>\n"
      ],
      "text/plain": [
       "+-------+-----+---+----+------+------+----+-----------+\n",
       "| origin| type|cyl|size|weight|length| rpm|consumption|\n",
       "+-------+-----+---+----+------+------+----+-----------+\n",
       "|non-USA|Small|  3| 1.0|  1695| 151.0|5700|        2.0|\n",
       "|non-USA|Small|  4| 1.5|  2350| 173.0|5900|       2.17|\n",
       "+-------+-----+---+----+------+------+----+-----------+"
      ]
     },
     "execution_count": 9,
     "metadata": {},
     "output_type": "execute_result"
    }
   ],
   "source": [
    "# How many missing values?\n",
    "Dict_Null = {col: df_cars.filter(df_cars[f\"`{col}`\"].isNull()).count() for col in df_cars.columns}\n",
    "Dict_Null = {k: v for k, v in Dict_Null.items() if v != 0}\n",
    "print(f'''\n",
    "Missing values in cyl: {df_cars.filter('cyl IS NULL').count()}\n",
    "Total nulls found in cars data: {Dict_Null}\n",
    "''')\n",
    "\n",
    "# Drop records with missing values in the cylinders column.\n",
    "df_cars = df_cars.filter('cyl IS NOT NULL')\n",
    "\n",
    "# Drop records with missing values in any column.\n",
    "df_cars = df_cars.dropna()\n",
    "df_cars.limit(2)"
   ]
  },
  {
   "cell_type": "markdown",
   "id": "511dfdc9-13f1-4d7c-9f55-90301ebcaa18",
   "metadata": {},
   "source": [
    "### Mutating columns"
   ]
  },
  {
   "cell_type": "code",
   "execution_count": 10,
   "id": "937dd37c-ac8a-4c7b-ac69-85d35aa61ac0",
   "metadata": {},
   "outputs": [
    {
     "name": "stdout",
     "output_type": "stream",
     "text": [
      "+-------+-----+---+----+------+------+----+-----------+------+\n",
      "| origin| type|cyl|size|weight|length| rpm|consumption|  mass|\n",
      "+-------+-----+---+----+------+------+----+-----------+------+\n",
      "|non-USA|Small|  3| 1.0|  1695| 3.835|5700|        2.0| 769.0|\n",
      "|non-USA|Small|  4| 1.5|  2350| 4.394|5900|       2.17|1066.0|\n",
      "+-------+-----+---+----+------+------+----+-----------+------+\n",
      "only showing top 2 rows\n",
      "\n"
     ]
    }
   ],
   "source": [
    "# Create a new 'mass' column\n",
    "df_cars = df_cars.withColumn('mass', F.round(df_cars.weight / 2.205, 0))\n",
    "\n",
    "# Convert length to metres\n",
    "df_cars = df_cars.withColumn('length', F.round(df_cars.length * 0.0254, 3))\n",
    "df_cars.show(2)"
   ]
  },
  {
   "cell_type": "markdown",
   "id": "c8cb65fa-e99d-4bed-974e-20918d031d62",
   "metadata": {},
   "source": [
    "### Indexing categorical data"
   ]
  },
  {
   "cell_type": "code",
   "execution_count": 11,
   "id": "12604dec-4713-4754-8ddc-173e7b8f612e",
   "metadata": {},
   "outputs": [
    {
     "name": "stdout",
     "output_type": "stream",
     "text": [
      "+-------+-----+---+----+------+------+----+-----------+------+--------+\n",
      "| origin| type|cyl|size|weight|length| rpm|consumption|  mass|type_idx|\n",
      "+-------+-----+---+----+------+------+----+-----------+------+--------+\n",
      "|non-USA|Small|  3| 1.0|  1695| 3.835|5700|        2.0| 769.0|     1.0|\n",
      "|non-USA|Small|  4| 1.5|  2350| 4.394|5900|       2.17|1066.0|     1.0|\n",
      "+-------+-----+---+----+------+------+----+-----------+------+--------+\n",
      "only showing top 2 rows\n",
      "\n",
      "+-------+--------+\n",
      "|   type|type_idx|\n",
      "+-------+--------+\n",
      "|Midsize|     0.0|\n",
      "|  Small|     1.0|\n",
      "|Compact|     2.0|\n",
      "| Sporty|     3.0|\n",
      "|  Large|     4.0|\n",
      "|    Van|     5.0|\n",
      "+-------+--------+\n",
      "\n"
     ]
    }
   ],
   "source": [
    "# Assign index values to strings\n",
    "indexer_cars = StringIndexer(inputCol='type', outputCol='type_idx')\n",
    "indexer_cars = indexer_cars.fit(df_cars)\n",
    "\n",
    "# Create column with index values\n",
    "df_cars = indexer_cars.transform(df_cars)\n",
    "df_cars.show(2)\n",
    "df_cars.select('type', 'type_idx').distinct().orderBy('type_idx').show()"
   ]
  },
  {
   "cell_type": "code",
   "execution_count": 12,
   "id": "17fb1969-4fce-4629-b9e3-89d7d752b742",
   "metadata": {},
   "outputs": [
    {
     "name": "stdout",
     "output_type": "stream",
     "text": [
      "+-------+-----+---+----+------+------+----+-----------+------+--------+-----+\n",
      "| origin| type|cyl|size|weight|length| rpm|consumption|  mass|type_idx|label|\n",
      "+-------+-----+---+----+------+------+----+-----------+------+--------+-----+\n",
      "|non-USA|Small|  3| 1.0|  1695| 3.835|5700|        2.0| 769.0|     1.0|  1.0|\n",
      "|non-USA|Small|  4| 1.5|  2350| 4.394|5900|       2.17|1066.0|     1.0|  1.0|\n",
      "+-------+-----+---+----+------+------+----+-----------+------+--------+-----+\n",
      "only showing top 2 rows\n",
      "\n",
      "+-------+-----+\n",
      "| origin|label|\n",
      "+-------+-----+\n",
      "|    USA|  0.0|\n",
      "|non-USA|  1.0|\n",
      "+-------+-----+\n",
      "\n"
     ]
    }
   ],
   "source": [
    "df_cars = StringIndexer(inputCol=\"origin\", outputCol=\"label\").fit(df_cars).transform(df_cars)\n",
    "df_cars.show(2)\n",
    "df_cars.select('origin', 'label').distinct().orderBy('label').show()"
   ]
  },
  {
   "cell_type": "markdown",
   "id": "204c836e-e1d9-41e3-8398-c50291c6d9b3",
   "metadata": {},
   "source": [
    "### Assembling columns"
   ]
  },
  {
   "cell_type": "code",
   "execution_count": 13,
   "id": "6367d0ea-212b-401a-b627-85f851aeb820",
   "metadata": {},
   "outputs": [
    {
     "name": "stdout",
     "output_type": "stream",
     "text": [
      "+---+----+---------+\n",
      "|cyl|size| features|\n",
      "+---+----+---------+\n",
      "|  3| 1.0|[3.0,1.0]|\n",
      "|  4| 1.5|[4.0,1.5]|\n",
      "|  3| 1.3|[3.0,1.3]|\n",
      "|  4| 1.6|[4.0,1.6]|\n",
      "|  4| 1.9|[4.0,1.9]|\n",
      "+---+----+---------+\n",
      "only showing top 5 rows\n",
      "\n"
     ]
    }
   ],
   "source": [
    "assembler_cars = VectorAssembler(inputCols=['cyl', 'size'], outputCol='features')\n",
    "df_cars = assembler_cars.transform(df_cars)\n",
    "df_cars.select('cyl', 'size', 'features').show(5)"
   ]
  },
  {
   "cell_type": "markdown",
   "id": "7af1e0ca-7150-4d3d-922b-2d2d8d4bce3a",
   "metadata": {},
   "source": [
    "## Decision Tree\n",
    "\n",
    "### Split train/test"
   ]
  },
  {
   "cell_type": "code",
   "execution_count": 14,
   "id": "dfc89fb8-ef86-4a07-9525-1dc6de00ef29",
   "metadata": {},
   "outputs": [
    {
     "data": {
      "text/plain": [
       "[75, 17]"
      ]
     },
     "execution_count": 14,
     "metadata": {},
     "output_type": "execute_result"
    }
   ],
   "source": [
    "# Specify a seed for reproducibility\n",
    "df_cars_train, df_cars_test = df_cars.randomSplit([0.8, 0.2], seed=SEED)\n",
    "\n",
    "# Two DataFrames: cars_train and cars_test .\n",
    "[df_cars_train.count(), df_cars_test.count()]"
   ]
  },
  {
   "cell_type": "markdown",
   "id": "049dff62-cc93-4453-9321-d86454134c0b",
   "metadata": {},
   "source": [
    "### Build a Decision Tree model"
   ]
  },
  {
   "cell_type": "code",
   "execution_count": 15,
   "id": "0fbc3105-8fa0-4437-898c-fa7c6c9938aa",
   "metadata": {},
   "outputs": [
    {
     "data": {
      "text/plain": [
       "DecisionTreeClassificationModel: uid=DecisionTreeClassifier_80f16da06485, depth=5, numNodes=21, numClasses=2, numFeatures=2"
      ]
     },
     "execution_count": 15,
     "metadata": {},
     "output_type": "execute_result"
    }
   ],
   "source": [
    "# Create a Decision Tree classifier.\n",
    "tree_model_cars = DecisionTreeClassifier(featuresCol='features', labelCol='label',\n",
    "                                         predictionCol='pred', seed=SEED)\n",
    "\n",
    "# Learn from the training data.\n",
    "tree_model_cars = tree_model_cars.fit(df_cars_train)\n",
    "tree_model_cars"
   ]
  },
  {
   "cell_type": "markdown",
   "id": "c3b7c3b8-0dad-40de-aca1-4d56236b3467",
   "metadata": {},
   "source": [
    "### Predicting"
   ]
  },
  {
   "cell_type": "code",
   "execution_count": 16,
   "id": "69044fae-fa46-40d5-9d0f-9d8f3a9c4a0d",
   "metadata": {},
   "outputs": [
    {
     "name": "stdout",
     "output_type": "stream",
     "text": [
      "+-----+----+-------------+--------------------+\n",
      "|label|pred|rawPrediction|         probability|\n",
      "+-----+----+-------------+--------------------+\n",
      "|  0.0| 0.0|   [10.0,8.0]|[0.55555555555555...|\n",
      "|  0.0| 0.0|    [2.0,0.0]|           [1.0,0.0]|\n",
      "|  0.0| 0.0|   [10.0,0.0]|           [1.0,0.0]|\n",
      "|  0.0| 0.0|   [10.0,0.0]|           [1.0,0.0]|\n",
      "|  0.0| 0.0|   [10.0,8.0]|[0.55555555555555...|\n",
      "|  0.0| 0.0|   [10.0,0.0]|           [1.0,0.0]|\n",
      "|  0.0| 1.0|   [4.0,12.0]|         [0.25,0.75]|\n",
      "|  0.0| 1.0|   [4.0,12.0]|         [0.25,0.75]|\n",
      "|  0.0| 0.0|   [10.0,0.0]|           [1.0,0.0]|\n",
      "|  0.0| 0.0|   [10.0,0.0]|           [1.0,0.0]|\n",
      "|  0.0| 0.0|   [10.0,0.0]|           [1.0,0.0]|\n",
      "|  1.0| 0.0|   [10.0,8.0]|[0.55555555555555...|\n",
      "+-----+----+-------------+--------------------+\n",
      "only showing top 12 rows\n",
      "\n"
     ]
    }
   ],
   "source": [
    "df_cars_pred_tree = tree_model_cars.transform(df_cars_test)\n",
    "df_cars_pred_tree.select('label', 'pred', 'rawPrediction', 'probability').show(12)"
   ]
  },
  {
   "cell_type": "markdown",
   "id": "e1a77277-8f66-49f2-876c-795af0acf2fe",
   "metadata": {},
   "source": [
    "### Confusion matrix"
   ]
  },
  {
   "cell_type": "code",
   "execution_count": 17,
   "id": "5b4c1245-1390-4f0e-aa9c-e7b9adb500d8",
   "metadata": {},
   "outputs": [
    {
     "name": "stdout",
     "output_type": "stream",
     "text": [
      "Accuracy: 0.7058823529411765\n"
     ]
    },
    {
     "data": {
      "text/html": [
       "<div>\n",
       "<style scoped>\n",
       "    .dataframe tbody tr th:only-of-type {\n",
       "        vertical-align: middle;\n",
       "    }\n",
       "\n",
       "    .dataframe tbody tr th {\n",
       "        vertical-align: top;\n",
       "    }\n",
       "\n",
       "    .dataframe thead th {\n",
       "        text-align: right;\n",
       "    }\n",
       "</style>\n",
       "<table border=\"1\" class=\"dataframe\">\n",
       "  <thead>\n",
       "    <tr style=\"text-align: right;\">\n",
       "      <th></th>\n",
       "      <th>label</th>\n",
       "      <th>pred</th>\n",
       "      <th>count</th>\n",
       "    </tr>\n",
       "  </thead>\n",
       "  <tbody>\n",
       "    <tr>\n",
       "      <th>True negative (TN)</th>\n",
       "      <td>0.0</td>\n",
       "      <td>0.0</td>\n",
       "      <td>9</td>\n",
       "    </tr>\n",
       "    <tr>\n",
       "      <th>False negative (FN)</th>\n",
       "      <td>1.0</td>\n",
       "      <td>0.0</td>\n",
       "      <td>3</td>\n",
       "    </tr>\n",
       "    <tr>\n",
       "      <th>False positive (FP)</th>\n",
       "      <td>0.0</td>\n",
       "      <td>1.0</td>\n",
       "      <td>2</td>\n",
       "    </tr>\n",
       "    <tr>\n",
       "      <th>True positive (TP)</th>\n",
       "      <td>1.0</td>\n",
       "      <td>1.0</td>\n",
       "      <td>3</td>\n",
       "    </tr>\n",
       "  </tbody>\n",
       "</table>\n",
       "</div>"
      ],
      "text/plain": [
       "                     label  pred  count\n",
       "True negative (TN)     0.0   0.0      9\n",
       "False negative (FN)    1.0   0.0      3\n",
       "False positive (FP)    0.0   1.0      2\n",
       "True positive (TP)     1.0   1.0      3"
      ]
     },
     "execution_count": 17,
     "metadata": {},
     "output_type": "execute_result"
    }
   ],
   "source": [
    "# Labels for confussion matrix\n",
    "df_cars_cm_tree = df_cars_pred_tree.groupBy(\"label\", \"pred\").count().toPandas().sort_values([\"pred\", \"label\"])\n",
    "df_cars_cm_tree.index = ['True negative (TN)', 'False negative (FN)',\n",
    "                         'False positive (FP)', 'True positive (TP)']\n",
    "TN, FN, FP, TP = df_cars_cm_tree['count'].to_list()\n",
    "accuracy_cars = (TN + TP) / (TN + TP + FN + FP)\n",
    "print(f'Accuracy: {accuracy_cars}')\n",
    "df_cars_cm_tree"
   ]
  },
  {
   "cell_type": "markdown",
   "id": "17318938-80ea-48d3-b7ed-9f48711f0dc9",
   "metadata": {},
   "source": [
    "## Logistic Regression\n",
    "\n",
    "### Build a Logistic Regression model"
   ]
  },
  {
   "cell_type": "code",
   "execution_count": 18,
   "id": "a19f68a0-a64a-4601-87d8-c078a86adc72",
   "metadata": {},
   "outputs": [
    {
     "data": {
      "text/plain": [
       "LogisticRegressionModel: uid=LogisticRegression_e54b689aee4c, numClasses=2, numFeatures=2"
      ]
     },
     "execution_count": 18,
     "metadata": {},
     "output_type": "execute_result"
    }
   ],
   "source": [
    "# Create a Logistic Regression classifier.\n",
    "lr_model_cars = LogisticRegression(featuresCol='features', labelCol='label', predictionCol='pred')\n",
    "\n",
    "# Learn from the training data.\n",
    "lr_model_cars = lr_model_cars.fit(df_cars_train)\n",
    "lr_model_cars"
   ]
  },
  {
   "cell_type": "markdown",
   "id": "64801778-11bb-467d-97b4-0875fa5ca746",
   "metadata": {},
   "source": [
    "### Predictions"
   ]
  },
  {
   "cell_type": "code",
   "execution_count": 19,
   "id": "f2b1e2d9-4d2e-4d3e-8764-ba667986e2ad",
   "metadata": {},
   "outputs": [
    {
     "name": "stdout",
     "output_type": "stream",
     "text": [
      "+-----+----+------------------------------------------+-----------------------------------------+\n",
      "|label|pred|rawPrediction                             |probability                              |\n",
      "+-----+----+------------------------------------------+-----------------------------------------+\n",
      "|0.0  |1.0 |[-0.10779485172257308,0.10779485172257308]|[0.4730773515143992,0.5269226484856008]  |\n",
      "|0.0  |0.0 |[1.3298097249608083,-1.3298097249608083]  |[0.7908091593227016,0.20919084067729843] |\n",
      "|0.0  |0.0 |[0.4608954276344823,-0.4608954276344823]  |[0.6132265749554279,0.38677342504457213] |\n",
      "|0.0  |0.0 |[4.773709157684628,-4.773709157684628]    |[0.9916218038829928,0.008378196117007186]|\n",
      "|0.0  |1.0 |[-0.10779485172257308,0.10779485172257308]|[0.4730773515143992,0.5269226484856008]  |\n",
      "|0.0  |0.0 |[0.6405959997199053,-0.6405959997199053]  |[0.6548881747283181,0.34511182527168194] |\n",
      "|0.0  |1.0 |[-1.3656988563205323,1.3656988563205323]  |[0.2033156498119474,0.7966843501880526]  |\n",
      "|0.0  |1.0 |[-1.1859982842351093,1.1859982842351093]  |[0.23397540327026525,0.7660245967297348] |\n",
      "|0.0  |0.0 |[1.3593982880615956,-1.3593982880615956]  |[0.7956618863565706,0.20433811364342935] |\n",
      "|0.0  |0.0 |[1.3593982880615956,-1.3593982880615956]  |[0.7956618863565706,0.20433811364342935] |\n",
      "|0.0  |0.0 |[2.2579011484887097,-2.2579011484887097]  |[0.905329896337555,0.094670103662445]    |\n",
      "|1.0  |1.0 |[-0.28749542380799564,0.28749542380799564]|[0.4286171390526576,0.5713828609473424]  |\n",
      "+-----+----+------------------------------------------+-----------------------------------------+\n",
      "only showing top 12 rows\n",
      "\n"
     ]
    }
   ],
   "source": [
    "df_cars_pred_lr = lr_model_cars.transform(df_cars_test)\n",
    "df_cars_pred_lr.select('label', 'pred', 'rawPrediction', 'probability').show(12, truncate=False)"
   ]
  },
  {
   "cell_type": "markdown",
   "id": "c91cb98a-c53c-4286-ab8c-938f58d0aa7e",
   "metadata": {},
   "source": [
    "### Precision and recall"
   ]
  },
  {
   "cell_type": "code",
   "execution_count": 20,
   "id": "770cf14c-b3a3-431f-8e8f-bf73723b09a2",
   "metadata": {},
   "outputs": [
    {
     "name": "stdout",
     "output_type": "stream",
     "text": [
      "\n",
      "Accuracy : 0.7058823529411765\n",
      "Precision: 0.5555555555555556\n",
      "Recall   : 0.8333333333333334\n",
      "\n"
     ]
    },
    {
     "data": {
      "text/html": [
       "<div>\n",
       "<style scoped>\n",
       "    .dataframe tbody tr th:only-of-type {\n",
       "        vertical-align: middle;\n",
       "    }\n",
       "\n",
       "    .dataframe tbody tr th {\n",
       "        vertical-align: top;\n",
       "    }\n",
       "\n",
       "    .dataframe thead th {\n",
       "        text-align: right;\n",
       "    }\n",
       "</style>\n",
       "<table border=\"1\" class=\"dataframe\">\n",
       "  <thead>\n",
       "    <tr style=\"text-align: right;\">\n",
       "      <th></th>\n",
       "      <th>label</th>\n",
       "      <th>pred</th>\n",
       "      <th>count</th>\n",
       "    </tr>\n",
       "  </thead>\n",
       "  <tbody>\n",
       "    <tr>\n",
       "      <th>True negative (TN)</th>\n",
       "      <td>0.0</td>\n",
       "      <td>0.0</td>\n",
       "      <td>7</td>\n",
       "    </tr>\n",
       "    <tr>\n",
       "      <th>False negative (FN)</th>\n",
       "      <td>1.0</td>\n",
       "      <td>0.0</td>\n",
       "      <td>1</td>\n",
       "    </tr>\n",
       "    <tr>\n",
       "      <th>False positive (FP)</th>\n",
       "      <td>0.0</td>\n",
       "      <td>1.0</td>\n",
       "      <td>4</td>\n",
       "    </tr>\n",
       "    <tr>\n",
       "      <th>True positive (TP)</th>\n",
       "      <td>1.0</td>\n",
       "      <td>1.0</td>\n",
       "      <td>5</td>\n",
       "    </tr>\n",
       "  </tbody>\n",
       "</table>\n",
       "</div>"
      ],
      "text/plain": [
       "                     label  pred  count\n",
       "True negative (TN)     0.0   0.0      7\n",
       "False negative (FN)    1.0   0.0      1\n",
       "False positive (FP)    0.0   1.0      4\n",
       "True positive (TP)     1.0   1.0      5"
      ]
     },
     "execution_count": 20,
     "metadata": {},
     "output_type": "execute_result"
    }
   ],
   "source": [
    "# Labels for confussion matrix\n",
    "df_cars_cm_lr = df_cars_pred_lr.groupBy(\"label\", \"pred\").count().toPandas().sort_values([\"pred\", \"label\"])\n",
    "df_cars_cm_lr.index = ['True negative (TN)', 'False negative (FN)',\n",
    "                       'False positive (FP)', 'True positive (TP)']\n",
    "\n",
    "TN, FN, FP, TP = df_cars_cm_lr['count'].to_list()\n",
    "accuracy_cars = (TN + TP) / (TN + TP + FN + FP)\n",
    "precision = TP / (TP + FP)\n",
    "recall = TP / (TP + FN)\n",
    "print(f'''\n",
    "Accuracy : {accuracy_cars}\n",
    "Precision: {precision}\n",
    "Recall   : {recall}\n",
    "''')\n",
    "df_cars_cm_lr"
   ]
  },
  {
   "cell_type": "markdown",
   "id": "de474103-3eba-4676-ad2d-83e0c5dd282c",
   "metadata": {},
   "source": [
    "### Weighted metrics"
   ]
  },
  {
   "cell_type": "code",
   "execution_count": 21,
   "id": "b105eb1a-4ef9-44da-9bb9-6a9113c4858a",
   "metadata": {},
   "outputs": [
    {
     "name": "stdout",
     "output_type": "stream",
     "text": [
      "\n",
      "weightedPrecision: 0.7622549019607843\n",
      "   weightedRecall: 0.7058823529411764\n",
      "         accuracy: 0.7058823529411765\n",
      "               f1: 0.7120743034055728\n",
      "\n"
     ]
    }
   ],
   "source": [
    "evaluator_cars_lr = MulticlassClassificationEvaluator(labelCol='label', \n",
    "                                                      predictionCol='pred')\n",
    "weightedPrecision = evaluator_cars_lr.evaluate(df_cars_pred_lr, \n",
    "                                               {evaluator_cars_lr.metricName: 'weightedPrecision'})\n",
    "weightedRecall = evaluator_cars_lr.evaluate(df_cars_pred_lr, \n",
    "                                            {evaluator_cars_lr.metricName: 'weightedRecall'})\n",
    "accuracy = evaluator_cars_lr.evaluate(df_cars_pred_lr, {evaluator_cars_lr.metricName: 'accuracy'})\n",
    "f1 = evaluator_cars_lr.evaluate(df_cars_pred_lr, {evaluator_cars_lr.metricName: 'f1'})\n",
    "\n",
    "print(f'''\n",
    "weightedPrecision: {weightedPrecision}\n",
    "   weightedRecall: {weightedRecall}\n",
    "         accuracy: {accuracy}\n",
    "               f1: {f1}\n",
    "''')"
   ]
  },
  {
   "cell_type": "markdown",
   "id": "a0f09ca0-2e6f-4549-902f-3cbc458a112f",
   "metadata": {},
   "source": [
    "# Flights Dataset\n",
    "\n",
    "## Ex. 1 - Removing columns and rows\n",
    "\n",
    "You previously loaded airline flight data from a CSV file. You're going to develop a model which will predict whether or not a given flight will be delayed.\n",
    "\n",
    "In this exercise you need to trim those data down by:\n",
    "- removing an uninformative column and\n",
    "- removing rows which do not have information about whether or not a flight was delayed.\n",
    "\n",
    "**Instructions:**\n",
    "\n",
    "1. Remove the `flight` column.\n",
    "2. Find out how many records have missing values in the delay column.\n",
    "3. Remove records with missing values in the delay column.\n",
    "4. Remove records with missing values in any column and get the number of remaining rows."
   ]
  },
  {
   "cell_type": "code",
   "execution_count": 22,
   "id": "b63eac5e-b4d1-4f10-8d13-ab84e4cbcd06",
   "metadata": {},
   "outputs": [
    {
     "name": "stdout",
     "output_type": "stream",
     "text": [
      "Missing delay row count: 2978\n",
      "47022\n"
     ]
    }
   ],
   "source": [
    "# Loading the data\n",
    "df_flights = flights_data.select('*')\n",
    "\n",
    "# Remove the 'flight' column\n",
    "df_flights = df_flights.drop('flight')\n",
    "\n",
    "# Number of records with missing 'delay' values\n",
    "missing_delay = df_flights.filter('delay IS NULL').count()\n",
    "print('Missing delay row count:', missing_delay)\n",
    "\n",
    "# Remove records with missing 'delay' values\n",
    "df_flights = df_flights.filter('delay IS NOT NULL')\n",
    "\n",
    "# Remove records with missing values in any column and get the number of remaining rows\n",
    "df_flights = df_flights.dropna()\n",
    "print(df_flights.count())"
   ]
  },
  {
   "cell_type": "markdown",
   "id": "73d58f3d-2701-45b9-a09c-c9cbb0642fee",
   "metadata": {},
   "source": [
    "## Ex. 2 - Column manipulation\n",
    "The Federal Aviation Administration (FAA) considers a flight to be \"delayed\" when it arrives 15 minutes or more after its scheduled time.\n",
    "\n",
    "The next step of preparing the flight data has two parts:\n",
    "- convert the units of distance, replacing the mile column with a kmcolumn; and\n",
    "- create a Boolean column indicating whether or not a flight was delayed.\n",
    "\n",
    "**Instructions:**\n",
    "\n",
    "1. Import a function which will allow you to `round` a number to a specific number of decimal places.\n",
    "2. Derive a new `km` column from the `mile` column, rounding to zero decimal places. One mile is `1.60934` km.\n",
    "3. Remove the `mile` column.\n",
    "4. Create a `label` column with a value of `1` indicating the `delay` was `15` minutes or more and `0` otherwise. Think carefully about the logical condition."
   ]
  },
  {
   "cell_type": "code",
   "execution_count": 23,
   "id": "0957732a-4e11-48da-a7e4-cbb8231af0be",
   "metadata": {},
   "outputs": [
    {
     "name": "stdout",
     "output_type": "stream",
     "text": [
      "+---+---+---+-------+---+------+--------+-----+------+-----+\n",
      "|mon|dom|dow|carrier|org|depart|duration|delay|    km|label|\n",
      "+---+---+---+-------+---+------+--------+-----+------+-----+\n",
      "|  0| 22|  2|     UA|ORD| 16.33|      82|   30| 509.0|    1|\n",
      "|  2| 20|  4|     UA|SFO|  6.17|      82|   -8| 542.0|    0|\n",
      "|  9| 13|  1|     AA|ORD| 10.33|     195|   -5|1989.0|    0|\n",
      "|  5|  2|  1|     UA|SFO|  7.98|     102|    2| 885.0|    0|\n",
      "|  7|  2|  6|     AA|ORD| 10.83|     135|   54|1180.0|    1|\n",
      "+---+---+---+-------+---+------+--------+-----+------+-----+\n",
      "only showing top 5 rows\n",
      "\n"
     ]
    }
   ],
   "source": [
    "# Convert 'mile' to 'km' and drop 'mile' column (1 mile is equivalent to 1.60934 km)\n",
    "df_flights = df_flights.withColumn('km', F.round(df_flights['mile'] * 1.60934, 0)) \\\n",
    "                       .drop('mile')\n",
    "\n",
    "# Create 'label' column indicating whether flight delayed (1) or not (0)\n",
    "df_flights = df_flights.withColumn('label', (df_flights['delay']>=15).cast('integer'))\n",
    "\n",
    "# Check first five records\n",
    "df_flights.show(5)"
   ]
  },
  {
   "cell_type": "markdown",
   "id": "b09f4e75-76de-4709-af1e-26103a5cf8d6",
   "metadata": {},
   "source": [
    "## Ex. 3 - Categorical columns\n",
    "\n",
    "In the flights data there are two columns, `carrier` and `org`, which hold categorical data. You need to transform those columns into indexed numerical values.\n",
    "\n",
    "**Instructions:**\n",
    "\n",
    "1. Import the appropriate class and create an indexer object to transform the carrier column from a string to an numeric index.\n",
    "2. Prepare the indexer object on the `flight` data.\n",
    "3. Use the prepared indexer to create the numeric index column.\n",
    "4. Repeat the process for the `org` column."
   ]
  },
  {
   "cell_type": "code",
   "execution_count": 24,
   "id": "3502b04f-6116-4f59-bc28-f798885814c2",
   "metadata": {},
   "outputs": [
    {
     "name": "stdout",
     "output_type": "stream",
     "text": [
      "+---+---+---+-------+---+------+--------+-----+------+-----+-----------+-------+\n",
      "|mon|dom|dow|carrier|org|depart|duration|delay|    km|label|carrier_idx|org_idx|\n",
      "+---+---+---+-------+---+------+--------+-----+------+-----+-----------+-------+\n",
      "|  0| 22|  2|     UA|ORD| 16.33|      82|   30| 509.0|    1|        0.0|    0.0|\n",
      "|  2| 20|  4|     UA|SFO|  6.17|      82|   -8| 542.0|    0|        0.0|    1.0|\n",
      "|  9| 13|  1|     AA|ORD| 10.33|     195|   -5|1989.0|    0|        1.0|    0.0|\n",
      "|  5|  2|  1|     UA|SFO|  7.98|     102|    2| 885.0|    0|        0.0|    1.0|\n",
      "|  7|  2|  6|     AA|ORD| 10.83|     135|   54|1180.0|    1|        1.0|    0.0|\n",
      "+---+---+---+-------+---+------+--------+-----+------+-----+-----------+-------+\n",
      "only showing top 5 rows\n",
      "\n"
     ]
    }
   ],
   "source": [
    "# Create an indexer\n",
    "indexer_flights = StringIndexer(inputCol='carrier', outputCol='carrier_idx')\n",
    "\n",
    "# Indexer identifies categories in the data\n",
    "indexer_flights = indexer_flights.fit(df_flights)\n",
    "\n",
    "# Indexer creates a new column with numeric index values\n",
    "df_flights = indexer_flights.transform(df_flights)\n",
    "\n",
    "# Repeat the process for the other categorical feature\n",
    "df_flights = StringIndexer(inputCol='org', outputCol='org_idx').fit(df_flights).transform(df_flights)\n",
    "df_flights.show(5)"
   ]
  },
  {
   "cell_type": "markdown",
   "id": "a6297cfb-c893-4655-8008-ad1e70df63db",
   "metadata": {},
   "source": [
    "## Ex. 4 - Assembling columns\n",
    "\n",
    "The final stage of data preparation is to consolidate all of the predictor columns into a single column.\n",
    "\n",
    "We are going to use the following predictor columns:\n",
    "- mon, dom and dow\n",
    "- carrier_idx (indexed value from carrier)\n",
    "- org_idx (indexed value from org)\n",
    "- km\n",
    "- depart\n",
    "- duration\n",
    "\n",
    "**Instructions:**\n",
    "\n",
    "1. Import the class which will assemble the predictors.\n",
    "2. Create an assembler object that will allow you to merge the predictors columns into a single column.\n",
    "3. Use the assembler to generate a new consolidated column."
   ]
  },
  {
   "cell_type": "code",
   "execution_count": 25,
   "id": "3d876024-79f0-40bd-8a37-4a38831ef517",
   "metadata": {},
   "outputs": [
    {
     "name": "stdout",
     "output_type": "stream",
     "text": [
      "+-----------------------------------------+-----+-----+\n",
      "|features                                 |delay|label|\n",
      "+-----------------------------------------+-----+-----+\n",
      "|[0.0,22.0,2.0,0.0,0.0,509.0,16.33,82.0]  |30   |1    |\n",
      "|[2.0,20.0,4.0,0.0,1.0,542.0,6.17,82.0]   |-8   |0    |\n",
      "|[9.0,13.0,1.0,1.0,0.0,1989.0,10.33,195.0]|-5   |0    |\n",
      "|[5.0,2.0,1.0,0.0,1.0,885.0,7.98,102.0]   |2    |0    |\n",
      "|[7.0,2.0,6.0,1.0,0.0,1180.0,10.83,135.0] |54   |1    |\n",
      "+-----------------------------------------+-----+-----+\n",
      "only showing top 5 rows\n",
      "\n"
     ]
    }
   ],
   "source": [
    "# Create an assembler object\n",
    "feature_cols_flights = ['mon', 'dom', 'dow', 'carrier_idx', 'org_idx', \n",
    "                        'km', 'depart', 'duration']\n",
    "assembler_flights = VectorAssembler(inputCols=feature_cols_flights, outputCol='features')\n",
    "\n",
    "# Consolidate predictor columns\n",
    "df_flights = assembler_flights.transform(df_flights)\n",
    "\n",
    "# Check the resulting column\n",
    "df_flights.select('features', 'delay', 'label').show(5, truncate=False)"
   ]
  },
  {
   "cell_type": "markdown",
   "id": "e503abd4-5888-42c5-b75f-9c114a4d3b6e",
   "metadata": {},
   "source": [
    "## Ex. 5 - Train/test split\n",
    "\n",
    "To objectively assess a Machine Learning model you need to be able to test it on an independent set of data. You can't use the same data that you used to train the model: of course the model will perform (relatively) well on those data!\n",
    "\n",
    "You will split the data into two components:\n",
    "- training data (used to train the model) and\n",
    "- testing data (used to test the model).\n",
    "\n",
    "**Instructions:**\n",
    "\n",
    "1. Randomly split the flights data into two sets with `80:20` proportions. For repeatability set a random number seed of `SEED` for the split.\n",
    "2.  Check that the training data has roughly `80%` of the records from the original data."
   ]
  },
  {
   "cell_type": "code",
   "execution_count": 26,
   "id": "742419b2-de1b-429a-b1e9-38a479a8aa9a",
   "metadata": {},
   "outputs": [
    {
     "name": "stdout",
     "output_type": "stream",
     "text": [
      "Proportion of the training set: 0.7996469737569648\n",
      "+---+---+---+-------+---+------+--------+-----+------+-----+-----------+-------+--------------------+\n",
      "|mon|dom|dow|carrier|org|depart|duration|delay|    km|label|carrier_idx|org_idx|            features|\n",
      "+---+---+---+-------+---+------+--------+-----+------+-----+-----------+-------+--------------------+\n",
      "|  0|  1|  2|     AA|JFK|  6.58|     230|   50|2570.0|    1|        1.0|    2.0|[0.0,1.0,2.0,1.0,...|\n",
      "|  0|  1|  2|     AA|JFK|   7.0|     385|  -16|4162.0|    0|        1.0|    2.0|[0.0,1.0,2.0,1.0,...|\n",
      "|  0|  1|  2|     AA|JFK|  17.0|     379|  -10|3983.0|    0|        1.0|    2.0|[0.0,1.0,2.0,1.0,...|\n",
      "+---+---+---+-------+---+------+--------+-----+------+-----+-----------+-------+--------------------+\n",
      "only showing top 3 rows\n",
      "\n"
     ]
    }
   ],
   "source": [
    "# Split into training and testing sets in a 80:20 ratio\n",
    "df_flights_train, df_flights_test = df_flights.randomSplit([0.8, 0.2], seed=SEED)\n",
    "\n",
    "# Check that training set has around 80% of records\n",
    "df_flights_training_ratio = df_flights_train.count() / df_flights.count()\n",
    "print('Proportion of the training set:', df_flights_training_ratio)\n",
    "df_flights_train.show(3)"
   ]
  },
  {
   "cell_type": "markdown",
   "id": "7888e8c4-0250-496e-ad03-66c84b647366",
   "metadata": {},
   "source": [
    "## Ex. 6 - Build a Decision Tree\n",
    "\n",
    "Now that you've split the flights data into training and testing sets, you can use the training set to fit a Decision Tree model.\n",
    "\n",
    "**Instructions:**\n",
    "\n",
    "1. Import the class for creating a Decision Tree classifier.\n",
    "2. Create a classifier object and fit it to the training data.\n",
    "3. Make predictions for the testing data and take a look at the predictions."
   ]
  },
  {
   "cell_type": "code",
   "execution_count": 27,
   "id": "cb42bd3e-48c3-44e0-b353-8df38b0b4f52",
   "metadata": {},
   "outputs": [
    {
     "name": "stdout",
     "output_type": "stream",
     "text": [
      "+-----+----+---------------------------------------+\n",
      "|label|pred|probability                            |\n",
      "+-----+----+---------------------------------------+\n",
      "|0    |1.0 |[0.3568441766080433,0.6431558233919568]|\n",
      "|0    |1.0 |[0.3568441766080433,0.6431558233919568]|\n",
      "|1    |1.0 |[0.3568441766080433,0.6431558233919568]|\n",
      "|1    |0.0 |[0.5779060181368508,0.4220939818631492]|\n",
      "|1    |1.0 |[0.3568441766080433,0.6431558233919568]|\n",
      "+-----+----+---------------------------------------+\n",
      "only showing top 5 rows\n",
      "\n"
     ]
    }
   ],
   "source": [
    "# Create a classifier object and fit to the training data\n",
    "tree_model_flights = DecisionTreeClassifier(featuresCol='features', \n",
    "                                            labelCol='label',\n",
    "                                            predictionCol='pred', \n",
    "                                            seed=SEED)\n",
    "tree_model_flights = tree_model_flights.fit(df_flights_train)\n",
    "\n",
    "# Create predictions for the testing data and take a look at the predictions\n",
    "df_flights_pred_tree = tree_model_flights.transform(df_flights_test)\n",
    "df_flights_pred_tree.select('label', 'pred', 'probability').show(5, False)"
   ]
  },
  {
   "cell_type": "markdown",
   "id": "cb6c8843-16cb-4e7e-8322-1d879c555a97",
   "metadata": {},
   "source": [
    "## Ex. 7 - Evaluate the Decision Tree\n",
    "\n",
    "You can assess the quality of your model by evaluating how well it performs on the testing data. Because the model was not trained on these data, this represents an objective assessment of the model.\n",
    "\n",
    "A confusion matrix gives a useful breakdown of predictions versus known values. It has four cells which represent the counts of:\n",
    "- True Negatives (TN) — model predicts negative outcome & known outcome is negative\n",
    "- True Positives (TP) — model predicts positive outcome & known outcome is positive\n",
    "- False Negatives (FN) — model predicts negative outcome but known outcome is positive\n",
    "- False Positives (FP) — model predicts positive outcome but known outcome is negative.\n",
    "\n",
    "**Instructions:**\n",
    "\n",
    "1. Create a confusion matrix by counting the combinations of label and prediction. Display the result.\n",
    "2. Count the number of True Negatives, True Positives, False Negatives and False Positives.\n",
    "3. Calculate the accuracy."
   ]
  },
  {
   "cell_type": "code",
   "execution_count": 28,
   "id": "4635930a-8b7f-4ac9-853e-7974ed64b213",
   "metadata": {},
   "outputs": [
    {
     "name": "stdout",
     "output_type": "stream",
     "text": [
      "+-----+----+-----+\n",
      "|label|pred|count|\n",
      "+-----+----+-----+\n",
      "|    1| 0.0| 1374|\n",
      "|    0| 0.0| 2540|\n",
      "|    1| 1.0| 3512|\n",
      "|    0| 1.0| 1995|\n",
      "+-----+----+-----+\n",
      "\n",
      "Accuracy: 0.6423946502494428\n"
     ]
    }
   ],
   "source": [
    "# Create a confusion matrix\n",
    "df_flights_pred_tree.groupBy('label', 'pred').count().show()\n",
    "\n",
    "# Calculate the elements of the confusion matrix\n",
    "TN = df_flights_pred_tree.filter('pred = 0 AND label = 0').count()\n",
    "TP = df_flights_pred_tree.filter('pred = 1 AND label = 1').count()\n",
    "FN = df_flights_pred_tree.filter('pred = 0 AND label = 1').count()\n",
    "FP = df_flights_pred_tree.filter('pred = 1 AND label = 0').count()\n",
    "\n",
    "# Accuracy measures the proportion of correct predictions\n",
    "accuracy_flights = (TN + TP) / (TN + TP + FN + FP)\n",
    "print('Accuracy:', accuracy_flights)"
   ]
  },
  {
   "cell_type": "markdown",
   "id": "c01a29c4-c567-4fee-8ee4-0405331e253e",
   "metadata": {},
   "source": [
    "## Ex. 8 - Build a Logistic Regression model\n",
    "\n",
    "You've already built a Decision Tree model using the flights data. Now you're going to create a Logistic Regression model on the same data. The objective is to predict whether a flight is likely to be delayed by at least 15 minutes (label 1) or not (label 0).\n",
    "\n",
    "**Instructions:**\n",
    "\n",
    "1. Import the class for creating a Logistic Regression classifier.\n",
    "2. Create a classifier object and train it on the training data.\n",
    "3. Make predictions for the testing data and create a confusion matrix."
   ]
  },
  {
   "cell_type": "code",
   "execution_count": 29,
   "id": "a5ecda45-b64a-4d00-aa82-5a7a822688de",
   "metadata": {},
   "outputs": [
    {
     "name": "stdout",
     "output_type": "stream",
     "text": [
      "Accuracy: 0.6147967307079928\n"
     ]
    },
    {
     "data": {
      "text/html": [
       "<div>\n",
       "<style scoped>\n",
       "    .dataframe tbody tr th:only-of-type {\n",
       "        vertical-align: middle;\n",
       "    }\n",
       "\n",
       "    .dataframe tbody tr th {\n",
       "        vertical-align: top;\n",
       "    }\n",
       "\n",
       "    .dataframe thead th {\n",
       "        text-align: right;\n",
       "    }\n",
       "</style>\n",
       "<table border=\"1\" class=\"dataframe\">\n",
       "  <thead>\n",
       "    <tr style=\"text-align: right;\">\n",
       "      <th></th>\n",
       "      <th>label</th>\n",
       "      <th>pred</th>\n",
       "      <th>count</th>\n",
       "    </tr>\n",
       "  </thead>\n",
       "  <tbody>\n",
       "    <tr>\n",
       "      <th>True negative (TN)</th>\n",
       "      <td>0</td>\n",
       "      <td>0.0</td>\n",
       "      <td>2584</td>\n",
       "    </tr>\n",
       "    <tr>\n",
       "      <th>False negative (FN)</th>\n",
       "      <td>1</td>\n",
       "      <td>0.0</td>\n",
       "      <td>1678</td>\n",
       "    </tr>\n",
       "    <tr>\n",
       "      <th>False positive (FP)</th>\n",
       "      <td>0</td>\n",
       "      <td>1.0</td>\n",
       "      <td>1951</td>\n",
       "    </tr>\n",
       "    <tr>\n",
       "      <th>True positive (TP)</th>\n",
       "      <td>1</td>\n",
       "      <td>1.0</td>\n",
       "      <td>3208</td>\n",
       "    </tr>\n",
       "  </tbody>\n",
       "</table>\n",
       "</div>"
      ],
      "text/plain": [
       "                     label  pred  count\n",
       "True negative (TN)       0   0.0   2584\n",
       "False negative (FN)      1   0.0   1678\n",
       "False positive (FP)      0   1.0   1951\n",
       "True positive (TP)       1   1.0   3208"
      ]
     },
     "execution_count": 29,
     "metadata": {},
     "output_type": "execute_result"
    }
   ],
   "source": [
    "# Create a classifier object and train on training data\n",
    "lr_model_flights = LogisticRegression(featuresCol='features',\n",
    "                                      labelCol='label',\n",
    "                                      predictionCol='pred').fit(df_flights_train)\n",
    "\n",
    "# Create predictions for the testing data and show confusion matrix\n",
    "df_flights_pred_lr = lr_model_flights.transform(df_flights_test)\n",
    "\n",
    "# Labels for confussion matrix\n",
    "df_flights_cm_lr = df_flights_pred_lr.groupBy(\"label\", \"pred\").count().toPandas().sort_values([\"pred\", \"label\"])\n",
    "df_flights_cm_lr.index = ['True negative (TN)', 'False negative (FN)',\n",
    "                          'False positive (FP)', 'True positive (TP)']\n",
    "\n",
    "TN, FN, FP, TP = df_flights_cm_lr['count'].to_list()\n",
    "accuracy_cars = (TN + TP) / (TN + TP + FN + FP)\n",
    "print(f'Accuracy: {accuracy_cars}')\n",
    "df_flights_cm_lr"
   ]
  },
  {
   "cell_type": "markdown",
   "id": "84544799-cbdc-40c0-befa-1a8e6e871f15",
   "metadata": {},
   "source": [
    "## Ex. 9 - Evaluate the Logistic Regression model\n",
    "\n",
    "Accuracy is generally not a very reliable metric because it can be biased by the most common target class.\n",
    "\n",
    "There are two other useful metrics:\n",
    "- precision and\n",
    "- recall.\n",
    "\n",
    "Check the slides for this lesson to get the relevant expressions.\n",
    "\n",
    "**Precision** is the proportion of positive predictions which are correct. For all flights which are predicted to be delayed, what proportion is actually delayed?\n",
    "\n",
    "**Recall** is the proportion of positives outcomes which are correctly predicted. For all delayed flights, what proportion is correctly predicted by the model?\n",
    "\n",
    "The precision and recall are generally formulated in terms of the positive target class. But it's also possible to calculate weighted versions of these metrics which look at both target classes.\n",
    "\n",
    "**Instructions:**\n",
    "\n",
    "1. Find the precision and recall.\n",
    "2. Create a multi-class evaluator and evaluate weighted precision.\n",
    "3. Create a binary evaluator and evaluate AUC using the `\"areaUnderROC\"` metric."
   ]
  },
  {
   "cell_type": "code",
   "execution_count": 30,
   "id": "bc3a78c4-0f4c-4195-b728-45b3c2e04150",
   "metadata": {},
   "outputs": [
    {
     "name": "stdout",
     "output_type": "stream",
     "text": [
      "\n",
      "precision = 0.62\n",
      "recall    = 0.66\n",
      "\n",
      "\n",
      "weightedPrecision: 0.6143464789852423\n",
      "              AUC: 0.6537184972838267\n",
      "\n"
     ]
    }
   ],
   "source": [
    "# Calculate precision and recall\n",
    "precision = TP / (TP + FP)\n",
    "recall = TP / (TP + FN)\n",
    "\n",
    "print(f'''\n",
    "precision = {precision:.2f}\n",
    "recall    = {recall:.2f}\n",
    "''')\n",
    "\n",
    "# Find weighted precision\n",
    "multi_evaluator = MulticlassClassificationEvaluator(labelCol='label', predictionCol='pred')\n",
    "weighted_precision = multi_evaluator.evaluate(df_flights_pred_lr, \n",
    "                                              {multi_evaluator.metricName: \"weightedPrecision\"})\n",
    "\n",
    "# Find AUC\n",
    "binary_evaluator = BinaryClassificationEvaluator(labelCol='label')\n",
    "auc = binary_evaluator.evaluate(df_flights_pred_lr, {binary_evaluator.metricName: \"areaUnderROC\"})\n",
    "\n",
    "print(f'''\n",
    "weightedPrecision: {weighted_precision}\n",
    "              AUC: {auc}\n",
    "''')"
   ]
  },
  {
   "cell_type": "markdown",
   "id": "04270d22-099c-4e5f-9eec-9b9d3c7d5219",
   "metadata": {},
   "source": [
    "# Book Dataset\n",
    "\n",
    "## Turning Text into Tables\n",
    "\n",
    "### Removing punctuation"
   ]
  },
  {
   "cell_type": "code",
   "execution_count": 31,
   "id": "03e659fe-970d-4a43-8eb1-c267a966e6b9",
   "metadata": {},
   "outputs": [
    {
     "name": "stdout",
     "output_type": "stream",
     "text": [
      "+---+-----------------------------+-----------------------------+---------------------------+\n",
      "| id|                         text|             raw_without_punc|          text_without_punc|\n",
      "+---+-----------------------------+-----------------------------+---------------------------+\n",
      "|  0|Forever, or a Long, Long Time|Forever  or a Long  Long Time|Forever or a Long Long Time|\n",
      "|  1|              Winnie-the-Pooh|              Winnie the Pooh|            Winnie the Pooh|\n",
      "+---+-----------------------------+-----------------------------+---------------------------+\n",
      "only showing top 2 rows\n",
      "\n"
     ]
    }
   ],
   "source": [
    "# Regular expression (REGEX) to match commas and hyphens\n",
    "df_books = books_data.select('*')\n",
    "REGEX = '[,\\\\-]'\n",
    "df_books = df_books.withColumn('raw_without_punc', F.regexp_replace(df_books.text, REGEX, ' '))\n",
    "df_books = df_books.withColumn('text_without_punc', \n",
    "                               F.regexp_replace(df_books.raw_without_punc, ' +', ' '))\n",
    "df_books.show(2, truncate=100)"
   ]
  },
  {
   "cell_type": "markdown",
   "id": "95701122-143a-4cd4-b5f6-997c08f9c58f",
   "metadata": {},
   "source": [
    "### Text to tokens"
   ]
  },
  {
   "cell_type": "code",
   "execution_count": 32,
   "id": "cba80293-0cb6-426b-8855-a90bbd43901c",
   "metadata": {},
   "outputs": [
    {
     "name": "stdout",
     "output_type": "stream",
     "text": [
      "+---+-------------------------+-------------------------+-------------------------+-------------------------+\n",
      "| id|                     text|         raw_without_punc|        text_without_punc|                   tokens|\n",
      "+---+-------------------------+-------------------------+-------------------------+-------------------------+\n",
      "|  0|Forever, or a Long, Lo...|Forever  or a Long  Lo...|Forever or a Long Long...|[forever, or, a, long,...|\n",
      "|  1|          Winnie-the-Pooh|          Winnie the Pooh|          Winnie the Pooh|      [winnie, the, pooh]|\n",
      "+---+-------------------------+-------------------------+-------------------------+-------------------------+\n",
      "only showing top 2 rows\n",
      "\n"
     ]
    }
   ],
   "source": [
    "df_books = df_books.drop('tokens')\n",
    "df_books = Tokenizer(inputCol=\"text_without_punc\", outputCol=\"tokens\").transform(df_books)\n",
    "df_books.show(2, truncate=25)"
   ]
  },
  {
   "cell_type": "markdown",
   "id": "63cd0c24-fee6-44e3-92a5-09ba6bfecdfa",
   "metadata": {},
   "source": [
    "### What are stop words?"
   ]
  },
  {
   "cell_type": "code",
   "execution_count": 33,
   "id": "52027915-df94-4bc8-84f3-7b7c58410d97",
   "metadata": {},
   "outputs": [
    {
     "name": "stdout",
     "output_type": "stream",
     "text": [
      "['i', 'me', 'my', 'myself', 'we', 'our', 'ours', 'ourselves', 'you', 'your', 'yours', 'yourself', 'yourselves', 'he', 'him', 'his', 'himself', 'she', 'her', 'hers', 'herself', 'it', 'its', 'itself', 'they', 'them', 'their', 'theirs', 'themselves', 'what', 'which', 'who', 'whom', 'this', 'that', 'these', 'those', 'am', 'is', 'are', 'was', 'were', 'be', 'been', 'being', 'have', 'has', 'had', 'having', 'do', 'does', 'did', 'doing', 'a', 'an', 'the', 'and', 'but', 'if', 'or', 'because', 'as', 'until', 'while', 'of', 'at', 'by', 'for', 'with', 'about', 'against', 'between', 'into', 'through', 'during', 'before', 'after', 'above', 'below', 'to', 'from', 'up', 'down', 'in', 'out', 'on', 'off', 'over', 'under', 'again', 'further', 'then', 'once', 'here', 'there', 'when', 'where', 'why', 'how', 'all', 'any', 'both', 'each', 'few', 'more', 'most', 'other', 'some', 'such', 'no', 'nor', 'not', 'only', 'own', 'same', 'so', 'than', 'too', 'very', 's', 't', 'can', 'will', 'just', 'don', 'should', 'now', \"i'll\", \"you'll\", \"he'll\", \"she'll\", \"we'll\", \"they'll\", \"i'd\", \"you'd\", \"he'd\", \"she'd\", \"we'd\", \"they'd\", \"i'm\", \"you're\", \"he's\", \"she's\", \"it's\", \"we're\", \"they're\", \"i've\", \"we've\", \"you've\", \"they've\", \"isn't\", \"aren't\", \"wasn't\", \"weren't\", \"haven't\", \"hasn't\", \"hadn't\", \"don't\", \"doesn't\", \"didn't\", \"won't\", \"wouldn't\", \"shan't\", \"shouldn't\", \"mustn't\", \"can't\", \"couldn't\", 'cannot', 'could', \"here's\", \"how's\", \"let's\", 'ought', \"that's\", \"there's\", \"what's\", \"when's\", \"where's\", \"who's\", \"why's\", 'would']\n"
     ]
    }
   ],
   "source": [
    "stopwords = StopWordsRemover()\n",
    "stops = stopwords.getStopWords()\n",
    "print(stops)"
   ]
  },
  {
   "cell_type": "markdown",
   "id": "3c37aabc-b988-4a2f-8bb5-cecae993eb4f",
   "metadata": {},
   "source": [
    "### Removing stop words"
   ]
  },
  {
   "cell_type": "code",
   "execution_count": 34,
   "id": "7e3e97c5-1c73-4da1-bce9-923a9964ee69",
   "metadata": {},
   "outputs": [
    {
     "name": "stdout",
     "output_type": "stream",
     "text": [
      "+---+--------------------+--------------------+--------------------+--------------------+--------------------+\n",
      "| id|                text|    raw_without_punc|   text_without_punc|              tokens|               words|\n",
      "+---+--------------------+--------------------+--------------------+--------------------+--------------------+\n",
      "|  0|Forever, or a Lon...|Forever  or a Lon...|Forever or a Long...|[forever, or, a, ...|[forever, long, l...|\n",
      "|  1|     Winnie-the-Pooh|     Winnie the Pooh|     Winnie the Pooh| [winnie, the, pooh]|      [winnie, pooh]|\n",
      "+---+--------------------+--------------------+--------------------+--------------------+--------------------+\n",
      "only showing top 2 rows\n",
      "\n"
     ]
    }
   ],
   "source": [
    "# Specify the input and output column names\n",
    "df_books = df_books.drop('words')\n",
    "stopwords = stopwords.setInputCol('tokens').setOutputCol('words')\n",
    "df_books = stopwords.transform(df_books)\n",
    "df_books.show(2, truncate=20)"
   ]
  },
  {
   "cell_type": "markdown",
   "id": "37e0e267-5a1a-4850-8b3f-d0a00915f063",
   "metadata": {},
   "source": [
    "### Feature hashing"
   ]
  },
  {
   "cell_type": "code",
   "execution_count": 35,
   "id": "c43cbfa1-ee6f-410c-982c-d2b2d3db795a",
   "metadata": {},
   "outputs": [
    {
     "name": "stdout",
     "output_type": "stream",
     "text": [
      "+---+-----------------+-----------------+-----------------+-----------------+-----------------+-----------------+\n",
      "| id|             text| raw_without_punc|text_without_punc|           tokens|            words|             hash|\n",
      "+---+-----------------+-----------------+-----------------+-----------------+-----------------+-----------------+\n",
      "|  0|Forever, or a ...|Forever  or a ...|Forever or a L...|[forever, or, ...|[forever, long...|(32,[8,13],[2....|\n",
      "|  1|  Winnie-the-Pooh|  Winnie the Pooh|  Winnie the Pooh|[winnie, the, ...|   [winnie, pooh]|(32,[24,31],[1...|\n",
      "+---+-----------------+-----------------+-----------------+-----------------+-----------------+-----------------+\n",
      "only showing top 2 rows\n",
      "\n"
     ]
    }
   ],
   "source": [
    "df_books = df_books.drop('hash')\n",
    "hasher = HashingTF(inputCol=\"words\", outputCol=\"hash\", numFeatures=32)\n",
    "df_books = hasher.transform(df_books)\n",
    "df_books.show(2, truncate=17)"
   ]
  },
  {
   "cell_type": "markdown",
   "id": "26066f36-6bd6-4d5e-9fab-751f6613db79",
   "metadata": {},
   "source": [
    "### Dealing with common words"
   ]
  },
  {
   "cell_type": "code",
   "execution_count": 36,
   "id": "f458aece-7253-4822-9a87-f7e4487c5ba3",
   "metadata": {},
   "outputs": [
    {
     "name": "stdout",
     "output_type": "stream",
     "text": [
      "+---+------------+----------------+-----------------+------------+------------+------------+------------+\n",
      "| id|        text|raw_without_punc|text_without_punc|      tokens|       words|        hash|    features|\n",
      "+---+------------+----------------+-----------------+------------+------------+------------+------------+\n",
      "|  0|Forever, ...|    Forever  ...|     Forever o...|[forever,...|[forever,...|(32,[8,13...|(32,[8,13...|\n",
      "|  1|Winnie-th...|    Winnie th...|     Winnie th...|[winnie, ...|[winnie, ...|(32,[24,3...|(32,[24,3...|\n",
      "+---+------------+----------------+-----------------+------------+------------+------------+------------+\n",
      "only showing top 2 rows\n",
      "\n"
     ]
    }
   ],
   "source": [
    "df_books = df_books.drop('features')\n",
    "df_books = IDF(inputCol=\"hash\", outputCol=\"features\").fit(df_books).transform(df_books)\n",
    "df_books.show(2, truncate=12)"
   ]
  },
  {
   "cell_type": "markdown",
   "id": "1d43c0a9-f795-4696-9f85-874a6d0c7055",
   "metadata": {},
   "source": [
    "# SMS Dataset"
   ]
  },
  {
   "cell_type": "markdown",
   "id": "e7d1c319-93c9-4e5f-a7b5-a5f667d8a1dd",
   "metadata": {},
   "source": [
    "## Ex. 10 - Punctuation, numbers and tokens\n",
    "\n",
    "At the end of the previous chapter you loaded a dataset of SMS messages which had been labeled as either \"spam\" (label 1) or \"ham\" (label 0). You're now going to use those data to build a classifier model.\n",
    "\n",
    "But first you'll need to prepare the SMS messages as follows:\n",
    "- remove punctuation and numbers\n",
    "- tokenize (split into individual words)\n",
    "- remove stop words\n",
    "- apply the hashing trick\n",
    "- convert to TF-IDF representation.\n",
    "\n",
    "In this exercise you'll remove punctuation and numbers, then tokenize the messages.\n",
    "\n",
    "**Instructions:**\n",
    "\n",
    "1. Import the function to replace regular expressions and the feature to tokenize. (`regexp_replace`, `Tokenizer`: Already done!)\n",
    "2. Replace all punctuation characters from the text column with a space. Do the same for all numbers in the text column.\n",
    "3. Split the text column into tokens. Name the output column words."
   ]
  },
  {
   "cell_type": "code",
   "execution_count": 37,
   "id": "f392ee5e-1f28-477c-a98e-203d72e4b127",
   "metadata": {},
   "outputs": [
    {
     "name": "stdout",
     "output_type": "stream",
     "text": [
      "+---+------------------------------+-----+------------------------------+------------------------------+\n",
      "| id|                          text|label|                    fixed_text|                         words|\n",
      "+---+------------------------------+-----+------------------------------+------------------------------+\n",
      "|  1|Sorry, I'll call later in m...|    0|Sorry I'll call later in me...|[sorry, i'll, call, later, ...|\n",
      "|  2|Dont worry. I guess he's busy.|    0| Dont worry I guess he's busy |[dont, worry, i, guess, he'...|\n",
      "|  3|Call FREEPHONE 0800 542 057...|    1|           Call FREEPHONE now |        [call, freephone, now]|\n",
      "|  4|Win a 1000 cash prize or a ...|    1|Win a cash prize or a prize...|[win, a, cash, prize, or, a...|\n",
      "|  5|Go until jurong point, craz...|    0|Go until jurong point crazy...|[go, until, jurong, point, ...|\n",
      "+---+------------------------------+-----+------------------------------+------------------------------+\n",
      "only showing top 5 rows\n",
      "\n"
     ]
    }
   ],
   "source": [
    "# Loading data\n",
    "df_sms = sms_data.select('*')\n",
    "\n",
    "# Remove punctuation (REGEX provided) and numbers\n",
    "df_sms = df_sms.withColumn('fixed_text', F.regexp_replace(df_sms.text, '[_():;,.!?\\\\-]', ' '))\n",
    "df_sms = df_sms.withColumn('fixed_text', F.regexp_replace(df_sms.fixed_text, '\\d', ' '))\n",
    "\n",
    "# Merge multiple spaces\n",
    "df_sms = df_sms.withColumn('fixed_text', F.regexp_replace(df_sms.fixed_text, ' +', ' '))\n",
    "\n",
    "# Split the fixed_text into words\n",
    "df_sms = Tokenizer(inputCol='fixed_text', outputCol='words').transform(df_sms)\n",
    "\n",
    "df_sms.show(5, truncate=30)"
   ]
  },
  {
   "cell_type": "markdown",
   "id": "8381c3b7-68f7-436a-a34e-570e682c0d74",
   "metadata": {},
   "source": [
    "## Ex. 11 - Stop words and hashing\n",
    "\n",
    "The next steps will be to remove stop words and then apply the hashing trick, converting the results into a TF-IDF.\n",
    "\n",
    "A quick reminder about these concepts:\n",
    "- The hashing trick provides a fast and space-efficient way to map a very large (possibly infinite) set of items (in this case, all words contained in the SMS messages) onto a smaller, finite number of values.\n",
    "- The TF-IDF matrix reflects how important a word is to each document. It takes into account both the frequency of the word within each document but also the frequency of the word across all of the documents in the collection.\n",
    "- The tokenized SMS data are stored in sms in a column named words. You've cleaned up the handling of spaces in the data so that the tokenized text is neater.\n",
    "\n",
    "**Instructions:**\n",
    "\n",
    "1. Import the `StopWordsRemover`, `HashingTF` and `IDF` classes. Already done!.\n",
    "2. Create a `StopWordsRemover` object (input column `words`, output column `terms`).\n",
    "3. Create a `HashingTF` object (input results from previous step, output column `hash`).\n",
    "4. Create an `IDF` object (input results from previous step, output column `features`)."
   ]
  },
  {
   "cell_type": "code",
   "execution_count": 38,
   "id": "9090016d-ba66-40b1-99d9-5a2889f4384d",
   "metadata": {},
   "outputs": [
    {
     "name": "stdout",
     "output_type": "stream",
     "text": [
      "+---+----------+-----+----------+----------+----------+----------+----------+\n",
      "| id|      text|label|fixed_text|     words|     terms|      hash|  features|\n",
      "+---+----------+-----+----------+----------+----------+----------+----------+\n",
      "|  1|Sorry, ...|    0|Sorry I...|[sorry,...|[sorry,...|(1024,[...|(1024,[...|\n",
      "|  2|Dont wo...|    0|Dont wo...|[dont, ...|[dont, ...|(1024,[...|(1024,[...|\n",
      "|  3|Call FR...|    1|Call FR...|[call, ...|[call, ...|(1024,[...|(1024,[...|\n",
      "|  4|Win a 1...|    1|Win a c...|[win, a...|[win, c...|(1024,[...|(1024,[...|\n",
      "+---+----------+-----+----------+----------+----------+----------+----------+\n",
      "only showing top 4 rows\n",
      "\n"
     ]
    }
   ],
   "source": [
    "df_sms = df_sms.drop(*['terms', 'hash', 'features'])\n",
    "\n",
    "# Remove stop words.\n",
    "df_sms = StopWordsRemover(inputCol='words', outputCol='terms').transform(df_sms)\n",
    "\n",
    "# Apply the hashing trick\n",
    "df_sms = HashingTF(inputCol=\"terms\", outputCol=\"hash\", numFeatures=1024).transform(df_sms)\n",
    "\n",
    "# Convert hashed symbols to TF-IDF\n",
    "df_sms = IDF(inputCol=\"hash\", outputCol=\"features\").fit(df_sms).transform(df_sms)\n",
    "      \n",
    "df_sms.show(4, truncate=10)"
   ]
  },
  {
   "cell_type": "markdown",
   "id": "3c9c0526-8249-4091-a298-d576631a37d6",
   "metadata": {},
   "source": [
    "## Ex. 12 - Training a spam classifier\n",
    "\n",
    "The `SMS` data have now been prepared for building a classifier. Specifically, this is what you have done:\n",
    "- removed numbers and punctuation\n",
    "- split the messages into words (or \"tokens\")\n",
    "- removed stop words\n",
    "- applied the hashing trick and\n",
    "- converted to a TF-IDF representation.\n",
    "\n",
    "Next you'll need to split the TF-IDF data into training and testing sets. Then you'll use the training data to fit a Logistic Regression model and finally evaluate the performance of that model on the testing data.\n",
    "\n",
    "**Instructions:**\n",
    "\n",
    "1. Split the data into training and testing sets in a `4:1` ratio. Set the random number seed to `SEED` to ensure repeatability.\n",
    "2. Create a `LogisticRegression` object and fit it to the training data.\n",
    "3. Generate predictions on the testing data.\n",
    "4. Use the predictions to form a confusion matrix."
   ]
  },
  {
   "cell_type": "code",
   "execution_count": 39,
   "id": "6e45c8eb-0ef1-4005-b60d-830a2658ecf3",
   "metadata": {},
   "outputs": [
    {
     "name": "stdout",
     "output_type": "stream",
     "text": [
      "Accuracy: 0.9561157796451915\n"
     ]
    },
    {
     "data": {
      "text/html": [
       "<div>\n",
       "<style scoped>\n",
       "    .dataframe tbody tr th:only-of-type {\n",
       "        vertical-align: middle;\n",
       "    }\n",
       "\n",
       "    .dataframe tbody tr th {\n",
       "        vertical-align: top;\n",
       "    }\n",
       "\n",
       "    .dataframe thead th {\n",
       "        text-align: right;\n",
       "    }\n",
       "</style>\n",
       "<table border=\"1\" class=\"dataframe\">\n",
       "  <thead>\n",
       "    <tr style=\"text-align: right;\">\n",
       "      <th></th>\n",
       "      <th>label</th>\n",
       "      <th>prediction</th>\n",
       "      <th>count</th>\n",
       "    </tr>\n",
       "  </thead>\n",
       "  <tbody>\n",
       "    <tr>\n",
       "      <th>True negative (TN)</th>\n",
       "      <td>0</td>\n",
       "      <td>0.0</td>\n",
       "      <td>928</td>\n",
       "    </tr>\n",
       "    <tr>\n",
       "      <th>False negative (FN)</th>\n",
       "      <td>1</td>\n",
       "      <td>0.0</td>\n",
       "      <td>46</td>\n",
       "    </tr>\n",
       "    <tr>\n",
       "      <th>False positive (FP)</th>\n",
       "      <td>0</td>\n",
       "      <td>1.0</td>\n",
       "      <td>1</td>\n",
       "    </tr>\n",
       "    <tr>\n",
       "      <th>True positive (TP)</th>\n",
       "      <td>1</td>\n",
       "      <td>1.0</td>\n",
       "      <td>96</td>\n",
       "    </tr>\n",
       "  </tbody>\n",
       "</table>\n",
       "</div>"
      ],
      "text/plain": [
       "                     label  prediction  count\n",
       "True negative (TN)       0         0.0    928\n",
       "False negative (FN)      1         0.0     46\n",
       "False positive (FP)      0         1.0      1\n",
       "True positive (TP)       1         1.0     96"
      ]
     },
     "execution_count": 39,
     "metadata": {},
     "output_type": "execute_result"
    }
   ],
   "source": [
    "# Split the data into training and testing sets\n",
    "df_sms_train, df_sms_test = df_sms.randomSplit([0.80, 0.20], seed=SEED)\n",
    "\n",
    "# Fit a Logistic Regression model to the training data\n",
    "sms_model_lr = LogisticRegression(regParam=0.2).fit(df_sms_train)\n",
    "\n",
    "# Make predictions on the testing data\n",
    "df_sms_cm_lr = sms_model_lr.transform(df_sms_test)\n",
    "\n",
    "# Create a confusion matrix, comparing predictions to known labels\n",
    "df_sms_cm_lr = df_sms_cm_lr.groupBy(\"label\", \"prediction\").count().toPandas().sort_values([\"prediction\", \"label\"])\n",
    "df_sms_cm_lr.index = ['True negative (TN)', 'False negative (FN)',\n",
    "                      'False positive (FP)', 'True positive (TP)']\n",
    "TN, FN, FP, TP = df_sms_cm_lr['count'].to_list()\n",
    "accuracy_sms = (TN + TP) / (TN + TP + FN + FP)\n",
    "print(f'Accuracy: {accuracy_sms}')\n",
    "df_sms_cm_lr"
   ]
  },
  {
   "cell_type": "markdown",
   "id": "3f1bfcef-d3b7-45e6-bee3-784106b2fa99",
   "metadata": {},
   "source": [
    "# Close session"
   ]
  },
  {
   "cell_type": "code",
   "execution_count": 40,
   "id": "8ebc4ec7-959d-469e-ae7c-7e706ea129ce",
   "metadata": {},
   "outputs": [],
   "source": [
    "spark.stop()"
   ]
  }
 ],
 "metadata": {
  "kernelspec": {
   "display_name": "Python 3 (ipykernel)",
   "language": "python",
   "name": "python3"
  },
  "language_info": {
   "codemirror_mode": {
    "name": "ipython",
    "version": 3
   },
   "file_extension": ".py",
   "mimetype": "text/x-python",
   "name": "python",
   "nbconvert_exporter": "python",
   "pygments_lexer": "ipython3",
   "version": "3.11.9"
  }
 },
 "nbformat": 4,
 "nbformat_minor": 5
}
